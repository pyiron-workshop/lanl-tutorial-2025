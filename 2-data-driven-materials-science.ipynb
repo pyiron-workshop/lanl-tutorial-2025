{
 "cells": [
  {
   "cell_type": "markdown",
   "id": "b90b901f-a811-4abb-afcd-8738cb0e401c",
   "metadata": {},
   "source": [
    "# Beyond a single LAMMPS calculation"
   ]
  },
  {
   "cell_type": "markdown",
   "id": "caa55036-9716-47a5-94b6-fd50cc5148aa",
   "metadata": {},
   "source": [
    "Author: [jan-janssen](https://jan-janssen.com)\n",
    "\n",
    "While pyiron can simplify the submission an analysis of individual calculation, for example in a lecture setting, the primary benefit of using pyiron is the ability to combine both the rapid prototyping of a simulation protocol as well as the up-scaling of the simulation protocol. So going beyond the previous example this, tutorial covers orchestrating a series of individual calculation and how pyiron can leverage advanced LAMMPS features like the Python library to accelerate your parameter studies. \n",
    "\n",
    "As an example we are going to calculate the energy volume dependence. This is typically used in ab-initio calculation to determine the equilibrium volume, equilibrium bulk modulus and its derivative. \n",
    "\n",
    "Again, in analogy to the first tutorial also for the second tutorial we enable the autocompletion:"
   ]
  },
  {
   "cell_type": "code",
   "execution_count": null,
   "id": "8fa6f515-4d13-40ee-a38e-d38343937a75",
   "metadata": {},
   "outputs": [],
   "source": [
    "%config IPCompleter.evaluation='unsafe'"
   ]
  },
  {
   "cell_type": "markdown",
   "id": "b3ee438a-2337-4bce-b9c5-5a9f3aaeae36",
   "metadata": {},
   "source": [
    "# Start with an empty Project"
   ]
  },
  {
   "cell_type": "markdown",
   "id": "893f3b62-0807-45e8-9966-5e59b0984588",
   "metadata": {},
   "source": [
    "In analogy to the first tutorial we again start by importing the `Project` class from the `pyiron_atomistics` module:  "
   ]
  },
  {
   "cell_type": "code",
   "execution_count": 1,
   "id": "85273524-b9f0-4ed9-874b-14e40551eb31",
   "metadata": {},
   "outputs": [
    {
     "data": {
      "application/vnd.jupyter.widget-view+json": {
       "model_id": "c1c3bdc7fb144203ab4db012b15ceacb",
       "version_major": 2,
       "version_minor": 0
      },
      "text/plain": []
     },
     "metadata": {},
     "output_type": "display_data"
    },
    {
     "name": "stderr",
     "output_type": "stream",
     "text": [
      "/Users/janssen/mambaforge/lib/python3.12/site-packages/nglview/__init__.py:12: UserWarning: pkg_resources is deprecated as an API. See https://setuptools.pypa.io/en/latest/pkg_resources.html. The pkg_resources package is slated for removal as early as 2025-11-30. Refrain from using this package or pin to Setuptools<81.\n",
      "  import pkg_resources\n"
     ]
    }
   ],
   "source": [
    "from pyiron_atomistics import Project"
   ]
  },
  {
   "cell_type": "markdown",
   "id": "91a7ffd3-ff74-40e1-bd4a-87a2ecf77631",
   "metadata": {},
   "source": [
    "Afterwards we create a new `Project` instance for the following calculation named `evcurve` short for energy volume curve. We delete all previous calculation in this project, just to make sure everything is recalculated every time the jupyter notebook is executed rather than reloading the calculation: "
   ]
  },
  {
   "cell_type": "code",
   "execution_count": 2,
   "id": "de4e9eb5-23fc-48a8-b92e-2b120c2e4bec",
   "metadata": {},
   "outputs": [
    {
     "data": {
      "application/vnd.jupyter.widget-view+json": {
       "model_id": "00bdf399c0bd499495678d882067e692",
       "version_major": 2,
       "version_minor": 0
      },
      "text/plain": [
       "0it [00:00, ?it/s]"
      ]
     },
     "metadata": {},
     "output_type": "display_data"
    }
   ],
   "source": [
    "pr = Project(path=\"evcurve\")\n",
    "pr.remove_jobs(silently=True)"
   ]
  },
  {
   "cell_type": "markdown",
   "id": "10b1e5cc-0259-4259-bbb8-39fbf5d11cbf",
   "metadata": {},
   "source": [
    "# Loop over different strain values\n",
    "To measure the equilibrium volume, equilibrium bulk modulus and its derivative, we calculate the dependence of the energy on the volume. To change the volume we apply strains ranging from $-5\\%$ to $+5\\%$. Afterwards we fit the resulting energy volume dependence with a ploynomial. The minimum of this polynomial is the equilibrium volume, the second derivative is the bulk modulus and the third derivative corresponds to the pressure derivative of the bulk modulus. "
   ]
  },
  {
   "cell_type": "markdown",
   "id": "4054e193-d34a-4ab4-867e-9fc73441c608",
   "metadata": {},
   "source": [
    "## Create a template job"
   ]
  },
  {
   "cell_type": "markdown",
   "id": "589c3894-3c0b-471f-bf52-166cc9937889",
   "metadata": {},
   "source": [
    "As a first step a template job object is created. Here we keep the default settings for the LAMMPS job object which corresponds to a static calculation `run 0`. We only change the structure to apply the strain and the interatomic potential. "
   ]
  },
  {
   "cell_type": "code",
   "execution_count": 3,
   "id": "e109d2e1-73c5-4656-9941-1b8502272a14",
   "metadata": {},
   "outputs": [],
   "source": [
    "job_template = pr.create.job.Lammps(job_name=\"lmp\")\n",
    "structure_template = pr.create.structure.ase.bulk(name=\"Al\", cubic=True)\n",
    "job_template.structure = structure_template"
   ]
  },
  {
   "cell_type": "markdown",
   "id": "5793576e-4b38-44a1-94c7-b412fa4b43ac",
   "metadata": {},
   "source": [
    "To choose an interatomic potential we again use the `list_potential()` function applied on the template job object. As the aluminium structure was already assigned to the job object, the `list_potential()` function only returns interatomic potentials which include interactions for aluminium:"
   ]
  },
  {
   "cell_type": "code",
   "execution_count": 4,
   "id": "4a3bba12-3b4f-453c-bef0-640177edbd5e",
   "metadata": {},
   "outputs": [
    {
     "data": {
      "text/plain": [
       "['1995--Angelo-J-E--Ni-Al-H--LAMMPS--ipr1',\n",
       " '1996--Farkas-D--Nb-Ti-Al--LAMMPS--ipr1',\n",
       " '1997--Liu-X-Y--Al-Mg--LAMMPS--ipr1',\n",
       " '1998--Liu-X-Y--Al-Mg--LAMMPS--ipr1',\n",
       " '1999--Liu-X-Y--Al-Cu--LAMMPS--ipr1',\n",
       " '1999--Mishin-Y--Al--LAMMPS--ipr1',\n",
       " '2000--Landa-A--Al-Pb--LAMMPS--ipr1',\n",
       " '2000--Sturgeon-J-B--Al--LAMMPS--ipr1',\n",
       " '2002--Mishin-Y--Ni-Al--LAMMPS--ipr1',\n",
       " '2003--Lee-B-J--Al--LAMMPS--ipr1',\n",
       " '2003--Zope-R-R--Al--LAMMPS--ipr1',\n",
       " '2003--Zope-R-R--Ti-Al--LAMMPS--ipr1',\n",
       " '2004--Liu-X-Y--Al--LAMMPS--ipr1',\n",
       " '2004--Mishin-Y--Ni-Al--LAMMPS--ipr1',\n",
       " '2004--Mishin-Y--Ni-Al--LAMMPS--ipr2',\n",
       " '2004--Zhou-X-W--Al--LAMMPS--ipr2',\n",
       " '2005--Mendelev-M-I--Al-Fe--LAMMPS--ipr1',\n",
       " '2007--Silva-A-C--Al-Ni--LAMMPS--ipr1',\n",
       " '2008--Mendelev-M-I--Al--LAMMPS--ipr1',\n",
       " '2009--Kim-Y-M--Mg-Al--LAMMPS--ipr1',\n",
       " '2009--Mendelev-M-I--Al-Mg--LAMMPS--ipr1',\n",
       " '2009--Purja-Pun-G-P--Ni-Al--LAMMPS--ipr1',\n",
       " '2009--Zhakhovskii-V-V--Al--LAMMPS--ipr2',\n",
       " '2010--Lee-E--Fe-Al--LAMMPS--ipr1',\n",
       " '2010--Mendelev-M-I--fictional-Al-1--LAMMPS--ipr1',\n",
       " '2010--Mendelev-M-I--fictional-Al-2--LAMMPS--ipr1',\n",
       " '2010--Mendelev-M-I--fictional-Al-3--LAMMPS--ipr1',\n",
       " '2010--Winey-J-M--Al--LAMMPS--ipr1',\n",
       " '2011--Apostol-F--Al-Cu--LAMMPS--ipr1',\n",
       " '2011--Ko-W-S--Al-H--LAMMPS--ipr1',\n",
       " '2012--Dong-W-P--Co-Al--LAMMPS--ipr1',\n",
       " '2012--Jelinek-B--Al-Si-Mg-Cu-Fe--LAMMPS--ipr2',\n",
       " '2012--Schopf-D--Al-Mn-Pd--LAMMPS--ipr1',\n",
       " '2013--Shim-J-H--V-Al--LAMMPS--ipr1',\n",
       " '2013--Shim-J-H--V-Al-H--LAMMPS--ipr1',\n",
       " '2015--Choudhary-K--Al--LAMMPS--ipr1',\n",
       " '2015--Choudhary-K--Al-O--LAMMPS--ipr1',\n",
       " '2015--Kim-Y-K--Ni-Al-Co--LAMMPS--ipr1',\n",
       " '2015--Kumar-A--Al-Ni--LAMMPS--ipr1',\n",
       " '2015--Kumar-A--Al-Ni-O--LAMMPS--ipr1',\n",
       " '2015--Mendelev-M-I--Al-Sm--LAMMPS--ipr1',\n",
       " '2015--Pascuet-M-I--Al--LAMMPS--ipr1',\n",
       " '2015--Pascuet-M-I--Al-U--LAMMPS--ipr2',\n",
       " '2015--Purja-Pun-G-P--Al-Co--LAMMPS--ipr2',\n",
       " '2015--Purja-Pun-G-P--Ni-Al-Co--LAMMPS--ipr2',\n",
       " '2016--Kim-Y-K--Al-Ti--LAMMPS--ipr1',\n",
       " '2016--Zhou-X-W--Al-Cu--LAMMPS--ipr2',\n",
       " '2017--Botu-V--Al--LAMMPS--ipr1',\n",
       " '2017--Kim-J-S--Pt-Al--LAMMPS--ipr1',\n",
       " '2017--Kim-Y-K--Ni-Al-Ti--LAMMPS--ipr1',\n",
       " '2018--Dickel-D-E--Mg-Al-Zn--LAMMPS--ipr1',\n",
       " '2018--Jeong-G-U--Pd-Al--LAMMPS--ipr1',\n",
       " '2018--Zhou-X-W--Al-Cu-H--LAMMPS--ipr1',\n",
       " '2019--Plummer-G--Ti-Al-C--LAMMPS--ipr1',\n",
       " '2020--Farkas-D--Fe-Ni-Cr-Co-Al--LAMMPS--ipr1',\n",
       " '2020--Purja-Pun-G-P--Al--LAMMPS--ipr1',\n",
       " '2020--Starikov-S--Si-Au-Al--LAMMPS--ipr1',\n",
       " '2020--Starikov-S--Si-Au-Al--LAMMPS--ipr2',\n",
       " '2021--Plummer-G--Ti-Al-C--LAMMPS--ipr1',\n",
       " '2021--Song-H--Al-Sm--LAMMPS--ipr1',\n",
       " '2022--Fereidonnejad-R--Al-Hf--LAMMPS--ipr1',\n",
       " '2022--Fereidonnejad-R--Al-Nb--LAMMPS--ipr1',\n",
       " '2022--Fereidonnejad-R--Al-Ta--LAMMPS--ipr1',\n",
       " '2022--Fereidonnejad-R--Al-Ti--LAMMPS--ipr1',\n",
       " '2022--Fereidonnejad-R--Al-Zr--LAMMPS--ipr1',\n",
       " '2022--Mahata-A--Al-Cu--LAMMPS--ipr1',\n",
       " '2022--Mahata-A--Al-Fe--LAMMPS--ipr1',\n",
       " '2022--Mahata-A--Al-Ni--LAMMPS--ipr1',\n",
       " '2022--Mendelev-M-I--Ni-Al--LAMMPS--ipr1',\n",
       " 'EAM_CubicNaturalSpline_ErcolessiAdams_1994_Al__MO_800509458712_002',\n",
       " 'EAM_Dynamo_AngeloMoodyBaskes_1995_NiAlH__MO_418978237058_005',\n",
       " 'EAM_Dynamo_CaiYe_1996_AlCu__MO_942551040047_005',\n",
       " 'EAM_Dynamo_ErcolessiAdams_1994_Al__MO_123629422045_005',\n",
       " 'EAM_Dynamo_FarkasJones_1996_NbTiAl__MO_042691367780_000',\n",
       " 'EAM_Dynamo_JacobsenNorskovPuska_1987_Al__MO_411692133366_000',\n",
       " 'EAM_Dynamo_LandaWynblattSiegel_2000_AlPb__MO_699137396381_005',\n",
       " 'EAM_Dynamo_LiuAdams_1998_AlMg__MO_019873715786_000',\n",
       " 'EAM_Dynamo_LiuErcolessiAdams_2004_Al__MO_051157671505_000',\n",
       " 'EAM_Dynamo_LiuLiuBorucki_1999_AlCu__MO_020851069572_000',\n",
       " 'EAM_Dynamo_LiuOhotnickyAdams_1997_AlMg__MO_559870613549_000',\n",
       " 'EAM_Dynamo_MendelevAstaRahman_2009_AlMg__MO_658278549784_005',\n",
       " 'EAM_Dynamo_MendelevFangYe_2015_AlSm__MO_338600200739_000',\n",
       " 'EAM_Dynamo_MendelevKramerBecker_2008_Al__MO_106969701023_005',\n",
       " 'EAM_Dynamo_MendelevSrolovitzAckland_2005_AlFe__MO_577453891941_005',\n",
       " 'EAM_Dynamo_MishinFarkasMehl_1999_Al__MO_651801486679_005',\n",
       " 'EAM_Dynamo_MishinMehlPapaconstantopoulos_2002_NiAl__MO_109933561507_005',\n",
       " 'EAM_Dynamo_Mishin_2004_NiAl__MO_101214310689_005',\n",
       " 'EAM_Dynamo_PunMishin_2009_NiAl__MO_751354403791_005',\n",
       " 'EAM_Dynamo_PunYamakovMishin_2013_AlCo__MO_678952612413_000',\n",
       " 'EAM_Dynamo_PunYamakovMishin_2013_NiAlCo__MO_826591359508_000',\n",
       " 'EAM_Dynamo_SchopfBrommerFrigan_2012_AlMnPd__MO_137572817842_000',\n",
       " 'EAM_Dynamo_SturgeonLaird_2000_Al__MO_120808805541_005',\n",
       " 'EAM_Dynamo_VailheFarkas_1997_CoAl__MO_284963179498_005',\n",
       " 'EAM_Dynamo_WineyKubotaGupta_2010_Al__MO_149316865608_005',\n",
       " 'EAM_Dynamo_Zhakhovsky_2009_Al__MO_519613893196_000',\n",
       " 'EAM_Dynamo_ZhouJohnsonWadley_2004NISTretabulation_Al__MO_060567868558_000',\n",
       " 'EAM_Dynamo_ZhouJohnsonWadley_2004_Al__MO_131650261510_005',\n",
       " 'EAM_Dynamo_ZhouWadleyJohnson_2001_Al__MO_049243498555_000',\n",
       " 'EAM_Dynamo_ZopeMishin_2003_Al__MO_664470114311_005',\n",
       " 'EAM_Dynamo_ZopeMishin_2003_TiAl__MO_117656786760_005',\n",
       " 'EAM_ErcolessiAdams_1994_Al__MO_324507536345_003',\n",
       " 'EAM_IMD_BrommerGaehler_2006A_AlNiCo__MO_122703700223_003',\n",
       " 'EAM_IMD_BrommerGaehler_2006B_AlNiCo__MO_128037485276_003',\n",
       " 'EAM_IMD_SchopfBrommerFrigan_2012_AlMnPd__MO_878712978062_003',\n",
       " 'EAM_QuinticClampedSpline_ErcolessiAdams_1994_Al__MO_450093727396_002',\n",
       " 'EAM_QuinticHermiteSpline_ErcolessiAdams_1994_Al__MO_781138671863_002',\n",
       " 'EMT_Asap_Standard_JacobsenStoltzeNorskov_1996_AlAgAuCuNiPdPt__MO_115316750986_001',\n",
       " 'EMT_Asap_Standard_JacobsenStoltzeNorskov_1996_Al__MO_623376124862_001',\n",
       " 'MEAM_LAMMPS_AlmyrasSangiovanniSarakinos_2019_NAlTi__MO_958395190627_000',\n",
       " 'MEAM_LAMMPS_CostaAgrenClavaguera_2007_AlNi__MO_131642768288_000',\n",
       " 'MEAM_LAMMPS_DongKimKo_2012_CoAl__MO_099716416216_000',\n",
       " 'MEAM_LAMMPS_JelinekGrohHorstemeyer_2012_AlSiMgCuFe__MO_262519520678_000',\n",
       " 'MEAM_LAMMPS_JeongParkDo_2018_PdAl__MO_616482358807_000',\n",
       " 'MEAM_LAMMPS_KimJungLee_2015_NiAlCo__MO_876687166519_000',\n",
       " 'MEAM_LAMMPS_KimKimJung_2016_AlTi__MO_618133763375_000',\n",
       " 'MEAM_LAMMPS_KimKimJung_2017_NiAlTi__MO_478967255435_000',\n",
       " 'MEAM_LAMMPS_KimKimLee_2009_AlMg__MO_058537087384_000',\n",
       " 'MEAM_LAMMPS_KimSeolJi_2017_PtAl__MO_793141037706_000',\n",
       " 'MEAM_LAMMPS_KoShimLee_2011_AlH__MO_127847080751_000',\n",
       " 'MEAM_LAMMPS_LeeLee_2010_FeAl__MO_332211522050_000',\n",
       " 'MEAM_LAMMPS_PascuetFernandez_2015_AlU__MO_596300673917_000',\n",
       " 'MEAM_LAMMPS_PascuetFernandez_2015_Al__MO_315820974149_000',\n",
       " 'MEAM_LAMMPS_ShimKoKim_2013_AlVH__MO_344724145339_000',\n",
       " 'Morse_Shifted_GirifalcoWeizer_1959HighCutoff_Al__MO_140175748626_004',\n",
       " 'Morse_Shifted_GirifalcoWeizer_1959LowCutoff_Al__MO_411898953661_004',\n",
       " 'Morse_Shifted_GirifalcoWeizer_1959MedCutoff_Al__MO_279544746097_004',\n",
       " 'Sim_LAMMPS_ADP_ApostolMishin_2011_AlCu__SM_667696763561_000',\n",
       " 'Sim_LAMMPS_ADP_StarikovGordeevLysogorskiy_2020_SiAuAl__SM_113843830602_000',\n",
       " 'Sim_LAMMPS_AGNI_BotuBatraChapman_2017_Al__SM_666183636896_000',\n",
       " 'Sim_LAMMPS_BOP_ZhouWardFoster_2016_AlCu__SM_566399258279_000',\n",
       " 'Sim_LAMMPS_MEAM_AlmyrasSangiovanniSarakinos_2019_NAlTi__SM_871795249052_000',\n",
       " 'Sim_LAMMPS_MEAM_JelinekGrohHorstemeyer_2012_AlSiMgCuFe__SM_656517352485_000',\n",
       " 'Sim_LAMMPS_MEAM_PascuetFernandez_2015_AlU__SM_721930391003_000',\n",
       " 'Sim_LAMMPS_MEAM_PascuetFernandez_2015_Al__SM_811588957187_000',\n",
       " 'Sim_LAMMPS_SMTBQ_SallesPolitanoAmzallag_2016_AlO__SM_853967355976_000',\n",
       " 'Sim_LAMMPS_SMTBQ_SallesPolitanoAmzallag_2016_Al__SM_404097633924_000']"
      ]
     },
     "execution_count": 4,
     "metadata": {},
     "output_type": "execute_result"
    }
   ],
   "source": [
    "job_template.list_potentials()"
   ]
  },
  {
   "cell_type": "markdown",
   "id": "fcfe8850-627c-4cec-a880-5dad50af0a0b",
   "metadata": {},
   "source": [
    "As a first step we select one of the aluminium potentials, here we choose the potential from Yuri Mishin, but that is just a personal preference: [1999--Mishin-Y--Al--LAMMPS--ipr1](https://journals.aps.org/prb/abstract/10.1103/PhysRevB.65.224114) More details about the potential are again available via the publication list generated at the end of the project. "
   ]
  },
  {
   "cell_type": "code",
   "execution_count": 5,
   "id": "f8f4ed62-9396-43a6-8777-82f1fb4c592a",
   "metadata": {},
   "outputs": [],
   "source": [
    "job_template.potential = '1999--Mishin-Y--Al--LAMMPS--ipr1'"
   ]
  },
  {
   "cell_type": "markdown",
   "id": "efc489cd-1634-437e-b381-33b5bf82301e",
   "metadata": {},
   "source": [
    "In addition to the interatomic potential we also once again select the flux enabled executable as we are using the flux kernel. Still for now we execute all the calculation inline with the primary python process. "
   ]
  },
  {
   "cell_type": "code",
   "execution_count": null,
   "id": "62f095e8-d6df-4021-ab79-719a4ff883ed",
   "metadata": {},
   "outputs": [],
   "source": [
    "job_template.executable.version = '2024.08.29_flux'"
   ]
  },
  {
   "cell_type": "markdown",
   "id": "7ca6c78d-bafa-4cac-bc0e-da817eb58985",
   "metadata": {},
   "source": [
    "## For loop"
   ]
  },
  {
   "cell_type": "markdown",
   "id": "9d269e2b-86aa-4700-af19-64d2b854fd7b",
   "metadata": {},
   "source": [
    "After defining the template job the next step is the execution of the for loop iterating over different strains. Here we import the numpy modul to generate an array of linearly spaced strains ranging from $-5\\%$ to $+5\\%$. "
   ]
  },
  {
   "cell_type": "code",
   "execution_count": 6,
   "id": "6c11a477-60a2-4fa8-bc01-cdbe8580bd38",
   "metadata": {},
   "outputs": [],
   "source": [
    "import numpy as np"
   ]
  },
  {
   "cell_type": "code",
   "execution_count": 7,
   "id": "b6dfc28f-3090-405c-802b-6ed5819b6d5b",
   "metadata": {},
   "outputs": [],
   "source": [
    "strain_lst = np.linspace(-0.05, 0.05, 11)"
   ]
  },
  {
   "cell_type": "markdown",
   "id": "5ab8629b-7659-4d3b-8056-a00925bf35b1",
   "metadata": {},
   "source": [
    "To iterate over the individual strains we have to copy both the LAMMPS job object, to create a new LAMMPS calculation for each strain as well as the structure object to gurantee that we always start from the equilibrium structure when we apply the selected strain. For the structure object we can use the simple `copy()` function. In contrast for copying the job object we use the `copy_to()` function. The `copy_to()` function receives two additional arguments, once the new job name for the copy of the job object `new_job_name` and in addition we do not want the job to be saved in the databased at this point, so we add the option `new_database_entry=False`. After the strain is applied on the structure using the `apply_strain()` function the updated structure is set to the structure property of the copied job and the job is executed by calling the `run()` function of the job object."
   ]
  },
  {
   "cell_type": "code",
   "execution_count": 8,
   "id": "33593b44-c030-4b24-978c-49d595752eda",
   "metadata": {},
   "outputs": [
    {
     "name": "stdout",
     "output_type": "stream",
     "text": [
      "The job lmp_0_95 was saved and received the ID: 101\n",
      "The job lmp_0_96 was saved and received the ID: 102\n",
      "The job lmp_0_97 was saved and received the ID: 103\n",
      "The job lmp_0_98 was saved and received the ID: 104\n",
      "The job lmp_0_99 was saved and received the ID: 105\n",
      "The job lmp_1_0 was saved and received the ID: 106\n",
      "The job lmp_1_01 was saved and received the ID: 107\n",
      "The job lmp_1_02 was saved and received the ID: 108\n",
      "The job lmp_1_03 was saved and received the ID: 109\n",
      "The job lmp_1_04 was saved and received the ID: 110\n",
      "The job lmp_1_05 was saved and received the ID: 111\n"
     ]
    }
   ],
   "source": [
    "for strain in strain_lst: \n",
    "    job_strain = job_template.copy_to(\n",
    "        new_job_name=\"lmp_\" + str(1+strain).replace(\".\", \"_\"), \n",
    "        new_database_entry=False\n",
    "    )\n",
    "    structure_copy = structure_template.copy()\n",
    "    structure_copy.apply_strain(strain)\n",
    "    job_strain.structure = structure_copy \n",
    "    job_strain.run()"
   ]
  },
  {
   "cell_type": "markdown",
   "id": "84958be8-4799-4608-b1e2-7fd96ce1f3e6",
   "metadata": {},
   "source": [
    "All calcultion are summarized in the job table of the project object. In addition to the database ID this table contains the location of the job object given by the `projectpath` and `project` as well as the execution time and further details about the calculation. Still it is important to mention that the `job_table()` and the database in pyiron in general is just an index of all calculation executed by pyiron. The results of the calculation are stored in the HDF5 files of the individual calculation."
   ]
  },
  {
   "cell_type": "code",
   "execution_count": 9,
   "id": "80d5c168-92f5-4ed7-8a6a-0153e9df4a95",
   "metadata": {},
   "outputs": [
    {
     "data": {
      "text/html": [
       "<div>\n",
       "<style scoped>\n",
       "    .dataframe tbody tr th:only-of-type {\n",
       "        vertical-align: middle;\n",
       "    }\n",
       "\n",
       "    .dataframe tbody tr th {\n",
       "        vertical-align: top;\n",
       "    }\n",
       "\n",
       "    .dataframe thead th {\n",
       "        text-align: right;\n",
       "    }\n",
       "</style>\n",
       "<table border=\"1\" class=\"dataframe\">\n",
       "  <thead>\n",
       "    <tr style=\"text-align: right;\">\n",
       "      <th></th>\n",
       "      <th>id</th>\n",
       "      <th>status</th>\n",
       "      <th>chemicalformula</th>\n",
       "      <th>job</th>\n",
       "      <th>subjob</th>\n",
       "      <th>projectpath</th>\n",
       "      <th>project</th>\n",
       "      <th>timestart</th>\n",
       "      <th>timestop</th>\n",
       "      <th>totalcputime</th>\n",
       "      <th>computer</th>\n",
       "      <th>hamilton</th>\n",
       "      <th>hamversion</th>\n",
       "      <th>parentid</th>\n",
       "      <th>masterid</th>\n",
       "    </tr>\n",
       "  </thead>\n",
       "  <tbody>\n",
       "    <tr>\n",
       "      <th>0</th>\n",
       "      <td>101</td>\n",
       "      <td>finished</td>\n",
       "      <td>Al4</td>\n",
       "      <td>lmp_0_95</td>\n",
       "      <td>/lmp_0_95</td>\n",
       "      <td>None</td>\n",
       "      <td>/Users/janssen/notebooks/2025/2025-06-11-lanl-tutorial/evcurve/</td>\n",
       "      <td>2025-06-11 05:35:02.816122</td>\n",
       "      <td>2025-06-11 05:35:03.357880</td>\n",
       "      <td>0.0</td>\n",
       "      <td>pyiron@cmmb34.local#1</td>\n",
       "      <td>Lammps</td>\n",
       "      <td>0.1</td>\n",
       "      <td>None</td>\n",
       "      <td>None</td>\n",
       "    </tr>\n",
       "    <tr>\n",
       "      <th>1</th>\n",
       "      <td>102</td>\n",
       "      <td>finished</td>\n",
       "      <td>Al4</td>\n",
       "      <td>lmp_0_96</td>\n",
       "      <td>/lmp_0_96</td>\n",
       "      <td>None</td>\n",
       "      <td>/Users/janssen/notebooks/2025/2025-06-11-lanl-tutorial/evcurve/</td>\n",
       "      <td>2025-06-11 05:35:03.502860</td>\n",
       "      <td>2025-06-11 05:35:03.954652</td>\n",
       "      <td>0.0</td>\n",
       "      <td>pyiron@cmmb34.local#1</td>\n",
       "      <td>Lammps</td>\n",
       "      <td>0.1</td>\n",
       "      <td>None</td>\n",
       "      <td>None</td>\n",
       "    </tr>\n",
       "    <tr>\n",
       "      <th>2</th>\n",
       "      <td>103</td>\n",
       "      <td>finished</td>\n",
       "      <td>Al4</td>\n",
       "      <td>lmp_0_97</td>\n",
       "      <td>/lmp_0_97</td>\n",
       "      <td>None</td>\n",
       "      <td>/Users/janssen/notebooks/2025/2025-06-11-lanl-tutorial/evcurve/</td>\n",
       "      <td>2025-06-11 05:35:04.084766</td>\n",
       "      <td>2025-06-11 05:35:04.530457</td>\n",
       "      <td>0.0</td>\n",
       "      <td>pyiron@cmmb34.local#1</td>\n",
       "      <td>Lammps</td>\n",
       "      <td>0.1</td>\n",
       "      <td>None</td>\n",
       "      <td>None</td>\n",
       "    </tr>\n",
       "    <tr>\n",
       "      <th>3</th>\n",
       "      <td>104</td>\n",
       "      <td>finished</td>\n",
       "      <td>Al4</td>\n",
       "      <td>lmp_0_98</td>\n",
       "      <td>/lmp_0_98</td>\n",
       "      <td>None</td>\n",
       "      <td>/Users/janssen/notebooks/2025/2025-06-11-lanl-tutorial/evcurve/</td>\n",
       "      <td>2025-06-11 05:35:04.661644</td>\n",
       "      <td>2025-06-11 05:35:05.108916</td>\n",
       "      <td>0.0</td>\n",
       "      <td>pyiron@cmmb34.local#1</td>\n",
       "      <td>Lammps</td>\n",
       "      <td>0.1</td>\n",
       "      <td>None</td>\n",
       "      <td>None</td>\n",
       "    </tr>\n",
       "    <tr>\n",
       "      <th>4</th>\n",
       "      <td>105</td>\n",
       "      <td>finished</td>\n",
       "      <td>Al4</td>\n",
       "      <td>lmp_0_99</td>\n",
       "      <td>/lmp_0_99</td>\n",
       "      <td>None</td>\n",
       "      <td>/Users/janssen/notebooks/2025/2025-06-11-lanl-tutorial/evcurve/</td>\n",
       "      <td>2025-06-11 05:35:05.245493</td>\n",
       "      <td>2025-06-11 05:35:05.696169</td>\n",
       "      <td>0.0</td>\n",
       "      <td>pyiron@cmmb34.local#1</td>\n",
       "      <td>Lammps</td>\n",
       "      <td>0.1</td>\n",
       "      <td>None</td>\n",
       "      <td>None</td>\n",
       "    </tr>\n",
       "    <tr>\n",
       "      <th>5</th>\n",
       "      <td>106</td>\n",
       "      <td>finished</td>\n",
       "      <td>Al4</td>\n",
       "      <td>lmp_1_0</td>\n",
       "      <td>/lmp_1_0</td>\n",
       "      <td>None</td>\n",
       "      <td>/Users/janssen/notebooks/2025/2025-06-11-lanl-tutorial/evcurve/</td>\n",
       "      <td>2025-06-11 05:35:05.826737</td>\n",
       "      <td>2025-06-11 05:35:06.270352</td>\n",
       "      <td>0.0</td>\n",
       "      <td>pyiron@cmmb34.local#1</td>\n",
       "      <td>Lammps</td>\n",
       "      <td>0.1</td>\n",
       "      <td>None</td>\n",
       "      <td>None</td>\n",
       "    </tr>\n",
       "    <tr>\n",
       "      <th>6</th>\n",
       "      <td>107</td>\n",
       "      <td>finished</td>\n",
       "      <td>Al4</td>\n",
       "      <td>lmp_1_01</td>\n",
       "      <td>/lmp_1_01</td>\n",
       "      <td>None</td>\n",
       "      <td>/Users/janssen/notebooks/2025/2025-06-11-lanl-tutorial/evcurve/</td>\n",
       "      <td>2025-06-11 05:35:06.402873</td>\n",
       "      <td>2025-06-11 05:35:06.849380</td>\n",
       "      <td>0.0</td>\n",
       "      <td>pyiron@cmmb34.local#1</td>\n",
       "      <td>Lammps</td>\n",
       "      <td>0.1</td>\n",
       "      <td>None</td>\n",
       "      <td>None</td>\n",
       "    </tr>\n",
       "    <tr>\n",
       "      <th>7</th>\n",
       "      <td>108</td>\n",
       "      <td>finished</td>\n",
       "      <td>Al4</td>\n",
       "      <td>lmp_1_02</td>\n",
       "      <td>/lmp_1_02</td>\n",
       "      <td>None</td>\n",
       "      <td>/Users/janssen/notebooks/2025/2025-06-11-lanl-tutorial/evcurve/</td>\n",
       "      <td>2025-06-11 05:35:06.979393</td>\n",
       "      <td>2025-06-11 05:35:07.430757</td>\n",
       "      <td>0.0</td>\n",
       "      <td>pyiron@cmmb34.local#1</td>\n",
       "      <td>Lammps</td>\n",
       "      <td>0.1</td>\n",
       "      <td>None</td>\n",
       "      <td>None</td>\n",
       "    </tr>\n",
       "    <tr>\n",
       "      <th>8</th>\n",
       "      <td>109</td>\n",
       "      <td>finished</td>\n",
       "      <td>Al4</td>\n",
       "      <td>lmp_1_03</td>\n",
       "      <td>/lmp_1_03</td>\n",
       "      <td>None</td>\n",
       "      <td>/Users/janssen/notebooks/2025/2025-06-11-lanl-tutorial/evcurve/</td>\n",
       "      <td>2025-06-11 05:35:07.560753</td>\n",
       "      <td>2025-06-11 05:35:08.004280</td>\n",
       "      <td>0.0</td>\n",
       "      <td>pyiron@cmmb34.local#1</td>\n",
       "      <td>Lammps</td>\n",
       "      <td>0.1</td>\n",
       "      <td>None</td>\n",
       "      <td>None</td>\n",
       "    </tr>\n",
       "    <tr>\n",
       "      <th>9</th>\n",
       "      <td>110</td>\n",
       "      <td>finished</td>\n",
       "      <td>Al4</td>\n",
       "      <td>lmp_1_04</td>\n",
       "      <td>/lmp_1_04</td>\n",
       "      <td>None</td>\n",
       "      <td>/Users/janssen/notebooks/2025/2025-06-11-lanl-tutorial/evcurve/</td>\n",
       "      <td>2025-06-11 05:35:08.136683</td>\n",
       "      <td>2025-06-11 05:35:08.579026</td>\n",
       "      <td>0.0</td>\n",
       "      <td>pyiron@cmmb34.local#1</td>\n",
       "      <td>Lammps</td>\n",
       "      <td>0.1</td>\n",
       "      <td>None</td>\n",
       "      <td>None</td>\n",
       "    </tr>\n",
       "    <tr>\n",
       "      <th>10</th>\n",
       "      <td>111</td>\n",
       "      <td>finished</td>\n",
       "      <td>Al4</td>\n",
       "      <td>lmp_1_05</td>\n",
       "      <td>/lmp_1_05</td>\n",
       "      <td>None</td>\n",
       "      <td>/Users/janssen/notebooks/2025/2025-06-11-lanl-tutorial/evcurve/</td>\n",
       "      <td>2025-06-11 05:35:08.711013</td>\n",
       "      <td>2025-06-11 05:35:09.157817</td>\n",
       "      <td>0.0</td>\n",
       "      <td>pyiron@cmmb34.local#1</td>\n",
       "      <td>Lammps</td>\n",
       "      <td>0.1</td>\n",
       "      <td>None</td>\n",
       "      <td>None</td>\n",
       "    </tr>\n",
       "  </tbody>\n",
       "</table>\n",
       "</div>"
      ],
      "text/plain": [
       "     id    status chemicalformula       job     subjob projectpath  \\\n",
       "0   101  finished             Al4  lmp_0_95  /lmp_0_95        None   \n",
       "1   102  finished             Al4  lmp_0_96  /lmp_0_96        None   \n",
       "2   103  finished             Al4  lmp_0_97  /lmp_0_97        None   \n",
       "3   104  finished             Al4  lmp_0_98  /lmp_0_98        None   \n",
       "4   105  finished             Al4  lmp_0_99  /lmp_0_99        None   \n",
       "5   106  finished             Al4   lmp_1_0   /lmp_1_0        None   \n",
       "6   107  finished             Al4  lmp_1_01  /lmp_1_01        None   \n",
       "7   108  finished             Al4  lmp_1_02  /lmp_1_02        None   \n",
       "8   109  finished             Al4  lmp_1_03  /lmp_1_03        None   \n",
       "9   110  finished             Al4  lmp_1_04  /lmp_1_04        None   \n",
       "10  111  finished             Al4  lmp_1_05  /lmp_1_05        None   \n",
       "\n",
       "                                                            project  \\\n",
       "0   /Users/janssen/notebooks/2025/2025-06-11-lanl-tutorial/evcurve/   \n",
       "1   /Users/janssen/notebooks/2025/2025-06-11-lanl-tutorial/evcurve/   \n",
       "2   /Users/janssen/notebooks/2025/2025-06-11-lanl-tutorial/evcurve/   \n",
       "3   /Users/janssen/notebooks/2025/2025-06-11-lanl-tutorial/evcurve/   \n",
       "4   /Users/janssen/notebooks/2025/2025-06-11-lanl-tutorial/evcurve/   \n",
       "5   /Users/janssen/notebooks/2025/2025-06-11-lanl-tutorial/evcurve/   \n",
       "6   /Users/janssen/notebooks/2025/2025-06-11-lanl-tutorial/evcurve/   \n",
       "7   /Users/janssen/notebooks/2025/2025-06-11-lanl-tutorial/evcurve/   \n",
       "8   /Users/janssen/notebooks/2025/2025-06-11-lanl-tutorial/evcurve/   \n",
       "9   /Users/janssen/notebooks/2025/2025-06-11-lanl-tutorial/evcurve/   \n",
       "10  /Users/janssen/notebooks/2025/2025-06-11-lanl-tutorial/evcurve/   \n",
       "\n",
       "                    timestart                   timestop  totalcputime  \\\n",
       "0  2025-06-11 05:35:02.816122 2025-06-11 05:35:03.357880           0.0   \n",
       "1  2025-06-11 05:35:03.502860 2025-06-11 05:35:03.954652           0.0   \n",
       "2  2025-06-11 05:35:04.084766 2025-06-11 05:35:04.530457           0.0   \n",
       "3  2025-06-11 05:35:04.661644 2025-06-11 05:35:05.108916           0.0   \n",
       "4  2025-06-11 05:35:05.245493 2025-06-11 05:35:05.696169           0.0   \n",
       "5  2025-06-11 05:35:05.826737 2025-06-11 05:35:06.270352           0.0   \n",
       "6  2025-06-11 05:35:06.402873 2025-06-11 05:35:06.849380           0.0   \n",
       "7  2025-06-11 05:35:06.979393 2025-06-11 05:35:07.430757           0.0   \n",
       "8  2025-06-11 05:35:07.560753 2025-06-11 05:35:08.004280           0.0   \n",
       "9  2025-06-11 05:35:08.136683 2025-06-11 05:35:08.579026           0.0   \n",
       "10 2025-06-11 05:35:08.711013 2025-06-11 05:35:09.157817           0.0   \n",
       "\n",
       "                 computer hamilton hamversion parentid masterid  \n",
       "0   pyiron@cmmb34.local#1   Lammps        0.1     None     None  \n",
       "1   pyiron@cmmb34.local#1   Lammps        0.1     None     None  \n",
       "2   pyiron@cmmb34.local#1   Lammps        0.1     None     None  \n",
       "3   pyiron@cmmb34.local#1   Lammps        0.1     None     None  \n",
       "4   pyiron@cmmb34.local#1   Lammps        0.1     None     None  \n",
       "5   pyiron@cmmb34.local#1   Lammps        0.1     None     None  \n",
       "6   pyiron@cmmb34.local#1   Lammps        0.1     None     None  \n",
       "7   pyiron@cmmb34.local#1   Lammps        0.1     None     None  \n",
       "8   pyiron@cmmb34.local#1   Lammps        0.1     None     None  \n",
       "9   pyiron@cmmb34.local#1   Lammps        0.1     None     None  \n",
       "10  pyiron@cmmb34.local#1   Lammps        0.1     None     None  "
      ]
     },
     "execution_count": 9,
     "metadata": {},
     "output_type": "execute_result"
    }
   ],
   "source": [
    "pr.job_table()"
   ]
  },
  {
   "cell_type": "markdown",
   "id": "a3059619-3a38-4bcd-a1b3-2a74e81f1dca",
   "metadata": {},
   "source": [
    "# Collect the results"
   ]
  },
  {
   "cell_type": "markdown",
   "id": "aab6e957-53c5-4452-b3ba-09f1f3bc07da",
   "metadata": {},
   "source": [
    "After submitting and successfully executing the individual calculation the next step is collecting the results. While in principle it would be possible to collect the output required to plot the energy volume curve, namely the volume and the total energy at the end of each calculation, the goal of pyiron is to split the execution from the analysis of the calculation. This is particularly beneficial when the calculations can not be completed in the order of seconds but require multiple hours and might be submitted to the queuing system individually. "
   ]
  },
  {
   "cell_type": "markdown",
   "id": "0fb7a1b7-c8cb-424c-b950-93bbe2fc2fc0",
   "metadata": {},
   "source": [
    "## Iterate over jobs in project"
   ]
  },
  {
   "cell_type": "markdown",
   "id": "82247466-fca0-429f-8f1c-8ea28ed8b0a6",
   "metadata": {},
   "source": [
    "To structure the analysis in the pyiron framework we recommend to follow the map-reduce pattern. This means we start by loading one job from the dataset, develop a set of functions we want to apply to all job objects to extract certain quantities and then map these functions to all job objects in a given project. By using the `inspect()` function rather than the `load()` function only a pointer to the HDF5 file of the job object is loaded in contrast to loading the whole job object. This results in a drastic speedup as explained in the next section. Here we use the name of the last job executed in the for loop to load the corresponding job. "
   ]
  },
  {
   "cell_type": "code",
   "execution_count": 10,
   "id": "21491010-a025-4262-a076-b494371e395e",
   "metadata": {},
   "outputs": [],
   "source": [
    "job_inspect = pr.inspect(job_strain.job_name)"
   ]
  },
  {
   "cell_type": "markdown",
   "id": "07b3f9d6-8ab5-4499-8073-a2d1fc35f984",
   "metadata": {},
   "source": [
    "Once the pointer to the HDF5 file is loaded we can browse the output and in particular the code-independent `generic` output to find the entries for the volume (`volume`) and the total energy (`energy_tot`). "
   ]
  },
  {
   "cell_type": "code",
   "execution_count": 11,
   "id": "7e29542d-8972-4144-8dd6-3cbca3b513c5",
   "metadata": {},
   "outputs": [
    {
     "data": {
      "text/plain": [
       "(76.901173453125, -13.0926766182116)"
      ]
     },
     "execution_count": 11,
     "metadata": {},
     "output_type": "execute_result"
    }
   ],
   "source": [
    "job_inspect.content[\"output/generic/volume\"][0], job_inspect.content[\"output/generic/energy_tot\"][0]"
   ]
  },
  {
   "cell_type": "markdown",
   "id": "a66816ea-4110-4409-aed4-6ec2a8f28a9e",
   "metadata": {},
   "source": [
    "After we identified the properties we want to extract from the individual calculation we define one function per property, which takes a pointer to the HDF5 file of a job object as an input and returns the property it should extract:"
   ]
  },
  {
   "cell_type": "code",
   "execution_count": 12,
   "id": "1effc61f-360d-476f-bb5a-5a615660d077",
   "metadata": {},
   "outputs": [],
   "source": [
    "def get_volume(job):\n",
    "    return job.content[\"output/generic/volume\"][0]"
   ]
  },
  {
   "cell_type": "code",
   "execution_count": 13,
   "id": "3bc6808d-3d57-45f8-9c38-cf731cdb6659",
   "metadata": {},
   "outputs": [],
   "source": [
    "def get_energy_tot(job):\n",
    "    return job.content[\"output/generic/energy_tot\"][0]"
   ]
  },
  {
   "cell_type": "markdown",
   "id": "eae0b254-bae4-4e19-9d9e-33fe6717ebce",
   "metadata": {},
   "source": [
    "In the map step these functions are applied to all jobs in a given project by iterating over the jobs in the project using the `iter_jobs()` function applied on the project object. The results are stored in two lists one for the volumes (`volume_lst`) and one for the total energies (`energy_lst`). "
   ]
  },
  {
   "cell_type": "code",
   "execution_count": 14,
   "id": "090a7050-fed2-4e9a-a226-b3c44f11263c",
   "metadata": {},
   "outputs": [
    {
     "data": {
      "application/vnd.jupyter.widget-view+json": {
       "model_id": "899f7aa8f14140d38323a1487c1471d5",
       "version_major": 2,
       "version_minor": 0
      },
      "text/plain": [
       "  0%|          | 0/11 [00:00<?, ?it/s]"
      ]
     },
     "metadata": {},
     "output_type": "display_data"
    }
   ],
   "source": [
    "volume_lst, energy_lst = [], []\n",
    "for job in pr.iter_jobs():\n",
    "    volume_lst.append(get_volume(job=job))\n",
    "    energy_lst.append(get_energy_tot(job=job))"
   ]
  },
  {
   "cell_type": "markdown",
   "id": "df5f1eea-e615-493c-a3ca-52e27df99590",
   "metadata": {},
   "source": [
    "As a next step we can visualize the aggregated data using the matplotlib library: "
   ]
  },
  {
   "cell_type": "code",
   "execution_count": 15,
   "id": "1f9bc40d-78c1-4788-855f-4ecf8ab0f588",
   "metadata": {},
   "outputs": [],
   "source": [
    "import matplotlib.pyplot as plt"
   ]
  },
  {
   "cell_type": "code",
   "execution_count": 16,
   "id": "b21d4b18-f153-4182-9734-5abfcb3e70b1",
   "metadata": {},
   "outputs": [
    {
     "name": "stderr",
     "output_type": "stream",
     "text": [
      "<>:2: SyntaxWarning: invalid escape sequence '\\A'\n",
      "<>:2: SyntaxWarning: invalid escape sequence '\\A'\n",
      "/var/folders/9p/rztyv06d0xv4h26cyv8nrw3m0000gq/T/ipykernel_21295/783111001.py:2: SyntaxWarning: invalid escape sequence '\\A'\n",
      "  plt.xlabel(\"Volume $\\AA^3$\")\n"
     ]
    },
    {
     "data": {
      "text/plain": [
       "Text(0, 0.5, 'Energy (eV)')"
      ]
     },
     "execution_count": 16,
     "metadata": {},
     "output_type": "execute_result"
    },
    {
     "data": {
      "image/png": "[encoded data removed]",
      "text/plain": [
       "<Figure size 640x480 with 1 Axes>"
      ]
     },
     "metadata": {},
     "output_type": "display_data"
    }
   ],
   "source": [
    "plt.plot(volume_lst, energy_lst)\n",
    "plt.xlabel(\"Volume $\\AA^3$\")\n",
    "plt.ylabel(\"Energy (eV)\")"
   ]
  },
  {
   "cell_type": "markdown",
   "id": "08614b54-6d88-4124-ae21-036a770de5a4",
   "metadata": {},
   "source": [
    "## Inspect mode "
   ]
  },
  {
   "cell_type": "markdown",
   "id": "100c0530-7415-4f0c-928f-a22091a7e721",
   "metadata": {},
   "source": [
    "While iterating over 11 job objects is sufficiently fast, the `iter_jobs()` function has an optional `convert_to_object` parameter. By setting the `convert_to_object` parameter to `False` the `iter_jobs()` function internally uses the `inspect()` function rather than the `load()` function. This can be several orders of magnitude faster depending on the size of your job objects: "
   ]
  },
  {
   "cell_type": "code",
   "execution_count": 17,
   "id": "9daee709-44d1-4e7b-8f82-ff1ce2e8d745",
   "metadata": {},
   "outputs": [
    {
     "data": {
      "application/vnd.jupyter.widget-view+json": {
       "model_id": "e67557d0e1a94360a4ab277223a4c69b",
       "version_major": 2,
       "version_minor": 0
      },
      "text/plain": [
       "  0%|          | 0/11 [00:00<?, ?it/s]"
      ]
     },
     "metadata": {},
     "output_type": "display_data"
    }
   ],
   "source": [
    "volume_lst, energy_lst = [], []\n",
    "for job in pr.iter_jobs(convert_to_object=False):\n",
    "    volume_lst.append(get_volume(job=job))\n",
    "    energy_lst.append(get_energy_tot(job=job))"
   ]
  },
  {
   "cell_type": "markdown",
   "id": "e8f81760-aca7-45ce-94e2-86d0c3be71c1",
   "metadata": {},
   "source": [
    "The output is exactly the same, so we can use the same commands as above to plot the same energy volume curve."
   ]
  },
  {
   "cell_type": "code",
   "execution_count": 18,
   "id": "e0c1d0c7-d2be-4a23-9527-03ad28368412",
   "metadata": {},
   "outputs": [
    {
     "name": "stderr",
     "output_type": "stream",
     "text": [
      "<>:2: SyntaxWarning: invalid escape sequence '\\A'\n",
      "<>:2: SyntaxWarning: invalid escape sequence '\\A'\n",
      "/var/folders/9p/rztyv06d0xv4h26cyv8nrw3m0000gq/T/ipykernel_21295/783111001.py:2: SyntaxWarning: invalid escape sequence '\\A'\n",
      "  plt.xlabel(\"Volume $\\AA^3$\")\n"
     ]
    },
    {
     "data": {
      "text/plain": [
       "Text(0, 0.5, 'Energy (eV)')"
      ]
     },
     "execution_count": 18,
     "metadata": {},
     "output_type": "execute_result"
    },
    {
     "data": {
      "image/png": "[encoded data removed]",
      "text/plain": [
       "<Figure size 640x480 with 1 Axes>"
      ]
     },
     "metadata": {},
     "output_type": "display_data"
    }
   ],
   "source": [
    "plt.plot(volume_lst, energy_lst)\n",
    "plt.xlabel(\"Volume $\\AA^3$\")\n",
    "plt.ylabel(\"Energy (eV)\")"
   ]
  },
  {
   "cell_type": "markdown",
   "id": "a68bf44f-0e41-4486-a8d8-f402b5be41a7",
   "metadata": {},
   "source": [
    "This ability to drastically accelerate the execution of your simulation workflows by setting specific parameters is a core feature for pyiron. By default we try to provide the users with as much flexibility as possible but at the same time we provide expert users with optional settings to drastically accelerate their simulation workflows."
   ]
  },
  {
   "cell_type": "markdown",
   "id": "16f55c72-6195-4767-bfe3-97e579941e13",
   "metadata": {},
   "source": [
    "## pyiron table "
   ]
  },
  {
   "cell_type": "markdown",
   "id": "2242c8ac-9ada-4517-8eba-8a0de2fc23cc",
   "metadata": {},
   "source": [
    "To further simplify the analysis step, pyiron also provides the pyiron tables class. The advantage of this separate class is the ability to submit the analysis to the queuing system and receive the aggregated results as a `pandas.DataFrame` once the map-reduce step is completed. Again, for 11 calculation this might seem like an overhead, but for projects containing thousands of calculation this functionality is essential. The table object is created just like a job object directly from the project. "
   ]
  },
  {
   "cell_type": "code",
   "execution_count": 19,
   "id": "ead28d53-8a8c-4453-8658-fb3f9ca5f6b6",
   "metadata": {},
   "outputs": [],
   "source": [
    "table = pr.create.table()"
   ]
  },
  {
   "cell_type": "markdown",
   "id": "5ecdf285-7024-473f-b171-bc2cefcf0ca3",
   "metadata": {},
   "source": [
    "Afterwards the functions defined above, which take a pointer to the HDF5 file of a job object as an input and return a single property are added to the `add` property using the dictionary notation. The keys defined for the individual functions are going to be columns of the resulting `pandas.DataFrame` and the individual calculation in the project correspond to the rows of the `pandas.DataFrame`. Once all functions are defined the table object can be executed using the `run()` function just like a job object and after the execution finished the `pandas.DataFrame` containing all the results is available via the `get_dataframe()` function. "
   ]
  },
  {
   "cell_type": "code",
   "execution_count": 20,
   "id": "e7f640ad-071d-4a06-a576-7c616be41316",
   "metadata": {},
   "outputs": [
    {
     "name": "stdout",
     "output_type": "stream",
     "text": [
      "The job table was saved and received the ID: 112\n"
     ]
    },
    {
     "data": {
      "application/vnd.jupyter.widget-view+json": {
       "model_id": "c3213e95dcab4968a644ced96527c1da",
       "version_major": 2,
       "version_minor": 0
      },
      "text/plain": [
       "Loading and filtering jobs:   0%|          | 0/12 [00:00<?, ?it/s]"
      ]
     },
     "metadata": {},
     "output_type": "display_data"
    },
    {
     "data": {
      "application/vnd.jupyter.widget-view+json": {
       "model_id": "9142cf2e79944f1c8aaa24a4f619121e",
       "version_major": 2,
       "version_minor": 0
      },
      "text/plain": [
       "  0%|          | 0/11 [00:00<?, ?it/s]"
      ]
     },
     "metadata": {},
     "output_type": "display_data"
    }
   ],
   "source": [
    "table.add[\"volume\"] = get_volume\n",
    "table.add[\"energy_tot\"] = get_energy_tot\n",
    "table.run()\n",
    "df = table.get_dataframe()"
   ]
  },
  {
   "cell_type": "markdown",
   "id": "4c9fb2bc-199f-44dc-9031-c8c20705c43b",
   "metadata": {},
   "source": [
    "The `pandas.DataFrame` contains the `volume` and the `energy_tot` as columns in addition to the `job_id` which is always included and each row represents one of the 11 calculation in the project."
   ]
  },
  {
   "cell_type": "code",
   "execution_count": 21,
   "id": "63251f15-71dc-4262-a013-59776c7f91a9",
   "metadata": {},
   "outputs": [
    {
     "data": {
      "text/html": [
       "<div>\n",
       "<style scoped>\n",
       "    .dataframe tbody tr th:only-of-type {\n",
       "        vertical-align: middle;\n",
       "    }\n",
       "\n",
       "    .dataframe tbody tr th {\n",
       "        vertical-align: top;\n",
       "    }\n",
       "\n",
       "    .dataframe thead th {\n",
       "        text-align: right;\n",
       "    }\n",
       "</style>\n",
       "<table border=\"1\" class=\"dataframe\">\n",
       "  <thead>\n",
       "    <tr style=\"text-align: right;\">\n",
       "      <th></th>\n",
       "      <th>job_id</th>\n",
       "      <th>volume</th>\n",
       "      <th>energy_tot</th>\n",
       "    </tr>\n",
       "  </thead>\n",
       "  <tbody>\n",
       "    <tr>\n",
       "      <th>0</th>\n",
       "      <td>101</td>\n",
       "      <td>56.955528</td>\n",
       "      <td>-13.060681</td>\n",
       "    </tr>\n",
       "    <tr>\n",
       "      <th>1</th>\n",
       "      <td>102</td>\n",
       "      <td>58.773123</td>\n",
       "      <td>-13.204749</td>\n",
       "    </tr>\n",
       "    <tr>\n",
       "      <th>2</th>\n",
       "      <td>103</td>\n",
       "      <td>60.628981</td>\n",
       "      <td>-13.309295</td>\n",
       "    </tr>\n",
       "    <tr>\n",
       "      <th>3</th>\n",
       "      <td>104</td>\n",
       "      <td>62.523502</td>\n",
       "      <td>-13.381820</td>\n",
       "    </tr>\n",
       "    <tr>\n",
       "      <th>4</th>\n",
       "      <td>105</td>\n",
       "      <td>64.457084</td>\n",
       "      <td>-13.425410</td>\n",
       "    </tr>\n",
       "    <tr>\n",
       "      <th>5</th>\n",
       "      <td>106</td>\n",
       "      <td>66.430125</td>\n",
       "      <td>-13.440000</td>\n",
       "    </tr>\n",
       "    <tr>\n",
       "      <th>6</th>\n",
       "      <td>107</td>\n",
       "      <td>68.443024</td>\n",
       "      <td>-13.425492</td>\n",
       "    </tr>\n",
       "    <tr>\n",
       "      <th>7</th>\n",
       "      <td>108</td>\n",
       "      <td>70.496180</td>\n",
       "      <td>-13.382455</td>\n",
       "    </tr>\n",
       "    <tr>\n",
       "      <th>8</th>\n",
       "      <td>109</td>\n",
       "      <td>72.589991</td>\n",
       "      <td>-13.311268</td>\n",
       "    </tr>\n",
       "    <tr>\n",
       "      <th>9</th>\n",
       "      <td>110</td>\n",
       "      <td>74.724856</td>\n",
       "      <td>-13.213377</td>\n",
       "    </tr>\n",
       "    <tr>\n",
       "      <th>10</th>\n",
       "      <td>111</td>\n",
       "      <td>76.901173</td>\n",
       "      <td>-13.092677</td>\n",
       "    </tr>\n",
       "  </tbody>\n",
       "</table>\n",
       "</div>"
      ],
      "text/plain": [
       "    job_id     volume  energy_tot\n",
       "0      101  56.955528  -13.060681\n",
       "1      102  58.773123  -13.204749\n",
       "2      103  60.628981  -13.309295\n",
       "3      104  62.523502  -13.381820\n",
       "4      105  64.457084  -13.425410\n",
       "5      106  66.430125  -13.440000\n",
       "6      107  68.443024  -13.425492\n",
       "7      108  70.496180  -13.382455\n",
       "8      109  72.589991  -13.311268\n",
       "9      110  74.724856  -13.213377\n",
       "10     111  76.901173  -13.092677"
      ]
     },
     "execution_count": 21,
     "metadata": {},
     "output_type": "execute_result"
    }
   ],
   "source": [
    "df"
   ]
  },
  {
   "cell_type": "markdown",
   "id": "97f403f6-2748-4f5d-b072-3d8c87d56e22",
   "metadata": {},
   "source": [
    "In analogy to the plot above, the `pandas.DataFrame` can also be used to visualize the results using matplotlib. "
   ]
  },
  {
   "cell_type": "code",
   "execution_count": 22,
   "id": "50a98015-b804-44d1-8d26-c8b876fa9892",
   "metadata": {},
   "outputs": [
    {
     "name": "stderr",
     "output_type": "stream",
     "text": [
      "<>:2: SyntaxWarning: invalid escape sequence '\\A'\n",
      "<>:2: SyntaxWarning: invalid escape sequence '\\A'\n",
      "/var/folders/9p/rztyv06d0xv4h26cyv8nrw3m0000gq/T/ipykernel_21295/3117212999.py:2: SyntaxWarning: invalid escape sequence '\\A'\n",
      "  plt.xlabel(\"Volume $\\AA^3$\")\n"
     ]
    },
    {
     "data": {
      "text/plain": [
       "Text(0, 0.5, 'Energy (eV)')"
      ]
     },
     "execution_count": 22,
     "metadata": {},
     "output_type": "execute_result"
    },
    {
     "data": {
      "image/png": "[encoded data removed]",
      "text/plain": [
       "<Figure size 640x480 with 1 Axes>"
      ]
     },
     "metadata": {},
     "output_type": "display_data"
    }
   ],
   "source": [
    "plt.plot(df[\"volume\"], df[\"energy_tot\"])\n",
    "plt.xlabel(\"Volume $\\AA^3$\")\n",
    "plt.ylabel(\"Energy (eV)\")"
   ]
  },
  {
   "cell_type": "markdown",
   "id": "27ba5984-1d57-4133-90c7-390fe1c92a5a",
   "metadata": {},
   "source": [
    "Again using a `pandas.DataFrame` might look overly complicated for just plotting an energy volume curve, but the intention of this functionality is to analyse hundreds or thousands of calculation. In addition the `pandas.DataFrame` format is supported by a wide range of machine learning packages, so the output of the pyiron table can be directly integrated in an machine learning workflow. "
   ]
  },
  {
   "cell_type": "markdown",
   "id": "14601d88-834d-4ed6-8fd4-fb6be35d1171",
   "metadata": {},
   "source": [
    "# Murnaghan class "
   ]
  },
  {
   "cell_type": "markdown",
   "id": "f0180d31-dcf2-4442-8c78-c2a5239e81f2",
   "metadata": {},
   "source": [
    "Still calculating energy volume curves is such a standard task in particular in the ab-initio community, that pyiron provides another abstraction layer. The `Murnaghan` job object named after the Murnaghan, named after the [Murnaghan equation of state](https://en.wikipedia.org/wiki/Murnaghan_equation_of_state) is a `GenericMaster` job object, which basically means it is a job object creating other job objects. "
   ]
  },
  {
   "cell_type": "code",
   "execution_count": 23,
   "id": "b43ca960-0149-477f-b03e-034da9b6a7aa",
   "metadata": {},
   "outputs": [],
   "source": [
    "murn = pr.create.job.Murnaghan(job_name=\"murn\")"
   ]
  },
  {
   "cell_type": "markdown",
   "id": "dd77ebc6-18f1-433f-9acb-bfa695d77278",
   "metadata": {},
   "source": [
    "The `GenericMaster` job objects take a reference job as an input `ref_job` and internally copy this reference job using the `copy_to()` function as demonstrated above."
   ]
  },
  {
   "cell_type": "code",
   "execution_count": 24,
   "id": "acd32e75-ac92-4702-902c-4ab5fec07a70",
   "metadata": {},
   "outputs": [],
   "source": [
    "murn.ref_job = job_template"
   ]
  },
  {
   "cell_type": "markdown",
   "id": "7f2678d7-90c8-40e9-86c8-ceabdaacd4e2",
   "metadata": {},
   "source": [
    "Beyond the `ref_job` the `Murnaghan` job object defines a series of further input arguments, like the number of sample points or the volume range which can all be set via the `input` property using the dictionary notation. "
   ]
  },
  {
   "cell_type": "code",
   "execution_count": 25,
   "id": "fe3dd73d-83ae-48bc-ac39-a63a63dae192",
   "metadata": {},
   "outputs": [
    {
     "data": {
      "text/html": [
       "<div>\n",
       "<style scoped>\n",
       "    .dataframe tbody tr th:only-of-type {\n",
       "        vertical-align: middle;\n",
       "    }\n",
       "\n",
       "    .dataframe tbody tr th {\n",
       "        vertical-align: top;\n",
       "    }\n",
       "\n",
       "    .dataframe thead th {\n",
       "        text-align: right;\n",
       "    }\n",
       "</style>\n",
       "<table border=\"1\" class=\"dataframe\">\n",
       "  <thead>\n",
       "    <tr style=\"text-align: right;\">\n",
       "      <th></th>\n",
       "      <th>Parameter</th>\n",
       "      <th>Value</th>\n",
       "      <th>Comment</th>\n",
       "    </tr>\n",
       "  </thead>\n",
       "  <tbody>\n",
       "    <tr>\n",
       "      <th>0</th>\n",
       "      <td>num_points</td>\n",
       "      <td>11</td>\n",
       "      <td>number of sample points</td>\n",
       "    </tr>\n",
       "    <tr>\n",
       "      <th>1</th>\n",
       "      <td>fit_type</td>\n",
       "      <td>polynomial</td>\n",
       "      <td>['polynomial', 'birch', 'birchmurnaghan', 'murnaghan', 'pouriertarantola', 'vinet']</td>\n",
       "    </tr>\n",
       "    <tr>\n",
       "      <th>2</th>\n",
       "      <td>fit_order</td>\n",
       "      <td>3</td>\n",
       "      <td>order of the fit polynom</td>\n",
       "    </tr>\n",
       "    <tr>\n",
       "      <th>3</th>\n",
       "      <td>vol_range</td>\n",
       "      <td>0.1</td>\n",
       "      <td>relative volume variation around volume defined by ref_ham</td>\n",
       "    </tr>\n",
       "    <tr>\n",
       "      <th>4</th>\n",
       "      <td>axes</td>\n",
       "      <td>(x, y, z)</td>\n",
       "      <td>Axes along which the strain will be applied</td>\n",
       "    </tr>\n",
       "    <tr>\n",
       "      <th>5</th>\n",
       "      <td>strains</td>\n",
       "      <td>None</td>\n",
       "      <td>List of strains that should be calculated.  If given vol_range and num_points take no effect.</td>\n",
       "    </tr>\n",
       "    <tr>\n",
       "      <th>6</th>\n",
       "      <td>allow_aborted</td>\n",
       "      <td>0</td>\n",
       "      <td>The number of child jobs that are allowed to abort, before the whole job is considered aborted.</td>\n",
       "    </tr>\n",
       "  </tbody>\n",
       "</table>\n",
       "</div>"
      ],
      "text/plain": [
       "       Parameter       Value  \\\n",
       "0     num_points          11   \n",
       "1       fit_type  polynomial   \n",
       "2      fit_order           3   \n",
       "3      vol_range         0.1   \n",
       "4           axes   (x, y, z)   \n",
       "5        strains        None   \n",
       "6  allow_aborted           0   \n",
       "\n",
       "                                                                                           Comment  \n",
       "0                                                                          number of sample points  \n",
       "1              ['polynomial', 'birch', 'birchmurnaghan', 'murnaghan', 'pouriertarantola', 'vinet']  \n",
       "2                                                                         order of the fit polynom  \n",
       "3                                       relative volume variation around volume defined by ref_ham  \n",
       "4                                                      Axes along which the strain will be applied  \n",
       "5    List of strains that should be calculated.  If given vol_range and num_points take no effect.  \n",
       "6  The number of child jobs that are allowed to abort, before the whole job is considered aborted.  "
      ]
     },
     "execution_count": 25,
     "metadata": {},
     "output_type": "execute_result"
    }
   ],
   "source": [
    "murn.input"
   ]
  },
  {
   "cell_type": "markdown",
   "id": "71c416f3-e5e9-4d23-8885-e634959b7e64",
   "metadata": {},
   "source": [
    "After both the reference job and the input for the `GenericMaster` job object are defined the `GenericMaster` job object can be executed like any other job object by calling the `run()` function. In particular, this also means that the whole `GenericMaster` job object can be submitted to the queuing system to execute multiple individual calculation either in serial if the number of cores `job.server.cores` of the reference job is euqal to the number of cores of the `GenericMaster` job object `murn.server.cores` or in parallel if the number of cores for the `GenericMaster` job object is sufficiently large. "
   ]
  },
  {
   "cell_type": "code",
   "execution_count": 26,
   "id": "7cbb2a2a-b29c-4034-8c67-ad49f794547f",
   "metadata": {},
   "outputs": [
    {
     "name": "stdout",
     "output_type": "stream",
     "text": [
      "The job murn was saved and received the ID: 113\n",
      "The job murn_0_9 was saved and received the ID: 114\n",
      "The job murn_0_92 was saved and received the ID: 115\n",
      "The job murn_0_94 was saved and received the ID: 116\n",
      "The job murn_0_96 was saved and received the ID: 117\n",
      "The job murn_0_98 was saved and received the ID: 118\n",
      "The job murn_1_0 was saved and received the ID: 119\n",
      "The job murn_1_02 was saved and received the ID: 120\n",
      "The job murn_1_04 was saved and received the ID: 121\n",
      "The job murn_1_06 was saved and received the ID: 122\n",
      "The job murn_1_08 was saved and received the ID: 123\n",
      "The job murn_1_1 was saved and received the ID: 124\n"
     ]
    }
   ],
   "source": [
    "murn.run()"
   ]
  },
  {
   "cell_type": "markdown",
   "id": "330675bf-9b46-4503-bf27-0eea924b4727",
   "metadata": {},
   "source": [
    "In addition to simplifying the submission and execution of the calculation the `Murnaghan` job object also provides utility functions like the ability to plot the energy volume curve directly using the `plot()` function. "
   ]
  },
  {
   "cell_type": "code",
   "execution_count": 27,
   "id": "907dcf87-5c2b-4974-87eb-f98be2fa5413",
   "metadata": {},
   "outputs": [
    {
     "data": {
      "image/png": "[encoded data removed]",
      "text/plain": [
       "<Figure size 640x480 with 1 Axes>"
      ]
     },
     "metadata": {},
     "output_type": "display_data"
    },
    {
     "data": {
      "text/plain": [
       "<Axes: title={'center': 'Murnaghan: error: 1.0658337234378009e-08'}, xlabel='Volume ($\\\\AA^3$)', ylabel='energy (eV)'>"
      ]
     },
     "execution_count": 27,
     "metadata": {},
     "output_type": "execute_result"
    }
   ],
   "source": [
    "murn.plot()"
   ]
  },
  {
   "cell_type": "markdown",
   "id": "edb56a7b-dfec-4798-8778-65146e4a3694",
   "metadata": {},
   "source": [
    "# Loop over interatomic potentials"
   ]
  },
  {
   "cell_type": "markdown",
   "id": "ab9c86dd-bdad-46ef-b5e8-8dcd0138d856",
   "metadata": {},
   "source": [
    "As already indicated in the beginning we can now combine the functionality of the `Murnaghan` job object and the pyiron table object and iterate over a series of interatomic potentials to compare their equilibrium properties. To do so we create a new project named `potentials`. Again in this project we delete all existing calculation to have a fresh start. "
   ]
  },
  {
   "cell_type": "code",
   "execution_count": 28,
   "id": "d776c7be-9784-4ce7-a33b-f4ee57d3cef6",
   "metadata": {},
   "outputs": [
    {
     "data": {
      "application/vnd.jupyter.widget-view+json": {
       "model_id": "42ae1e1426e243e782518a7bf1af2a5a",
       "version_major": 2,
       "version_minor": 0
      },
      "text/plain": [
       "0it [00:00, ?it/s]"
      ]
     },
     "metadata": {},
     "output_type": "display_data"
    }
   ],
   "source": [
    "pr = Project(path=\"potentials\")\n",
    "pr.remove_jobs(silently=True)"
   ]
  },
  {
   "cell_type": "markdown",
   "id": "e2045492-d963-4ca7-9bdc-a051743bd025",
   "metadata": {},
   "source": [
    "We restrict ourselves to the first ten interatomic potentials for aluminium from the `list_potentials()` function, to reduce the number of calculation. "
   ]
  },
  {
   "cell_type": "code",
   "execution_count": 29,
   "id": "edc42ee1-1312-48f8-83b0-944e9e920452",
   "metadata": {},
   "outputs": [
    {
     "data": {
      "text/plain": [
       "['1995--Angelo-J-E--Ni-Al-H--LAMMPS--ipr1',\n",
       " '1996--Farkas-D--Nb-Ti-Al--LAMMPS--ipr1',\n",
       " '1997--Liu-X-Y--Al-Mg--LAMMPS--ipr1',\n",
       " '1998--Liu-X-Y--Al-Mg--LAMMPS--ipr1',\n",
       " '1999--Liu-X-Y--Al-Cu--LAMMPS--ipr1',\n",
       " '1999--Mishin-Y--Al--LAMMPS--ipr1',\n",
       " '2000--Landa-A--Al-Pb--LAMMPS--ipr1',\n",
       " '2000--Sturgeon-J-B--Al--LAMMPS--ipr1',\n",
       " '2002--Mishin-Y--Ni-Al--LAMMPS--ipr1',\n",
       " '2003--Lee-B-J--Al--LAMMPS--ipr1']"
      ]
     },
     "execution_count": 29,
     "metadata": {},
     "output_type": "execute_result"
    }
   ],
   "source": [
    "potential_lst = job_template.list_potentials()[:10]\n",
    "potential_lst"
   ]
  },
  {
   "cell_type": "markdown",
   "id": "791c2721-9a43-4220-9e15-eb8dd209cdda",
   "metadata": {},
   "source": [
    "In addition, we introduce another command to accelerate the execution. This command is switching the `run_mode` from `modal` which is the default to `interactive`. In terms of the LAMMPS execution this means, rather than writing input files and parsing output files we now use the LAMMPS Python interface and directly communicate with it using Python variables. This switch of `run_mode` drastically reduces the I/O overhead and consequently accelerates the calculations.  "
   ]
  },
  {
   "cell_type": "code",
   "execution_count": 30,
   "id": "a2679a1f-e506-4e5b-93ad-a21a0f994eb0",
   "metadata": {},
   "outputs": [],
   "source": [
    "job_template.server.run_mode.interactive = True"
   ]
  },
  {
   "cell_type": "markdown",
   "id": "e1305a69-e677-498f-b812-596f164a63e3",
   "metadata": {},
   "source": [
    "Now iterating over the list of interatomic potentials is as easy as iterating over the different strains in the previous example. We notice that rather than creating a single LAMMPS job object for each strain of a given `Murnaghan` job object, the interactive `run_mode` allows us to reuse the LAMMPS job object, resulting in only one LAMMPS job object for each `Murnaghan` job object. "
   ]
  },
  {
   "cell_type": "code",
   "execution_count": 31,
   "id": "d91a5d26-948b-44f0-811b-ade929b2f4cf",
   "metadata": {},
   "outputs": [
    {
     "name": "stdout",
     "output_type": "stream",
     "text": [
      "The job murn_1995__Angelo_J_E__Ni_Al_H__LAMMPS__ipr1 was saved and received the ID: 125\n",
      "The job murn_1995__Angelo_J_E__Ni_Al_H__LAMMPS__ipr1_lmp_0 was saved and received the ID: 126\n",
      "The job murn_1996__Farkas_D__Nb_Ti_Al__LAMMPS__ipr1 was saved and received the ID: 127\n",
      "The job murn_1996__Farkas_D__Nb_Ti_Al__LAMMPS__ipr1_lmp_1 was saved and received the ID: 128\n"
     ]
    },
    {
     "name": "stderr",
     "output_type": "stream",
     "text": [
      "2025-06-11 05:36:05,347 - pyiron_log - WARNING - Minimum could not be found!\n"
     ]
    },
    {
     "name": "stdout",
     "output_type": "stream",
     "text": [
      "The job murn_1997__Liu_X_Y__Al_Mg__LAMMPS__ipr1 was saved and received the ID: 129\n",
      "The job murn_1997__Liu_X_Y__Al_Mg__LAMMPS__ipr1_lmp_2 was saved and received the ID: 130\n",
      "The job murn_1998__Liu_X_Y__Al_Mg__LAMMPS__ipr1 was saved and received the ID: 131\n",
      "The job murn_1998__Liu_X_Y__Al_Mg__LAMMPS__ipr1_lmp_3 was saved and received the ID: 132\n",
      "The job murn_1999__Liu_X_Y__Al_Cu__LAMMPS__ipr1 was saved and received the ID: 133\n",
      "The job murn_1999__Liu_X_Y__Al_Cu__LAMMPS__ipr1_lmp_4 was saved and received the ID: 134\n",
      "The job murn_1999__Mishin_Y__Al__LAMMPS__ipr1 was saved and received the ID: 135\n",
      "The job murn_1999__Mishin_Y__Al__LAMMPS__ipr1_lmp_5 was saved and received the ID: 136\n",
      "The job murn_2000__Landa_A__Al_Pb__LAMMPS__ipr1 was saved and received the ID: 137\n",
      "The job murn_2000__Landa_A__Al_Pb__LAMMPS__ipr1_lmp_6 was saved and received the ID: 138\n",
      "The job murn_2000__Sturgeon_J_B__Al__LAMMPS__ipr1 was saved and received the ID: 139\n",
      "The job murn_2000__Sturgeon_J_B__Al__LAMMPS__ipr1_lmp_7 was saved and received the ID: 140\n",
      "The job murn_2002__Mishin_Y__Ni_Al__LAMMPS__ipr1 was saved and received the ID: 141\n",
      "The job murn_2002__Mishin_Y__Ni_Al__LAMMPS__ipr1_lmp_8 was saved and received the ID: 142\n",
      "The job murn_2003__Lee_B_J__Al__LAMMPS__ipr1 was saved and received the ID: 143\n",
      "The job murn_2003__Lee_B_J__Al__LAMMPS__ipr1_lmp_9 was saved and received the ID: 144\n"
     ]
    }
   ],
   "source": [
    "for i, potential in enumerate(potential_lst): \n",
    "    murn = pr.create.job.Murnaghan(job_name=\"murn_\" + potential.replace(\"-\", \"_\"))\n",
    "    job_pot = job_template.copy_to(\n",
    "        new_job_name=\"lmp_\" + str(i), \n",
    "        new_database_entry=False\n",
    "    )\n",
    "    job_pot.potential = potential \n",
    "    murn.ref_job = job_pot\n",
    "    murn.run()"
   ]
  },
  {
   "cell_type": "markdown",
   "id": "8f5e19e0-4d6e-4d66-bc1b-8cdf779313c4",
   "metadata": {},
   "source": [
    "Again analogy to analysing the energy volume curve above, we first start by analysing the `output` of a single murnaghan object and then define the functions which are applied to each `Murnaghan` job object afterwards. "
   ]
  },
  {
   "cell_type": "code",
   "execution_count": 32,
   "id": "549b5223-63fd-45c7-8a4a-565da504d1bc",
   "metadata": {},
   "outputs": [
    {
     "data": {
      "text/plain": [
       "(-13.440482175733948, 81.39064020678444, 66.17077428883762)"
      ]
     },
     "execution_count": 32,
     "metadata": {},
     "output_type": "execute_result"
    }
   ],
   "source": [
    "murn.content[\"output/equilibrium_energy\"], murn.content[\"output/equilibrium_bulk_modulus\"], murn.content[\"output/equilibrium_volume\"]"
   ]
  },
  {
   "cell_type": "code",
   "execution_count": 33,
   "id": "20e87928-82c9-424c-ad9b-209aa8dfc100",
   "metadata": {},
   "outputs": [],
   "source": [
    "def get_equilibrium_energy(job):\n",
    "    return job.content[\"output/equilibrium_energy\"]\n",
    "\n",
    "def get_equilibrium_volume(job):\n",
    "    return job.content[\"output/equilibrium_volume\"]\n",
    "\n",
    "def get_equilibrium_bulk_modulus(job):\n",
    "    return job.content[\"output/equilibrium_bulk_modulus\"]\n",
    "\n",
    "def get_potential_name(job):\n",
    "    return job.job_name.split(\"murn_\")[-1].replace(\"_\", \"-\")"
   ]
  },
  {
   "cell_type": "markdown",
   "id": "f400afe6-4a1f-483e-bcb1-74028e788759",
   "metadata": {},
   "source": [
    "As the project now contains both LAMMPS job objects as well as the `Murnaghan` job objects we define an additional filter function, which filters the job objects based on the `hamilton` entry in the `database_entry`. The filter function again receives a the pointer to the HDF5 file of a job object and returns either `True` or `False` if the job should be included in the map-reduce step or not. "
   ]
  },
  {
   "cell_type": "code",
   "execution_count": 34,
   "id": "5b012f3a-696b-46a4-85d1-445ca3262220",
   "metadata": {},
   "outputs": [
    {
     "data": {
      "text/plain": [
       "'Murnaghan'"
      ]
     },
     "execution_count": 34,
     "metadata": {},
     "output_type": "execute_result"
    }
   ],
   "source": [
    "murn.database_entry.hamilton"
   ]
  },
  {
   "cell_type": "code",
   "execution_count": 35,
   "id": "8ca1235d-e642-427c-b13f-e38bbcfaeb88",
   "metadata": {},
   "outputs": [],
   "source": [
    "def filter_jobs(job):\n",
    "    return job.database_entry.hamilton == 'Murnaghan'"
   ]
  },
  {
   "cell_type": "markdown",
   "id": "ed13513f-64ed-46cc-b522-35b835718022",
   "metadata": {},
   "source": [
    "Finally, The pyiron table is created in analogy to the previous example, the filter function is assigned to the table object in addition to the analysis functions. After the definition of the pyiron table object is completed it is applied to the project by calling the `run()` function. "
   ]
  },
  {
   "cell_type": "code",
   "execution_count": 36,
   "id": "cca3ce7e-63bb-418b-96a9-4ba11a6e9dde",
   "metadata": {},
   "outputs": [],
   "source": [
    "table = pr.create.table(job_name=\"potentials\")"
   ]
  },
  {
   "cell_type": "code",
   "execution_count": 37,
   "id": "3694d908-8a00-4bf3-abcf-08670f38ff05",
   "metadata": {},
   "outputs": [],
   "source": [
    "table.filter_function = filter_jobs"
   ]
  },
  {
   "cell_type": "code",
   "execution_count": 38,
   "id": "12c64984-5505-4349-bf68-e784602ebd74",
   "metadata": {},
   "outputs": [],
   "source": [
    "table.add[\"potential_name\"] = get_potential_name\n",
    "table.add[\"equilibrium_energy\"] = get_equilibrium_energy\n",
    "table.add[\"equilibrium_volume\"] = get_equilibrium_volume\n",
    "table.add[\"equilibrium_bulk_modulus\"] = get_equilibrium_bulk_modulus"
   ]
  },
  {
   "cell_type": "code",
   "execution_count": 39,
   "id": "e2e5ed6d-ebb7-4b5b-be02-546a154bf4cc",
   "metadata": {},
   "outputs": [
    {
     "name": "stdout",
     "output_type": "stream",
     "text": [
      "The job potentials was saved and received the ID: 145\n"
     ]
    },
    {
     "data": {
      "application/vnd.jupyter.widget-view+json": {
       "model_id": "fd4ff9c1a62e4c84bb69719b1e899454",
       "version_major": 2,
       "version_minor": 0
      },
      "text/plain": [
       "Loading and filtering jobs:   0%|          | 0/21 [00:00<?, ?it/s]"
      ]
     },
     "metadata": {},
     "output_type": "display_data"
    },
    {
     "data": {
      "application/vnd.jupyter.widget-view+json": {
       "model_id": "7dd017f9df0f490480d46c1cbf27536c",
       "version_major": 2,
       "version_minor": 0
      },
      "text/plain": [
       "  0%|          | 0/9 [00:00<?, ?it/s]"
      ]
     },
     "metadata": {},
     "output_type": "display_data"
    }
   ],
   "source": [
    "table.run()"
   ]
  },
  {
   "cell_type": "markdown",
   "id": "df8b6eed-e302-42d5-871a-6f715e0ed9c8",
   "metadata": {},
   "source": [
    "The table lists the properties calculated for the individual interatomic potentials in a `pandas.DataFrame`."
   ]
  },
  {
   "cell_type": "code",
   "execution_count": 40,
   "id": "e2511cc3-4928-4f82-a2d5-516f84e3dfea",
   "metadata": {},
   "outputs": [
    {
     "data": {
      "text/html": [
       "<div>\n",
       "<style scoped>\n",
       "    .dataframe tbody tr th:only-of-type {\n",
       "        vertical-align: middle;\n",
       "    }\n",
       "\n",
       "    .dataframe tbody tr th {\n",
       "        vertical-align: top;\n",
       "    }\n",
       "\n",
       "    .dataframe thead th {\n",
       "        text-align: right;\n",
       "    }\n",
       "</style>\n",
       "<table border=\"1\" class=\"dataframe\">\n",
       "  <thead>\n",
       "    <tr style=\"text-align: right;\">\n",
       "      <th></th>\n",
       "      <th>job_id</th>\n",
       "      <th>potential_name</th>\n",
       "      <th>equilibrium_energy</th>\n",
       "      <th>equilibrium_volume</th>\n",
       "      <th>equilibrium_bulk_modulus</th>\n",
       "    </tr>\n",
       "  </thead>\n",
       "  <tbody>\n",
       "    <tr>\n",
       "      <th>0</th>\n",
       "      <td>125</td>\n",
       "      <td>1995--Angelo-J-E--Ni-Al-H--LAMMPS--ipr1</td>\n",
       "      <td>-13.440397</td>\n",
       "      <td>66.427847</td>\n",
       "      <td>81.040441</td>\n",
       "    </tr>\n",
       "    <tr>\n",
       "      <th>1</th>\n",
       "      <td>129</td>\n",
       "      <td>1997--Liu-X-Y--Al-Mg--LAMMPS--ipr1</td>\n",
       "      <td>-13.440589</td>\n",
       "      <td>65.580479</td>\n",
       "      <td>83.498560</td>\n",
       "    </tr>\n",
       "    <tr>\n",
       "      <th>2</th>\n",
       "      <td>131</td>\n",
       "      <td>1998--Liu-X-Y--Al-Mg--LAMMPS--ipr1</td>\n",
       "      <td>-13.441401</td>\n",
       "      <td>65.619037</td>\n",
       "      <td>90.567634</td>\n",
       "    </tr>\n",
       "    <tr>\n",
       "      <th>3</th>\n",
       "      <td>133</td>\n",
       "      <td>1999--Liu-X-Y--Al-Cu--LAMMPS--ipr1</td>\n",
       "      <td>-13.440403</td>\n",
       "      <td>65.579624</td>\n",
       "      <td>83.423053</td>\n",
       "    </tr>\n",
       "    <tr>\n",
       "      <th>4</th>\n",
       "      <td>135</td>\n",
       "      <td>1999--Mishin-Y--Al--LAMMPS--ipr1</td>\n",
       "      <td>-13.439988</td>\n",
       "      <td>66.426610</td>\n",
       "      <td>77.697753</td>\n",
       "    </tr>\n",
       "    <tr>\n",
       "      <th>5</th>\n",
       "      <td>137</td>\n",
       "      <td>2000--Landa-A--Al-Pb--LAMMPS--ipr1</td>\n",
       "      <td>-13.437999</td>\n",
       "      <td>65.511564</td>\n",
       "      <td>78.213776</td>\n",
       "    </tr>\n",
       "    <tr>\n",
       "      <th>6</th>\n",
       "      <td>139</td>\n",
       "      <td>2000--Sturgeon-J-B--Al--LAMMPS--ipr1</td>\n",
       "      <td>-13.560872</td>\n",
       "      <td>66.447223</td>\n",
       "      <td>80.266269</td>\n",
       "    </tr>\n",
       "    <tr>\n",
       "      <th>7</th>\n",
       "      <td>141</td>\n",
       "      <td>2002--Mishin-Y--Ni-Al--LAMMPS--ipr1</td>\n",
       "      <td>-13.447738</td>\n",
       "      <td>66.534453</td>\n",
       "      <td>95.971718</td>\n",
       "    </tr>\n",
       "    <tr>\n",
       "      <th>8</th>\n",
       "      <td>143</td>\n",
       "      <td>2003--Lee-B-J--Al--LAMMPS--ipr1</td>\n",
       "      <td>-13.440482</td>\n",
       "      <td>66.170774</td>\n",
       "      <td>81.390640</td>\n",
       "    </tr>\n",
       "  </tbody>\n",
       "</table>\n",
       "</div>"
      ],
      "text/plain": [
       "   job_id                           potential_name  equilibrium_energy  \\\n",
       "0     125  1995--Angelo-J-E--Ni-Al-H--LAMMPS--ipr1          -13.440397   \n",
       "1     129       1997--Liu-X-Y--Al-Mg--LAMMPS--ipr1          -13.440589   \n",
       "2     131       1998--Liu-X-Y--Al-Mg--LAMMPS--ipr1          -13.441401   \n",
       "3     133       1999--Liu-X-Y--Al-Cu--LAMMPS--ipr1          -13.440403   \n",
       "4     135         1999--Mishin-Y--Al--LAMMPS--ipr1          -13.439988   \n",
       "5     137       2000--Landa-A--Al-Pb--LAMMPS--ipr1          -13.437999   \n",
       "6     139     2000--Sturgeon-J-B--Al--LAMMPS--ipr1          -13.560872   \n",
       "7     141      2002--Mishin-Y--Ni-Al--LAMMPS--ipr1          -13.447738   \n",
       "8     143          2003--Lee-B-J--Al--LAMMPS--ipr1          -13.440482   \n",
       "\n",
       "   equilibrium_volume  equilibrium_bulk_modulus  \n",
       "0           66.427847                 81.040441  \n",
       "1           65.580479                 83.498560  \n",
       "2           65.619037                 90.567634  \n",
       "3           65.579624                 83.423053  \n",
       "4           66.426610                 77.697753  \n",
       "5           65.511564                 78.213776  \n",
       "6           66.447223                 80.266269  \n",
       "7           66.534453                 95.971718  \n",
       "8           66.170774                 81.390640  "
      ]
     },
     "execution_count": 40,
     "metadata": {},
     "output_type": "execute_result"
    }
   ],
   "source": [
    "table.get_dataframe()"
   ]
  },
  {
   "cell_type": "markdown",
   "id": "17e9e684-6c02-4591-9589-b18c0900941d",
   "metadata": {},
   "source": [
    "# Summary "
   ]
  },
  {
   "cell_type": "markdown",
   "id": "f3f4d992-0036-4468-ae20-d06ae936c076",
   "metadata": {},
   "source": [
    "The second tutorial illustrates two things, on the one hand how the pre-defined classes in pyiron allow the user to up-scale their simulation protocols and on the other hand how expert commands like the `inspect()` function or switching the `run_mode` can be leveraged in pyiron to drastically accelerate the execution of a given simulation protocol. This combination makes pyiron suitable for parameter studies for interatomic potentials. "
   ]
  },
  {
   "cell_type": "code",
   "execution_count": null,
   "id": "0522455d-1c09-42b1-a0a2-2dfc1bb8c991",
   "metadata": {},
   "outputs": [],
   "source": []
  }
 ],
 "metadata": {
  "kernelspec": {
   "display_name": "Python 3 (ipykernel)",
   "language": "python",
   "name": "python3"
  },
  "language_info": {
   "codemirror_mode": {
    "name": "ipython",
    "version": 3
   },
   "file_extension": ".py",
   "mimetype": "text/x-python",
   "name": "python",
   "nbconvert_exporter": "python",
   "pygments_lexer": "ipython3",
   "version": "3.12.10"
  }
 },
 "nbformat": 4,
 "nbformat_minor": 5
}
