{
 "cells": [
  {
   "cell_type": "markdown",
   "id": "8ef7e657-bcfc-495a-802c-cf037cb16c98",
   "metadata": {},
   "source": [
    "# Introduction to pyiron for LAMMPS users\n",
    "\n",
    "Author: [jan-janssen](https://jan-janssen.com)\n",
    "\n",
    "The [pyiron framework](https://pyiron.org) enables rapid prototyping and up-scaling of simulation protocols. In pyiron simulation protocols are developed in jupyter notebooks using the Python programming language. This has two advantages, on the one hand documentation, code and results can be combined in the same document to maintain their provenance and on the other hand the user no longer has to switch between different interfaces, setting up the calculation, submitting it to an high performance computing (HPC) cluster and analysing the results of the finished calculation can all be done in the same document.\n",
    "\n",
    "While LAMMPS already has a Python interface to access the [LAMMPS library](https://docs.lammps.org/Python_module.html) from Python as well as the ability to call [Python within your LAMMPS simulation protocol](https://docs.lammps.org/Python_call.html), pyiron adds an abstraction layer on top of this functionality. In particular pyiron provides job management and data management for LAMMPS calculation. This enables users to run parameter studies over hundreds or thousands of parameters. Consequently, pyiron is very beneficial to up-scale simulation protocols to iterate over the periodic table and identify chemical trends. \n",
    "\n",
    "To learn more about pyiron:\n",
    "* https://doi.org/10.1016/j.commatsci.2018.07.043\n",
    "* https://pyiron.org\n",
    "* https://github.com/pyiron\n",
    "\n",
    "This tutorial covers the basic usage of the pyiron framework: \n",
    "* Create a new project in pyiron \n",
    "* Create an atomistic structure\n",
    "* Visualize an atomistic structure\n",
    "* Run a LAMMPS calculation with pyiron\n",
    "* Plot the results of a LAMMPS calculation"
   ]
  },
  {
   "cell_type": "markdown",
   "id": "1e4f7c85-03c5-4a51-a791-7ace4e203006",
   "metadata": {},
   "source": [
    "# Auto completion in Jupyter\n",
    "By default Jupyter only supports one level of tab-based auto completion. This restriction is introduced to prevent Python packages to execute code without the users intent. Still for pyiron this functionality simplifies the interactive development so we re-enable it here: "
   ]
  },
  {
   "cell_type": "code",
   "execution_count": 1,
   "id": "29cbabb9-b116-470d-8200-45e8f24c637a",
   "metadata": {},
   "outputs": [],
   "source": [
    "%config IPCompleter.evaluation='unsafe'"
   ]
  },
  {
   "cell_type": "markdown",
   "id": "48710c2b-e16c-4786-bbaa-67455a9e1107",
   "metadata": {},
   "source": [
    "# Create a new project in pyiron"
   ]
  },
  {
   "cell_type": "markdown",
   "id": "4f3feb27-3ac0-48e7-814f-0df0252c329c",
   "metadata": {},
   "source": [
    "To simplify the use of pyiron inside jupyter notebooks, the pyiron framework only requires a single import statement. As LAMMPS is an atomistic simulation code, we are going to import the `Project` class from the `pyiron_atomistics` module."
   ]
  },
  {
   "cell_type": "code",
   "execution_count": 2,
   "id": "d3127aea-30b4-48da-8c54-96cc4749e536",
   "metadata": {},
   "outputs": [
    {
     "data": {
      "application/vnd.jupyter.widget-view+json": {
       "model_id": "811d2e0164184c0f8a57d398b8984bb8",
       "version_major": 2,
       "version_minor": 0
      },
      "text/plain": []
     },
     "metadata": {},
     "output_type": "display_data"
    },
    {
     "name": "stderr",
     "output_type": "stream",
     "text": [
      "/Users/janssen/mambaforge/lib/python3.12/site-packages/nglview/__init__.py:12: UserWarning: pkg_resources is deprecated as an API. See https://setuptools.pypa.io/en/latest/pkg_resources.html. The pkg_resources package is slated for removal as early as 2025-11-30. Refrain from using this package or pin to Setuptools<81.\n",
      "  import pkg_resources\n"
     ]
    }
   ],
   "source": [
    "from pyiron_atomistics import Project"
   ]
  },
  {
   "cell_type": "markdown",
   "id": "a3fba135-54fc-48df-aeaa-bbf6d3939599",
   "metadata": {},
   "source": [
    "The `Project` class in pyiron behaves just like a folder on the filesystem. In contrast to other workflow systems in pyiron the user does not have to interact with the underlying database directly but rather pyiron leverages the filesystem to structure individual calculation into projects. So we can create a first project named `test` to get started."
   ]
  },
  {
   "cell_type": "code",
   "execution_count": 3,
   "id": "1d121cbd-c0bc-4944-9611-3227a171df11",
   "metadata": {},
   "outputs": [],
   "source": [
    "pr = Project(path=\"test\")"
   ]
  },
  {
   "cell_type": "markdown",
   "id": "6552bb8c-d1cb-4583-9587-84c121de2e91",
   "metadata": {},
   "source": [
    "For validation we can use the `ls` command on the commandline to see that the project folder named test was actually created: "
   ]
  },
  {
   "cell_type": "code",
   "execution_count": 4,
   "id": "ecb5885e-ee82-4aa9-bfff-5a3dab809b2f",
   "metadata": {},
   "outputs": [
    {
     "name": "stdout",
     "output_type": "stream",
     "text": [
      "lammps_basics.ipynb pyiron.log          \u001b[34mtest\u001b[m\u001b[m\n"
     ]
    }
   ],
   "source": [
    "!ls"
   ]
  },
  {
   "cell_type": "markdown",
   "id": "3c6ce38e-cb38-4203-a290-a4cc6d244a85",
   "metadata": {},
   "source": [
    "In addition to creating new projects, the project class can also be used to list the calculation inside a given project `pr.job_table()` and delete the calculation inside a given project `pr.remove_jobs()` if you want to start fresh. The goal of the database in pyiron is store all the calculation that you executed, so if you execute the same jupyter notebook again the results are reloaded rather than being recalculated. Still for this example we are going to delete all existing calculation:"
   ]
  },
  {
   "cell_type": "code",
   "execution_count": 5,
   "id": "1f38808b-ea8e-443b-bfb6-cc64b5603184",
   "metadata": {},
   "outputs": [
    {
     "data": {
      "text/html": [
       "<div>\n",
       "<style scoped>\n",
       "    .dataframe tbody tr th:only-of-type {\n",
       "        vertical-align: middle;\n",
       "    }\n",
       "\n",
       "    .dataframe tbody tr th {\n",
       "        vertical-align: top;\n",
       "    }\n",
       "\n",
       "    .dataframe thead th {\n",
       "        text-align: right;\n",
       "    }\n",
       "</style>\n",
       "<table border=\"1\" class=\"dataframe\">\n",
       "  <thead>\n",
       "    <tr style=\"text-align: right;\">\n",
       "      <th></th>\n",
       "      <th>id</th>\n",
       "      <th>status</th>\n",
       "      <th>chemicalformula</th>\n",
       "      <th>job</th>\n",
       "      <th>subjob</th>\n",
       "      <th>projectpath</th>\n",
       "      <th>project</th>\n",
       "      <th>timestart</th>\n",
       "      <th>timestop</th>\n",
       "      <th>totalcputime</th>\n",
       "      <th>computer</th>\n",
       "      <th>hamilton</th>\n",
       "      <th>hamversion</th>\n",
       "      <th>parentid</th>\n",
       "      <th>masterid</th>\n",
       "    </tr>\n",
       "  </thead>\n",
       "  <tbody>\n",
       "  </tbody>\n",
       "</table>\n",
       "</div>"
      ],
      "text/plain": [
       "Empty DataFrame\n",
       "Columns: [id, status, chemicalformula, job, subjob, projectpath, project, timestart, timestop, totalcputime, computer, hamilton, hamversion, parentid, masterid]\n",
       "Index: []"
      ]
     },
     "execution_count": 5,
     "metadata": {},
     "output_type": "execute_result"
    }
   ],
   "source": [
    "pr.job_table()"
   ]
  },
  {
   "cell_type": "code",
   "execution_count": 6,
   "id": "1bb09674-e790-463a-8f31-6dd8a7e6ebd0",
   "metadata": {},
   "outputs": [
    {
     "data": {
      "application/vnd.jupyter.widget-view+json": {
       "model_id": "702a7827fb5d4f58b6f2b3976b2c7a31",
       "version_major": 2,
       "version_minor": 0
      },
      "text/plain": [
       "0it [00:00, ?it/s]"
      ]
     },
     "metadata": {},
     "output_type": "display_data"
    }
   ],
   "source": [
    "pr.remove_jobs(silently=True)"
   ]
  },
  {
   "cell_type": "markdown",
   "id": "ec8a8440-28ba-42b8-99d1-baa338cf1093",
   "metadata": {},
   "source": [
    "# Atomistic structures"
   ]
  },
  {
   "cell_type": "markdown",
   "id": "ba71b5eb-3a61-4dfb-9a28-683829098179",
   "metadata": {},
   "source": [
    "After the `Project` class the next object we want to introduce is the atomistic structure object. The pyiron atomistic structure is base on the `ase.atoms.Atom` class from the [atomic simulation environment (ASE)](https://wiki.fysik.dtu.dk/ase/). "
   ]
  },
  {
   "cell_type": "markdown",
   "id": "4f668f36-450e-4328-a3c7-3d4e1938c118",
   "metadata": {},
   "source": [
    "## Create an atomistic structure"
   ]
  },
  {
   "cell_type": "markdown",
   "id": "d839cac6-69d9-4a76-b366-4316cffc96ce",
   "metadata": {},
   "source": [
    "For demonstration purposes we create a bulk aluminium structure. Rather than having to import a separate module to create the structure object, in pyiron we can use the `Project` instance defined above and then use autocompletion (by clicking `<tab>` on your keyboard) to select the `pr.create.structure.ase.bulk()` function. The function takes an element as input and in addition we use the optional parameter `cubic=True` to generate a cubic aluminium cell.  "
   ]
  },
  {
   "cell_type": "code",
   "execution_count": 7,
   "id": "4679e1cd-ce15-44a1-9bd5-b2181281a848",
   "metadata": {},
   "outputs": [],
   "source": [
    "structure = pr.create.structure.ase.bulk(name=\"Al\", cubic=True)"
   ]
  },
  {
   "cell_type": "markdown",
   "id": "050d6b6d-6b11-4c7e-b1b6-7ff8fda6e4fc",
   "metadata": {},
   "source": [
    "## Visualize an atomistic structure"
   ]
  },
  {
   "cell_type": "markdown",
   "id": "999a7ec8-030d-4f96-b01b-7385f3cd725e",
   "metadata": {},
   "source": [
    "Another focus of pyiron is to represent each pyiron object inside the jupyter environment. So in addtion to the string based representation from ASE you can use the `plot3d()` function of the structure object to visualize it using the [Nglview](http://nglviewer.org/nglview/latest/) package. The Nglview package provides a fully interactive visualization integrated in the jupyter notebook environment.  "
   ]
  },
  {
   "cell_type": "code",
   "execution_count": 8,
   "id": "113c6c21-c754-4aec-9278-f38ccd567f2a",
   "metadata": {},
   "outputs": [
    {
     "data": {
      "text/plain": [
       "Al: [0. 0. 0.]\n",
       "Al: [0.    2.025 2.025]\n",
       "Al: [2.025 0.    2.025]\n",
       "Al: [2.025 2.025 0.   ]\n",
       "tags: \n",
       "    indices: [0 0 0 0]\n",
       "pbc: [ True  True  True]\n",
       "cell: \n",
       "Cell([4.05, 4.05, 4.05])"
      ]
     },
     "execution_count": 8,
     "metadata": {},
     "output_type": "execute_result"
    }
   ],
   "source": [
    "structure"
   ]
  },
  {
   "cell_type": "code",
   "execution_count": 9,
   "id": "5e5234ac-ea8d-4514-99af-87c734f2371d",
   "metadata": {},
   "outputs": [
    {
     "data": {
      "application/vnd.jupyter.widget-view+json": {
       "model_id": "f1475a513bf1401999482b5761f88714",
       "version_major": 2,
       "version_minor": 0
      },
      "text/plain": [
       "NGLWidget()"
      ]
     },
     "metadata": {},
     "output_type": "display_data"
    }
   ],
   "source": [
    "structure.plot3d()"
   ]
  },
  {
   "cell_type": "markdown",
   "id": "5227f10f-7101-4ae8-8148-8686770fe3a6",
   "metadata": {},
   "source": [
    "# Run a LAMMPS calculation with pyiron"
   ]
  },
  {
   "cell_type": "markdown",
   "id": "1cdace9c-1e3a-4e1e-a0b0-116533385b11",
   "metadata": {},
   "source": [
    "After creating the structure object, the next step is setting up the LAMMPS calculation. In pyiron individual calculation are called `jobs`. So we can create a LAMMPS object, in analogy to creating an atomistic structure object, using `pr.create.job.Lammps()`. The create job function takes a `job_name` as input argument. This `job_name` is used in the pyiron database to differentiate individual calculation and to allow pyiron to reload existing calculation. "
   ]
  },
  {
   "cell_type": "code",
   "execution_count": 10,
   "id": "86cd56fa-9fee-40b6-80bb-5477c3b0f5b4",
   "metadata": {},
   "outputs": [],
   "source": [
    "lmp = pr.create.job.Lammps(job_name=\"lmp\")"
   ]
  },
  {
   "cell_type": "markdown",
   "id": "75b682d9-8f61-4906-8f8e-5c2d07c52f9b",
   "metadata": {},
   "source": [
    "## Assign the atomistic structure to the LAMMPS calculation"
   ]
  },
  {
   "cell_type": "markdown",
   "id": "1b4a9da6-5c0a-4974-88ec-abebd0611ad6",
   "metadata": {},
   "source": [
    "In the next step we can assign the atomistic structure `structure` created above to the LAMMPS calculation. By setting the `structure` property of the LAMMPS job object:"
   ]
  },
  {
   "cell_type": "code",
   "execution_count": 11,
   "id": "2bcf30f4-89b4-466a-93bc-3cd5c3b47779",
   "metadata": {},
   "outputs": [],
   "source": [
    "lmp.structure = structure"
   ]
  },
  {
   "cell_type": "markdown",
   "id": "e96dc6d6-b489-40d0-bc8a-14729855442f",
   "metadata": {},
   "source": [
    "## Select an interatomic potential for the LAMMPS calculation"
   ]
  },
  {
   "cell_type": "markdown",
   "id": "92102a44-c556-456a-ab2c-7d4c48fd5a33",
   "metadata": {},
   "source": [
    "After the atomistic structure is assigned to the LAMMPS job object, pyiron is internally aware of the elements of the structure. In this particular case pyiron knows an aluminium structure was assinged. So when we want to select an interatomic potential, pyiron automatically queries both the [NIST database](https://www.ctcms.nist.gov/potentials/) as well as the [OpenKIM database](https://openkim.org) to list available interatomic potentials for aluminium. All this is done with the simple `lmp.list_potentials()` call. Alternatively, you can also use the `lmp.view_potentials()` function to get more details about the individual potentials: "
   ]
  },
  {
   "cell_type": "code",
   "execution_count": 12,
   "id": "d8dcfec1-21b3-455a-889f-68bda4abaab4",
   "metadata": {},
   "outputs": [
    {
     "data": {
      "text/plain": [
       "['1995--Angelo-J-E--Ni-Al-H--LAMMPS--ipr1',\n",
       " '1996--Farkas-D--Nb-Ti-Al--LAMMPS--ipr1',\n",
       " '1997--Liu-X-Y--Al-Mg--LAMMPS--ipr1',\n",
       " '1998--Liu-X-Y--Al-Mg--LAMMPS--ipr1',\n",
       " '1999--Liu-X-Y--Al-Cu--LAMMPS--ipr1',\n",
       " '1999--Mishin-Y--Al--LAMMPS--ipr1',\n",
       " '2000--Landa-A--Al-Pb--LAMMPS--ipr1',\n",
       " '2000--Sturgeon-J-B--Al--LAMMPS--ipr1',\n",
       " '2002--Mishin-Y--Ni-Al--LAMMPS--ipr1',\n",
       " '2003--Lee-B-J--Al--LAMMPS--ipr1',\n",
       " '2003--Zope-R-R--Al--LAMMPS--ipr1',\n",
       " '2003--Zope-R-R--Ti-Al--LAMMPS--ipr1',\n",
       " '2004--Liu-X-Y--Al--LAMMPS--ipr1',\n",
       " '2004--Mishin-Y--Ni-Al--LAMMPS--ipr1',\n",
       " '2004--Mishin-Y--Ni-Al--LAMMPS--ipr2',\n",
       " '2004--Zhou-X-W--Al--LAMMPS--ipr2',\n",
       " '2005--Mendelev-M-I--Al-Fe--LAMMPS--ipr1',\n",
       " '2007--Silva-A-C--Al-Ni--LAMMPS--ipr1',\n",
       " '2008--Mendelev-M-I--Al--LAMMPS--ipr1',\n",
       " '2009--Kim-Y-M--Mg-Al--LAMMPS--ipr1',\n",
       " '2009--Mendelev-M-I--Al-Mg--LAMMPS--ipr1',\n",
       " '2009--Purja-Pun-G-P--Ni-Al--LAMMPS--ipr1',\n",
       " '2009--Zhakhovskii-V-V--Al--LAMMPS--ipr2',\n",
       " '2010--Lee-E--Fe-Al--LAMMPS--ipr1',\n",
       " '2010--Mendelev-M-I--fictional-Al-1--LAMMPS--ipr1',\n",
       " '2010--Mendelev-M-I--fictional-Al-2--LAMMPS--ipr1',\n",
       " '2010--Mendelev-M-I--fictional-Al-3--LAMMPS--ipr1',\n",
       " '2010--Winey-J-M--Al--LAMMPS--ipr1',\n",
       " '2011--Apostol-F--Al-Cu--LAMMPS--ipr1',\n",
       " '2011--Ko-W-S--Al-H--LAMMPS--ipr1',\n",
       " '2012--Dong-W-P--Co-Al--LAMMPS--ipr1',\n",
       " '2012--Jelinek-B--Al-Si-Mg-Cu-Fe--LAMMPS--ipr2',\n",
       " '2012--Schopf-D--Al-Mn-Pd--LAMMPS--ipr1',\n",
       " '2013--Shim-J-H--V-Al--LAMMPS--ipr1',\n",
       " '2013--Shim-J-H--V-Al-H--LAMMPS--ipr1',\n",
       " '2015--Choudhary-K--Al--LAMMPS--ipr1',\n",
       " '2015--Choudhary-K--Al-O--LAMMPS--ipr1',\n",
       " '2015--Kim-Y-K--Ni-Al-Co--LAMMPS--ipr1',\n",
       " '2015--Kumar-A--Al-Ni--LAMMPS--ipr1',\n",
       " '2015--Kumar-A--Al-Ni-O--LAMMPS--ipr1',\n",
       " '2015--Mendelev-M-I--Al-Sm--LAMMPS--ipr1',\n",
       " '2015--Pascuet-M-I--Al--LAMMPS--ipr1',\n",
       " '2015--Pascuet-M-I--Al-U--LAMMPS--ipr2',\n",
       " '2015--Purja-Pun-G-P--Al-Co--LAMMPS--ipr2',\n",
       " '2015--Purja-Pun-G-P--Ni-Al-Co--LAMMPS--ipr2',\n",
       " '2016--Kim-Y-K--Al-Ti--LAMMPS--ipr1',\n",
       " '2016--Zhou-X-W--Al-Cu--LAMMPS--ipr2',\n",
       " '2017--Botu-V--Al--LAMMPS--ipr1',\n",
       " '2017--Kim-J-S--Pt-Al--LAMMPS--ipr1',\n",
       " '2017--Kim-Y-K--Ni-Al-Ti--LAMMPS--ipr1',\n",
       " '2018--Dickel-D-E--Mg-Al-Zn--LAMMPS--ipr1',\n",
       " '2018--Jeong-G-U--Pd-Al--LAMMPS--ipr1',\n",
       " '2018--Zhou-X-W--Al-Cu-H--LAMMPS--ipr1',\n",
       " '2019--Plummer-G--Ti-Al-C--LAMMPS--ipr1',\n",
       " '2020--Farkas-D--Fe-Ni-Cr-Co-Al--LAMMPS--ipr1',\n",
       " '2020--Purja-Pun-G-P--Al--LAMMPS--ipr1',\n",
       " '2020--Starikov-S--Si-Au-Al--LAMMPS--ipr1',\n",
       " '2020--Starikov-S--Si-Au-Al--LAMMPS--ipr2',\n",
       " '2021--Plummer-G--Ti-Al-C--LAMMPS--ipr1',\n",
       " '2021--Song-H--Al-Sm--LAMMPS--ipr1',\n",
       " '2022--Fereidonnejad-R--Al-Hf--LAMMPS--ipr1',\n",
       " '2022--Fereidonnejad-R--Al-Nb--LAMMPS--ipr1',\n",
       " '2022--Fereidonnejad-R--Al-Ta--LAMMPS--ipr1',\n",
       " '2022--Fereidonnejad-R--Al-Ti--LAMMPS--ipr1',\n",
       " '2022--Fereidonnejad-R--Al-Zr--LAMMPS--ipr1',\n",
       " '2022--Mahata-A--Al-Cu--LAMMPS--ipr1',\n",
       " '2022--Mahata-A--Al-Fe--LAMMPS--ipr1',\n",
       " '2022--Mahata-A--Al-Ni--LAMMPS--ipr1',\n",
       " '2022--Mendelev-M-I--Ni-Al--LAMMPS--ipr1',\n",
       " 'EAM_CubicNaturalSpline_ErcolessiAdams_1994_Al__MO_800509458712_002',\n",
       " 'EAM_Dynamo_AngeloMoodyBaskes_1995_NiAlH__MO_418978237058_005',\n",
       " 'EAM_Dynamo_CaiYe_1996_AlCu__MO_942551040047_005',\n",
       " 'EAM_Dynamo_ErcolessiAdams_1994_Al__MO_123629422045_005',\n",
       " 'EAM_Dynamo_FarkasJones_1996_NbTiAl__MO_042691367780_000',\n",
       " 'EAM_Dynamo_JacobsenNorskovPuska_1987_Al__MO_411692133366_000',\n",
       " 'EAM_Dynamo_LandaWynblattSiegel_2000_AlPb__MO_699137396381_005',\n",
       " 'EAM_Dynamo_LiuAdams_1998_AlMg__MO_019873715786_000',\n",
       " 'EAM_Dynamo_LiuErcolessiAdams_2004_Al__MO_051157671505_000',\n",
       " 'EAM_Dynamo_LiuLiuBorucki_1999_AlCu__MO_020851069572_000',\n",
       " 'EAM_Dynamo_LiuOhotnickyAdams_1997_AlMg__MO_559870613549_000',\n",
       " 'EAM_Dynamo_MendelevAstaRahman_2009_AlMg__MO_658278549784_005',\n",
       " 'EAM_Dynamo_MendelevFangYe_2015_AlSm__MO_338600200739_000',\n",
       " 'EAM_Dynamo_MendelevKramerBecker_2008_Al__MO_106969701023_005',\n",
       " 'EAM_Dynamo_MendelevSrolovitzAckland_2005_AlFe__MO_577453891941_005',\n",
       " 'EAM_Dynamo_MishinFarkasMehl_1999_Al__MO_651801486679_005',\n",
       " 'EAM_Dynamo_MishinMehlPapaconstantopoulos_2002_NiAl__MO_109933561507_005',\n",
       " 'EAM_Dynamo_Mishin_2004_NiAl__MO_101214310689_005',\n",
       " 'EAM_Dynamo_PunMishin_2009_NiAl__MO_751354403791_005',\n",
       " 'EAM_Dynamo_PunYamakovMishin_2013_AlCo__MO_678952612413_000',\n",
       " 'EAM_Dynamo_PunYamakovMishin_2013_NiAlCo__MO_826591359508_000',\n",
       " 'EAM_Dynamo_SchopfBrommerFrigan_2012_AlMnPd__MO_137572817842_000',\n",
       " 'EAM_Dynamo_SturgeonLaird_2000_Al__MO_120808805541_005',\n",
       " 'EAM_Dynamo_VailheFarkas_1997_CoAl__MO_284963179498_005',\n",
       " 'EAM_Dynamo_WineyKubotaGupta_2010_Al__MO_149316865608_005',\n",
       " 'EAM_Dynamo_Zhakhovsky_2009_Al__MO_519613893196_000',\n",
       " 'EAM_Dynamo_ZhouJohnsonWadley_2004NISTretabulation_Al__MO_060567868558_000',\n",
       " 'EAM_Dynamo_ZhouJohnsonWadley_2004_Al__MO_131650261510_005',\n",
       " 'EAM_Dynamo_ZhouWadleyJohnson_2001_Al__MO_049243498555_000',\n",
       " 'EAM_Dynamo_ZopeMishin_2003_Al__MO_664470114311_005',\n",
       " 'EAM_Dynamo_ZopeMishin_2003_TiAl__MO_117656786760_005',\n",
       " 'EAM_ErcolessiAdams_1994_Al__MO_324507536345_003',\n",
       " 'EAM_IMD_BrommerGaehler_2006A_AlNiCo__MO_122703700223_003',\n",
       " 'EAM_IMD_BrommerGaehler_2006B_AlNiCo__MO_128037485276_003',\n",
       " 'EAM_IMD_SchopfBrommerFrigan_2012_AlMnPd__MO_878712978062_003',\n",
       " 'EAM_QuinticClampedSpline_ErcolessiAdams_1994_Al__MO_450093727396_002',\n",
       " 'EAM_QuinticHermiteSpline_ErcolessiAdams_1994_Al__MO_781138671863_002',\n",
       " 'EMT_Asap_Standard_JacobsenStoltzeNorskov_1996_AlAgAuCuNiPdPt__MO_115316750986_001',\n",
       " 'EMT_Asap_Standard_JacobsenStoltzeNorskov_1996_Al__MO_623376124862_001',\n",
       " 'MEAM_LAMMPS_AlmyrasSangiovanniSarakinos_2019_NAlTi__MO_958395190627_000',\n",
       " 'MEAM_LAMMPS_CostaAgrenClavaguera_2007_AlNi__MO_131642768288_000',\n",
       " 'MEAM_LAMMPS_DongKimKo_2012_CoAl__MO_099716416216_000',\n",
       " 'MEAM_LAMMPS_JelinekGrohHorstemeyer_2012_AlSiMgCuFe__MO_262519520678_000',\n",
       " 'MEAM_LAMMPS_JeongParkDo_2018_PdAl__MO_616482358807_000',\n",
       " 'MEAM_LAMMPS_KimJungLee_2015_NiAlCo__MO_876687166519_000',\n",
       " 'MEAM_LAMMPS_KimKimJung_2016_AlTi__MO_618133763375_000',\n",
       " 'MEAM_LAMMPS_KimKimJung_2017_NiAlTi__MO_478967255435_000',\n",
       " 'MEAM_LAMMPS_KimKimLee_2009_AlMg__MO_058537087384_000',\n",
       " 'MEAM_LAMMPS_KimSeolJi_2017_PtAl__MO_793141037706_000',\n",
       " 'MEAM_LAMMPS_KoShimLee_2011_AlH__MO_127847080751_000',\n",
       " 'MEAM_LAMMPS_LeeLee_2010_FeAl__MO_332211522050_000',\n",
       " 'MEAM_LAMMPS_PascuetFernandez_2015_AlU__MO_596300673917_000',\n",
       " 'MEAM_LAMMPS_PascuetFernandez_2015_Al__MO_315820974149_000',\n",
       " 'MEAM_LAMMPS_ShimKoKim_2013_AlVH__MO_344724145339_000',\n",
       " 'Morse_Shifted_GirifalcoWeizer_1959HighCutoff_Al__MO_140175748626_004',\n",
       " 'Morse_Shifted_GirifalcoWeizer_1959LowCutoff_Al__MO_411898953661_004',\n",
       " 'Morse_Shifted_GirifalcoWeizer_1959MedCutoff_Al__MO_279544746097_004',\n",
       " 'Sim_LAMMPS_ADP_ApostolMishin_2011_AlCu__SM_667696763561_000',\n",
       " 'Sim_LAMMPS_ADP_StarikovGordeevLysogorskiy_2020_SiAuAl__SM_113843830602_000',\n",
       " 'Sim_LAMMPS_AGNI_BotuBatraChapman_2017_Al__SM_666183636896_000',\n",
       " 'Sim_LAMMPS_BOP_ZhouWardFoster_2016_AlCu__SM_566399258279_000',\n",
       " 'Sim_LAMMPS_MEAM_AlmyrasSangiovanniSarakinos_2019_NAlTi__SM_871795249052_000',\n",
       " 'Sim_LAMMPS_MEAM_JelinekGrohHorstemeyer_2012_AlSiMgCuFe__SM_656517352485_000',\n",
       " 'Sim_LAMMPS_MEAM_PascuetFernandez_2015_AlU__SM_721930391003_000',\n",
       " 'Sim_LAMMPS_MEAM_PascuetFernandez_2015_Al__SM_811588957187_000',\n",
       " 'Sim_LAMMPS_SMTBQ_SallesPolitanoAmzallag_2016_AlO__SM_853967355976_000',\n",
       " 'Sim_LAMMPS_SMTBQ_SallesPolitanoAmzallag_2016_Al__SM_404097633924_000']"
      ]
     },
     "execution_count": 12,
     "metadata": {},
     "output_type": "execute_result"
    }
   ],
   "source": [
    "lmp.list_potentials()"
   ]
  },
  {
   "cell_type": "code",
   "execution_count": 13,
   "id": "12d48e2d-8a8e-4537-b053-62301f01b9bf",
   "metadata": {},
   "outputs": [
    {
     "data": {
      "text/html": [
       "<div>\n",
       "<style scoped>\n",
       "    .dataframe tbody tr th:only-of-type {\n",
       "        vertical-align: middle;\n",
       "    }\n",
       "\n",
       "    .dataframe tbody tr th {\n",
       "        vertical-align: top;\n",
       "    }\n",
       "\n",
       "    .dataframe thead th {\n",
       "        text-align: right;\n",
       "    }\n",
       "</style>\n",
       "<table border=\"1\" class=\"dataframe\">\n",
       "  <thead>\n",
       "    <tr style=\"text-align: right;\">\n",
       "      <th></th>\n",
       "      <th>Config</th>\n",
       "      <th>Filename</th>\n",
       "      <th>Model</th>\n",
       "      <th>Name</th>\n",
       "      <th>Species</th>\n",
       "      <th>Citations</th>\n",
       "    </tr>\n",
       "  </thead>\n",
       "  <tbody>\n",
       "    <tr>\n",
       "      <th>39</th>\n",
       "      <td>[pair_style eam/alloy\\n, pair_coeff * * NiAlH_jea.eam.alloy Ni Al H\\n]</td>\n",
       "      <td>[potential_LAMMPS/1995--Angelo-J-E--Ni-Al-H--LAMMPS--ipr1/NiAlH_jea.eam.alloy]</td>\n",
       "      <td>NISTiprpy</td>\n",
       "      <td>1995--Angelo-J-E--Ni-Al-H--LAMMPS--ipr1</td>\n",
       "      <td>[Ni, Al, H]</td>\n",
       "      <td>[{'Angelo_1995': {'title': 'Trapping of hydrogen to lattice defects in nickel', 'journal': 'Modelling and Simulation in Materials Science and Engineering', 'volume': '3', 'pages': '289--307', 'num...</td>\n",
       "    </tr>\n",
       "    <tr>\n",
       "      <th>40</th>\n",
       "      <td>[pair_style eam/alloy\\n, pair_coeff * * Farkas_Nb-Ti-Al_1996.eam.alloy Nb Ti Al\\n]</td>\n",
       "      <td>[potential_LAMMPS/1996--Farkas-D--Nb-Ti-Al--LAMMPS--ipr1/Farkas_Nb-Ti-Al_1996.eam.alloy]</td>\n",
       "      <td>NISTiprpy</td>\n",
       "      <td>1996--Farkas-D--Nb-Ti-Al--LAMMPS--ipr1</td>\n",
       "      <td>[Nb, Ti, Al]</td>\n",
       "      <td>[{'Farkas_1996': {'title': 'Interatomic potentials for ternary Nb - Ti - Al alloys', 'journal': 'Modelling and Simulation in Materials Science and Engineering', 'volume': '4', 'pages': '23--32', '...</td>\n",
       "    </tr>\n",
       "    <tr>\n",
       "      <th>43</th>\n",
       "      <td>[pair_style eam/alloy\\n, pair_coeff * * mg-al-set.eam.alloy Al Mg\\n]</td>\n",
       "      <td>[potential_LAMMPS/1997--Liu-X-Y--Al-Mg--LAMMPS--ipr1/mg-al-set.eam.alloy]</td>\n",
       "      <td>NISTiprpy</td>\n",
       "      <td>1997--Liu-X-Y--Al-Mg--LAMMPS--ipr1</td>\n",
       "      <td>[Al, Mg]</td>\n",
       "      <td>[{'Liu_1997': {'title': 'Anisotropic surface segregation in Al-Mg alloys', 'journal': 'Surface Science', 'volume': '373', 'pages': '357--370', 'number': '2-3', 'doi': '10.1016/s0039-6028(96)01154-...</td>\n",
       "    </tr>\n",
       "    <tr>\n",
       "      <th>46</th>\n",
       "      <td>[pair_style eam/alloy\\n, pair_coeff * * almg.liu.eam.alloy Al Mg\\n]</td>\n",
       "      <td>[potential_LAMMPS/1998--Liu-X-Y--Al-Mg--LAMMPS--ipr1/almg.liu.eam.alloy]</td>\n",
       "      <td>NISTiprpy</td>\n",
       "      <td>1998--Liu-X-Y--Al-Mg--LAMMPS--ipr1</td>\n",
       "      <td>[Al, Mg]</td>\n",
       "      <td>[{'Liu_1998': {'title': 'Grain-boundary segregation in Al-10%Mg alloys at hot working temperatures', 'journal': 'Acta Materialia', 'volume': '46', 'pages': '3467--3476', 'number': '10', 'doi': '10...</td>\n",
       "    </tr>\n",
       "    <tr>\n",
       "      <th>48</th>\n",
       "      <td>[pair_style eam/alloy\\n, pair_coeff * * al-cu-set.eam.alloy Al Cu\\n]</td>\n",
       "      <td>[potential_LAMMPS/1999--Liu-X-Y--Al-Cu--LAMMPS--ipr1/al-cu-set.eam.alloy]</td>\n",
       "      <td>NISTiprpy</td>\n",
       "      <td>1999--Liu-X-Y--Al-Cu--LAMMPS--ipr1</td>\n",
       "      <td>[Al, Cu]</td>\n",
       "      <td>[{'Liu_1999': {'title': \"A new investigation of copper's role in enhancing Al-Cu interconnect electromigration resistance from an atomistic view\", 'journal': 'Acta Materialia', 'volume': '47', 'pa...</td>\n",
       "    </tr>\n",
       "    <tr>\n",
       "      <th>...</th>\n",
       "      <td>...</td>\n",
       "      <td>...</td>\n",
       "      <td>...</td>\n",
       "      <td>...</td>\n",
       "      <td>...</td>\n",
       "      <td>...</td>\n",
       "    </tr>\n",
       "    <tr>\n",
       "      <th>948</th>\n",
       "      <td>[pair_style kim Sim_LAMMPS_MEAM_JelinekGrohHorstemeyer_2012_AlSiMgCuFe__SM_656517352485_000\\n, pair_coeff * * Al Si Mg Cu Fe\\n]</td>\n",
       "      <td>[]</td>\n",
       "      <td>OPENKIM</td>\n",
       "      <td>Sim_LAMMPS_MEAM_JelinekGrohHorstemeyer_2012_AlSiMgCuFe__SM_656517352485_000</td>\n",
       "      <td>[Al, Si, Mg, Cu, Fe]</td>\n",
       "      <td>[{'B._2012': {'title': 'Modified embedded atom method potential for Al, Si, Mg, Cu, and Fe alloys', 'volume': '85', 'year': '2012', 'journal': 'Physical Review B', 'doi': '10.1103/PhysRevB.85.2451...</td>\n",
       "    </tr>\n",
       "    <tr>\n",
       "      <th>958</th>\n",
       "      <td>[pair_style kim Sim_LAMMPS_MEAM_PascuetFernandez_2015_AlU__SM_721930391003_000\\n, pair_coeff * * Al U\\n]</td>\n",
       "      <td>[]</td>\n",
       "      <td>OPENKIM</td>\n",
       "      <td>Sim_LAMMPS_MEAM_PascuetFernandez_2015_AlU__SM_721930391003_000</td>\n",
       "      <td>[Al, U]</td>\n",
       "      <td>[{'M.I._2015': {'title': '{A}tomic interaction of the {MEAM} type for the study of intermetallics in the {A}l–{U} alloy', 'volume': '467', 'year': '2015', 'journal': 'Journal of Nuclear Materials'...</td>\n",
       "    </tr>\n",
       "    <tr>\n",
       "      <th>959</th>\n",
       "      <td>[pair_style kim Sim_LAMMPS_MEAM_PascuetFernandez_2015_Al__SM_811588957187_000\\n, pair_coeff * * Al\\n]</td>\n",
       "      <td>[]</td>\n",
       "      <td>OPENKIM</td>\n",
       "      <td>Sim_LAMMPS_MEAM_PascuetFernandez_2015_Al__SM_811588957187_000</td>\n",
       "      <td>[Al]</td>\n",
       "      <td>[{'M.I._2015': {'title': '{A}tomic interaction of the {MEAM} type for the study of intermetallics in the {A}l–{U} alloy', 'volume': '467', 'year': '2015', 'journal': 'Journal of Nuclear Materials'...</td>\n",
       "    </tr>\n",
       "    <tr>\n",
       "      <th>979</th>\n",
       "      <td>[pair_style kim Sim_LAMMPS_SMTBQ_SallesPolitanoAmzallag_2016_AlO__SM_853967355976_000\\n, pair_coeff * * Al O\\n]</td>\n",
       "      <td>[]</td>\n",
       "      <td>OPENKIM</td>\n",
       "      <td>Sim_LAMMPS_SMTBQ_SallesPolitanoAmzallag_2016_AlO__SM_853967355976_000</td>\n",
       "      <td>[Al, O]</td>\n",
       "      <td>[{'N._2016': {'title': 'Molecular dynamics study of high-pressure alumina polymorphs with a tight-binding variable-charge model', 'volume': '111', 'year': '2016', 'journal': 'Computational Materia...</td>\n",
       "    </tr>\n",
       "    <tr>\n",
       "      <th>980</th>\n",
       "      <td>[pair_style kim Sim_LAMMPS_SMTBQ_SallesPolitanoAmzallag_2016_Al__SM_404097633924_000\\n, pair_coeff * * Al\\n]</td>\n",
       "      <td>[]</td>\n",
       "      <td>OPENKIM</td>\n",
       "      <td>Sim_LAMMPS_SMTBQ_SallesPolitanoAmzallag_2016_Al__SM_404097633924_000</td>\n",
       "      <td>[Al]</td>\n",
       "      <td>[{'N._2016': {'title': 'Molecular dynamics study of high-pressure alumina polymorphs with a tight-binding variable-charge model', 'volume': '111', 'year': '2016', 'journal': 'Computational Materia...</td>\n",
       "    </tr>\n",
       "  </tbody>\n",
       "</table>\n",
       "<p>136 rows × 6 columns</p>\n",
       "</div>"
      ],
      "text/plain": [
       "                                                                                                                              Config  \\\n",
       "39                                                            [pair_style eam/alloy\\n, pair_coeff * * NiAlH_jea.eam.alloy Ni Al H\\n]   \n",
       "40                                                [pair_style eam/alloy\\n, pair_coeff * * Farkas_Nb-Ti-Al_1996.eam.alloy Nb Ti Al\\n]   \n",
       "43                                                              [pair_style eam/alloy\\n, pair_coeff * * mg-al-set.eam.alloy Al Mg\\n]   \n",
       "46                                                               [pair_style eam/alloy\\n, pair_coeff * * almg.liu.eam.alloy Al Mg\\n]   \n",
       "48                                                              [pair_style eam/alloy\\n, pair_coeff * * al-cu-set.eam.alloy Al Cu\\n]   \n",
       "..                                                                                                                               ...   \n",
       "948  [pair_style kim Sim_LAMMPS_MEAM_JelinekGrohHorstemeyer_2012_AlSiMgCuFe__SM_656517352485_000\\n, pair_coeff * * Al Si Mg Cu Fe\\n]   \n",
       "958                         [pair_style kim Sim_LAMMPS_MEAM_PascuetFernandez_2015_AlU__SM_721930391003_000\\n, pair_coeff * * Al U\\n]   \n",
       "959                            [pair_style kim Sim_LAMMPS_MEAM_PascuetFernandez_2015_Al__SM_811588957187_000\\n, pair_coeff * * Al\\n]   \n",
       "979                  [pair_style kim Sim_LAMMPS_SMTBQ_SallesPolitanoAmzallag_2016_AlO__SM_853967355976_000\\n, pair_coeff * * Al O\\n]   \n",
       "980                     [pair_style kim Sim_LAMMPS_SMTBQ_SallesPolitanoAmzallag_2016_Al__SM_404097633924_000\\n, pair_coeff * * Al\\n]   \n",
       "\n",
       "                                                                                     Filename  \\\n",
       "39             [potential_LAMMPS/1995--Angelo-J-E--Ni-Al-H--LAMMPS--ipr1/NiAlH_jea.eam.alloy]   \n",
       "40   [potential_LAMMPS/1996--Farkas-D--Nb-Ti-Al--LAMMPS--ipr1/Farkas_Nb-Ti-Al_1996.eam.alloy]   \n",
       "43                  [potential_LAMMPS/1997--Liu-X-Y--Al-Mg--LAMMPS--ipr1/mg-al-set.eam.alloy]   \n",
       "46                   [potential_LAMMPS/1998--Liu-X-Y--Al-Mg--LAMMPS--ipr1/almg.liu.eam.alloy]   \n",
       "48                  [potential_LAMMPS/1999--Liu-X-Y--Al-Cu--LAMMPS--ipr1/al-cu-set.eam.alloy]   \n",
       "..                                                                                        ...   \n",
       "948                                                                                        []   \n",
       "958                                                                                        []   \n",
       "959                                                                                        []   \n",
       "979                                                                                        []   \n",
       "980                                                                                        []   \n",
       "\n",
       "         Model  \\\n",
       "39   NISTiprpy   \n",
       "40   NISTiprpy   \n",
       "43   NISTiprpy   \n",
       "46   NISTiprpy   \n",
       "48   NISTiprpy   \n",
       "..         ...   \n",
       "948    OPENKIM   \n",
       "958    OPENKIM   \n",
       "959    OPENKIM   \n",
       "979    OPENKIM   \n",
       "980    OPENKIM   \n",
       "\n",
       "                                                                            Name  \\\n",
       "39                                       1995--Angelo-J-E--Ni-Al-H--LAMMPS--ipr1   \n",
       "40                                        1996--Farkas-D--Nb-Ti-Al--LAMMPS--ipr1   \n",
       "43                                            1997--Liu-X-Y--Al-Mg--LAMMPS--ipr1   \n",
       "46                                            1998--Liu-X-Y--Al-Mg--LAMMPS--ipr1   \n",
       "48                                            1999--Liu-X-Y--Al-Cu--LAMMPS--ipr1   \n",
       "..                                                                           ...   \n",
       "948  Sim_LAMMPS_MEAM_JelinekGrohHorstemeyer_2012_AlSiMgCuFe__SM_656517352485_000   \n",
       "958               Sim_LAMMPS_MEAM_PascuetFernandez_2015_AlU__SM_721930391003_000   \n",
       "959                Sim_LAMMPS_MEAM_PascuetFernandez_2015_Al__SM_811588957187_000   \n",
       "979        Sim_LAMMPS_SMTBQ_SallesPolitanoAmzallag_2016_AlO__SM_853967355976_000   \n",
       "980         Sim_LAMMPS_SMTBQ_SallesPolitanoAmzallag_2016_Al__SM_404097633924_000   \n",
       "\n",
       "                  Species  \\\n",
       "39            [Ni, Al, H]   \n",
       "40           [Nb, Ti, Al]   \n",
       "43               [Al, Mg]   \n",
       "46               [Al, Mg]   \n",
       "48               [Al, Cu]   \n",
       "..                    ...   \n",
       "948  [Al, Si, Mg, Cu, Fe]   \n",
       "958               [Al, U]   \n",
       "959                  [Al]   \n",
       "979               [Al, O]   \n",
       "980                  [Al]   \n",
       "\n",
       "                                                                                                                                                                                                   Citations  \n",
       "39   [{'Angelo_1995': {'title': 'Trapping of hydrogen to lattice defects in nickel', 'journal': 'Modelling and Simulation in Materials Science and Engineering', 'volume': '3', 'pages': '289--307', 'num...  \n",
       "40   [{'Farkas_1996': {'title': 'Interatomic potentials for ternary Nb - Ti - Al alloys', 'journal': 'Modelling and Simulation in Materials Science and Engineering', 'volume': '4', 'pages': '23--32', '...  \n",
       "43   [{'Liu_1997': {'title': 'Anisotropic surface segregation in Al-Mg alloys', 'journal': 'Surface Science', 'volume': '373', 'pages': '357--370', 'number': '2-3', 'doi': '10.1016/s0039-6028(96)01154-...  \n",
       "46   [{'Liu_1998': {'title': 'Grain-boundary segregation in Al-10%Mg alloys at hot working temperatures', 'journal': 'Acta Materialia', 'volume': '46', 'pages': '3467--3476', 'number': '10', 'doi': '10...  \n",
       "48   [{'Liu_1999': {'title': \"A new investigation of copper's role in enhancing Al-Cu interconnect electromigration resistance from an atomistic view\", 'journal': 'Acta Materialia', 'volume': '47', 'pa...  \n",
       "..                                                                                                                                                                                                       ...  \n",
       "948  [{'B._2012': {'title': 'Modified embedded atom method potential for Al, Si, Mg, Cu, and Fe alloys', 'volume': '85', 'year': '2012', 'journal': 'Physical Review B', 'doi': '10.1103/PhysRevB.85.2451...  \n",
       "958  [{'M.I._2015': {'title': '{A}tomic interaction of the {MEAM} type for the study of intermetallics in the {A}l–{U} alloy', 'volume': '467', 'year': '2015', 'journal': 'Journal of Nuclear Materials'...  \n",
       "959  [{'M.I._2015': {'title': '{A}tomic interaction of the {MEAM} type for the study of intermetallics in the {A}l–{U} alloy', 'volume': '467', 'year': '2015', 'journal': 'Journal of Nuclear Materials'...  \n",
       "979  [{'N._2016': {'title': 'Molecular dynamics study of high-pressure alumina polymorphs with a tight-binding variable-charge model', 'volume': '111', 'year': '2016', 'journal': 'Computational Materia...  \n",
       "980  [{'N._2016': {'title': 'Molecular dynamics study of high-pressure alumina polymorphs with a tight-binding variable-charge model', 'volume': '111', 'year': '2016', 'journal': 'Computational Materia...  \n",
       "\n",
       "[136 rows x 6 columns]"
      ]
     },
     "execution_count": 13,
     "metadata": {},
     "output_type": "execute_result"
    }
   ],
   "source": [
    "lmp.view_potentials()"
   ]
  },
  {
   "cell_type": "markdown",
   "id": "8820e1c2-b7b2-4aec-bbfa-90446ccc3b65",
   "metadata": {},
   "source": [
    "To assign a specific interatomic potential for our LAMMPS calculation, we can simply set the name of the potential as a parameter to the `potential` property of the LAMMPS job object:"
   ]
  },
  {
   "cell_type": "code",
   "execution_count": 14,
   "id": "f8ca78bb-98b8-4920-8acd-15fab37c0337",
   "metadata": {},
   "outputs": [],
   "source": [
    "lmp.potential = '2002--Mishin-Y--Ni-Al--LAMMPS--ipr1'"
   ]
  },
  {
   "cell_type": "markdown",
   "id": "192cbfe8-2988-49a5-8e07-2b52a9b675c3",
   "metadata": {},
   "source": [
    "## Setting up the LAMMPS calculation"
   ]
  },
  {
   "cell_type": "markdown",
   "id": "d41b0f52-2739-4de0-bf18-e31667f1b01f",
   "metadata": {},
   "source": [
    "pyiron provides two options to setting up LAMMPS calculation. The first is using the traditional LAMMPS commands you know from the LAMMPS input files, the second is using the generic pyiron commands, which are not only implemented for LAMMPS but also for many other simulation codes. So the advantage of the generic pyiron commands is that the same commands can be applied for both a density functional theory (DFT) simulation code like the Vienna Ab initio Simulation Package (VASP) as well as interatomic potential based simulation codes like LAMMPS to simplify switching between them, for example for fitting machine learning interatomic potentials. q"
   ]
  },
  {
   "cell_type": "markdown",
   "id": "cb5c3b44-c674-4a60-80e2-a68342949a5a",
   "metadata": {},
   "source": [
    "### Generic pyiron commands"
   ]
  },
  {
   "cell_type": "markdown",
   "id": "fdd6878f-5cbc-4b1a-b1db-ca9e12221229",
   "metadata": {},
   "source": [
    "In this example we are going to calculate a molecular dynamics calculation at 500K, zero pressure and run it for 10000 steps, using the `calc_md()` function. Again, you can use the `<tab>` based autocompletion to get a list of available input commands. Alternatively you can call `calc_md?` to get a list of all input parameters: "
   ]
  },
  {
   "cell_type": "code",
   "execution_count": 15,
   "id": "dfd0475e-47fd-481f-8bfa-83dd7e444436",
   "metadata": {},
   "outputs": [
    {
     "data": {
      "text/plain": [
       "\u001b[31mSignature:\u001b[39m\n",
       "lmp.calc_md(\n",
       "    temperature=\u001b[38;5;28;01mNone\u001b[39;00m,\n",
       "    pressure=\u001b[38;5;28;01mNone\u001b[39;00m,\n",
       "    n_ionic_steps=\u001b[32m1000\u001b[39m,\n",
       "    time_step=\u001b[32m1.0\u001b[39m,\n",
       "    n_print=\u001b[32m100\u001b[39m,\n",
       "    temperature_damping_timescale=\u001b[32m100.0\u001b[39m,\n",
       "    pressure_damping_timescale=\u001b[32m1000.0\u001b[39m,\n",
       "    seed=\u001b[38;5;28;01mNone\u001b[39;00m,\n",
       "    tloop=\u001b[38;5;28;01mNone\u001b[39;00m,\n",
       "    initial_temperature=\u001b[38;5;28;01mNone\u001b[39;00m,\n",
       "    langevin=\u001b[38;5;28;01mFalse\u001b[39;00m,\n",
       "    delta_temp=\u001b[38;5;28;01mNone\u001b[39;00m,\n",
       "    delta_press=\u001b[38;5;28;01mNone\u001b[39;00m,\n",
       ")\n",
       "\u001b[31mDocstring:\u001b[39m\n",
       "Set an MD calculation within LAMMPS. Nosé Hoover is used by default.\n",
       "\n",
       "Args:\n",
       "    temperature (None/float/list): Target temperature value(-s). If set to None, an NVE\n",
       "        calculation is performed. It is required when the pressure is set or langevin is set\n",
       "        It can be a list of temperature values, containing the initial target temperature and\n",
       "        the final target temperature (in between the target value is varied linearly).\n",
       "    pressure (None/float/numpy.ndarray/list): Target pressure. If set to None, an NVE or an\n",
       "        NVT calculation is performed. If set to a scalar, the shear of the cell and the\n",
       "        ratio of the x, y, and z components is kept constant, while an isotropic, hydrostatic\n",
       "        pressure is applied. A list of up to length 6 can be given to specify xx, yy, zz, xy,\n",
       "        xz, and yz components of the pressure tensor, respectively. These values can mix\n",
       "        floats and `None` to allow only certain degrees of cell freedom to change. (Default\n",
       "        is None, run isochorically.)\n",
       "    n_ionic_steps (int): Number of ionic steps\n",
       "    time_step (float): Step size in fs between two steps.\n",
       "    n_print (int):  Print frequency\n",
       "    temperature_damping_timescale (float): The time associated with the thermostat adjusting\n",
       "        the temperature.  (In fs. After rescaling to appropriate time units, is equivalent to\n",
       "        Lammps' `Tdamp`.)\n",
       "    pressure_damping_timescale (float): The time associated with the barostat adjusting the\n",
       "        temperature.  (In fs. After rescaling to appropriate time units, is equivalent to\n",
       "        Lammps' `Pdamp`.)\n",
       "    seed (int):  Seed for the random number generation used for the intiial velocity creation\n",
       "        and langevin dynamics - otherwise ignored. If not specified, the seed is created via\n",
       "        job name\n",
       "    tloop:\n",
       "    initial_temperature (None/float):  Initial temperature according to which the initial\n",
       "        velocity field is created. If None, the initial temperature will be twice the target\n",
       "        temperature (which would go immediately down to the target temperature as described\n",
       "        in equipartition theorem). If 0, the velocity field is not initialized (in which case\n",
       "        the initial velocity given in structure will be used). If any other number is given,\n",
       "        this value is going to be used for the initial temperature.\n",
       "    langevin (bool): (True or False) Activate Langevin dynamics\n",
       "    delta_temp (float): Thermostat timescale, but in your Lammps time units, whatever those\n",
       "        are. (DEPRECATED.)\n",
       "    delta_press (float): Barostat timescale, but in your Lammps time units, whatever those\n",
       "        are. (DEPRECATED.)\n",
       "    job_name (str): Job name of the job to generate a unique random seed.\n",
       "    rotation_matrix (numpy.ndarray): The rotation matrix from the pyiron to Lammps coordinate\n",
       "        frame.\n",
       "\u001b[31mFile:\u001b[39m      ~/mambaforge/lib/python3.12/site-packages/pyiron_atomistics/lammps/interactive.py\n",
       "\u001b[31mType:\u001b[39m      method"
      ]
     },
     "metadata": {},
     "output_type": "display_data"
    }
   ],
   "source": [
    "lmp.calc_md?"
   ]
  },
  {
   "cell_type": "code",
   "execution_count": 16,
   "id": "09f510a5-5f47-4de1-9cd1-f571cf8dbb12",
   "metadata": {},
   "outputs": [],
   "source": [
    "lmp.calc_md(temperature=500.0, pressure=0.0, n_ionic_steps=10000)"
   ]
  },
  {
   "cell_type": "markdown",
   "id": "4cbfdec1-a228-4bf6-915a-1b7bbc1c7e72",
   "metadata": {},
   "source": [
    "### LAMMPS input commands"
   ]
  },
  {
   "cell_type": "markdown",
   "id": "a62760d6-d2fb-4e10-ab1b-c93073e390a5",
   "metadata": {},
   "source": [
    "While this generic set of pyiron commands is helpful for users who are not yet familiar with the LAMMPS input file commands, pyiron also addresses the needs of expert users, by providing direct access to the underlying input files. So to see the current input of the LAMMPS calculation you can simply use `lmp.input.control`:"
   ]
  },
  {
   "cell_type": "code",
   "execution_count": 17,
   "id": "50ee5601-91b6-4fae-bb91-59514b790d32",
   "metadata": {},
   "outputs": [
    {
     "data": {
      "text/html": [
       "<div>\n",
       "<style scoped>\n",
       "    .dataframe tbody tr th:only-of-type {\n",
       "        vertical-align: middle;\n",
       "    }\n",
       "\n",
       "    .dataframe tbody tr th {\n",
       "        vertical-align: top;\n",
       "    }\n",
       "\n",
       "    .dataframe thead th {\n",
       "        text-align: right;\n",
       "    }\n",
       "</style>\n",
       "<table border=\"1\" class=\"dataframe\">\n",
       "  <thead>\n",
       "    <tr style=\"text-align: right;\">\n",
       "      <th></th>\n",
       "      <th>Parameter</th>\n",
       "      <th>Value</th>\n",
       "      <th>Comment</th>\n",
       "    </tr>\n",
       "  </thead>\n",
       "  <tbody>\n",
       "    <tr>\n",
       "      <th>0</th>\n",
       "      <td>units</td>\n",
       "      <td>metal</td>\n",
       "      <td></td>\n",
       "    </tr>\n",
       "    <tr>\n",
       "      <th>1</th>\n",
       "      <td>dimension</td>\n",
       "      <td>3</td>\n",
       "      <td></td>\n",
       "    </tr>\n",
       "    <tr>\n",
       "      <th>2</th>\n",
       "      <td>boundary</td>\n",
       "      <td>p p p</td>\n",
       "      <td></td>\n",
       "    </tr>\n",
       "    <tr>\n",
       "      <th>3</th>\n",
       "      <td>atom_style</td>\n",
       "      <td>atomic</td>\n",
       "      <td></td>\n",
       "    </tr>\n",
       "    <tr>\n",
       "      <th>4</th>\n",
       "      <td>read_data</td>\n",
       "      <td>structure.inp</td>\n",
       "      <td></td>\n",
       "    </tr>\n",
       "    <tr>\n",
       "      <th>5</th>\n",
       "      <td>include</td>\n",
       "      <td>potential.inp</td>\n",
       "      <td></td>\n",
       "    </tr>\n",
       "    <tr>\n",
       "      <th>6</th>\n",
       "      <td>fix___ensemble</td>\n",
       "      <td>all npt temp 500.0 500.0 0.1 iso 0.0 0.0 1.0</td>\n",
       "      <td></td>\n",
       "    </tr>\n",
       "    <tr>\n",
       "      <th>7</th>\n",
       "      <td>variable___dumptime</td>\n",
       "      <td>equal 100</td>\n",
       "      <td></td>\n",
       "    </tr>\n",
       "    <tr>\n",
       "      <th>8</th>\n",
       "      <td>variable___thermotime</td>\n",
       "      <td>equal 100</td>\n",
       "      <td></td>\n",
       "    </tr>\n",
       "    <tr>\n",
       "      <th>9</th>\n",
       "      <td>timestep</td>\n",
       "      <td>0.001</td>\n",
       "      <td></td>\n",
       "    </tr>\n",
       "    <tr>\n",
       "      <th>10</th>\n",
       "      <td>velocity</td>\n",
       "      <td>all create 1000.0 61040 dist gaussian</td>\n",
       "      <td></td>\n",
       "    </tr>\n",
       "    <tr>\n",
       "      <th>11</th>\n",
       "      <td>dump___1</td>\n",
       "      <td>all custom ${dumptime} dump.out id type xsu ysu zsu fx fy fz vx vy vz</td>\n",
       "      <td></td>\n",
       "    </tr>\n",
       "    <tr>\n",
       "      <th>12</th>\n",
       "      <td>dump_modify___1</td>\n",
       "      <td>sort id format line \"%d %d %20.15g %20.15g %20.15g %20.15g %20.15g %20.15g %20.15g %20.15g %20.15g\"</td>\n",
       "      <td></td>\n",
       "    </tr>\n",
       "    <tr>\n",
       "      <th>13</th>\n",
       "      <td>thermo_style</td>\n",
       "      <td>custom step temp pe etotal pxx pxy pxz pyy pyz pzz vol</td>\n",
       "      <td></td>\n",
       "    </tr>\n",
       "    <tr>\n",
       "      <th>14</th>\n",
       "      <td>thermo_modify</td>\n",
       "      <td>format float %20.15g</td>\n",
       "      <td></td>\n",
       "    </tr>\n",
       "    <tr>\n",
       "      <th>15</th>\n",
       "      <td>thermo</td>\n",
       "      <td>${thermotime}</td>\n",
       "      <td></td>\n",
       "    </tr>\n",
       "    <tr>\n",
       "      <th>16</th>\n",
       "      <td>run</td>\n",
       "      <td>10000</td>\n",
       "      <td></td>\n",
       "    </tr>\n",
       "  </tbody>\n",
       "</table>\n",
       "</div>"
      ],
      "text/plain": [
       "                Parameter  \\\n",
       "0                   units   \n",
       "1               dimension   \n",
       "2                boundary   \n",
       "3              atom_style   \n",
       "4               read_data   \n",
       "5                 include   \n",
       "6          fix___ensemble   \n",
       "7     variable___dumptime   \n",
       "8   variable___thermotime   \n",
       "9                timestep   \n",
       "10               velocity   \n",
       "11               dump___1   \n",
       "12        dump_modify___1   \n",
       "13           thermo_style   \n",
       "14          thermo_modify   \n",
       "15                 thermo   \n",
       "16                    run   \n",
       "\n",
       "                                                                                                  Value  \\\n",
       "0                                                                                                 metal   \n",
       "1                                                                                                     3   \n",
       "2                                                                                                 p p p   \n",
       "3                                                                                                atomic   \n",
       "4                                                                                         structure.inp   \n",
       "5                                                                                         potential.inp   \n",
       "6                                                          all npt temp 500.0 500.0 0.1 iso 0.0 0.0 1.0   \n",
       "7                                                                                            equal 100    \n",
       "8                                                                                            equal 100    \n",
       "9                                                                                                 0.001   \n",
       "10                                                                all create 1000.0 61040 dist gaussian   \n",
       "11                                all custom ${dumptime} dump.out id type xsu ysu zsu fx fy fz vx vy vz   \n",
       "12  sort id format line \"%d %d %20.15g %20.15g %20.15g %20.15g %20.15g %20.15g %20.15g %20.15g %20.15g\"   \n",
       "13                                               custom step temp pe etotal pxx pxy pxz pyy pyz pzz vol   \n",
       "14                                                                                 format float %20.15g   \n",
       "15                                                                                        ${thermotime}   \n",
       "16                                                                                                10000   \n",
       "\n",
       "   Comment  \n",
       "0           \n",
       "1           \n",
       "2           \n",
       "3           \n",
       "4           \n",
       "5           \n",
       "6           \n",
       "7           \n",
       "8           \n",
       "9           \n",
       "10          \n",
       "11          \n",
       "12          \n",
       "13          \n",
       "14          \n",
       "15          \n",
       "16          "
      ]
     },
     "execution_count": 17,
     "metadata": {},
     "output_type": "execute_result"
    }
   ],
   "source": [
    "lmp.input.control"
   ]
  },
  {
   "cell_type": "markdown",
   "id": "4db7e852-8b6b-47d5-bad0-421c946b5c4f",
   "metadata": {},
   "source": [
    "You see how pyiron converted the generic pyiron command `calc_md()` to the LAMMPS specific input commands. It changed the `fix___ensemble` to `npt`, created initial velocities for equilibration using the `velocity` command and defined the number of steps to run in the `run` command. Each of these entries can be modified using the python dictionary syntax. So to change the number of steps to run from 10000 to 100000 you can use:  "
   ]
  },
  {
   "cell_type": "code",
   "execution_count": 18,
   "id": "f37661c4-dfba-495f-a874-8031a27e8259",
   "metadata": {},
   "outputs": [],
   "source": [
    "lmp.input.control[\"run\"] = 100000"
   ]
  },
  {
   "cell_type": "markdown",
   "id": "4a1b662b-5ab9-41fd-980d-d3e43d23029c",
   "metadata": {},
   "source": [
    "To validate the input file is updated correspondingly we can execute the previous command again: "
   ]
  },
  {
   "cell_type": "code",
   "execution_count": 19,
   "id": "e5194851-b270-4f10-93f4-123026cc50b8",
   "metadata": {},
   "outputs": [
    {
     "data": {
      "text/html": [
       "<div>\n",
       "<style scoped>\n",
       "    .dataframe tbody tr th:only-of-type {\n",
       "        vertical-align: middle;\n",
       "    }\n",
       "\n",
       "    .dataframe tbody tr th {\n",
       "        vertical-align: top;\n",
       "    }\n",
       "\n",
       "    .dataframe thead th {\n",
       "        text-align: right;\n",
       "    }\n",
       "</style>\n",
       "<table border=\"1\" class=\"dataframe\">\n",
       "  <thead>\n",
       "    <tr style=\"text-align: right;\">\n",
       "      <th></th>\n",
       "      <th>Parameter</th>\n",
       "      <th>Value</th>\n",
       "      <th>Comment</th>\n",
       "    </tr>\n",
       "  </thead>\n",
       "  <tbody>\n",
       "    <tr>\n",
       "      <th>0</th>\n",
       "      <td>units</td>\n",
       "      <td>metal</td>\n",
       "      <td></td>\n",
       "    </tr>\n",
       "    <tr>\n",
       "      <th>1</th>\n",
       "      <td>dimension</td>\n",
       "      <td>3</td>\n",
       "      <td></td>\n",
       "    </tr>\n",
       "    <tr>\n",
       "      <th>2</th>\n",
       "      <td>boundary</td>\n",
       "      <td>p p p</td>\n",
       "      <td></td>\n",
       "    </tr>\n",
       "    <tr>\n",
       "      <th>3</th>\n",
       "      <td>atom_style</td>\n",
       "      <td>atomic</td>\n",
       "      <td></td>\n",
       "    </tr>\n",
       "    <tr>\n",
       "      <th>4</th>\n",
       "      <td>read_data</td>\n",
       "      <td>structure.inp</td>\n",
       "      <td></td>\n",
       "    </tr>\n",
       "    <tr>\n",
       "      <th>5</th>\n",
       "      <td>include</td>\n",
       "      <td>potential.inp</td>\n",
       "      <td></td>\n",
       "    </tr>\n",
       "    <tr>\n",
       "      <th>6</th>\n",
       "      <td>fix___ensemble</td>\n",
       "      <td>all npt temp 500.0 500.0 0.1 iso 0.0 0.0 1.0</td>\n",
       "      <td></td>\n",
       "    </tr>\n",
       "    <tr>\n",
       "      <th>7</th>\n",
       "      <td>variable___dumptime</td>\n",
       "      <td>equal 100</td>\n",
       "      <td></td>\n",
       "    </tr>\n",
       "    <tr>\n",
       "      <th>8</th>\n",
       "      <td>variable___thermotime</td>\n",
       "      <td>equal 100</td>\n",
       "      <td></td>\n",
       "    </tr>\n",
       "    <tr>\n",
       "      <th>9</th>\n",
       "      <td>timestep</td>\n",
       "      <td>0.001</td>\n",
       "      <td></td>\n",
       "    </tr>\n",
       "    <tr>\n",
       "      <th>10</th>\n",
       "      <td>velocity</td>\n",
       "      <td>all create 1000.0 61040 dist gaussian</td>\n",
       "      <td></td>\n",
       "    </tr>\n",
       "    <tr>\n",
       "      <th>11</th>\n",
       "      <td>dump___1</td>\n",
       "      <td>all custom ${dumptime} dump.out id type xsu ysu zsu fx fy fz vx vy vz</td>\n",
       "      <td></td>\n",
       "    </tr>\n",
       "    <tr>\n",
       "      <th>12</th>\n",
       "      <td>dump_modify___1</td>\n",
       "      <td>sort id format line \"%d %d %20.15g %20.15g %20.15g %20.15g %20.15g %20.15g %20.15g %20.15g %20.15g\"</td>\n",
       "      <td></td>\n",
       "    </tr>\n",
       "    <tr>\n",
       "      <th>13</th>\n",
       "      <td>thermo_style</td>\n",
       "      <td>custom step temp pe etotal pxx pxy pxz pyy pyz pzz vol</td>\n",
       "      <td></td>\n",
       "    </tr>\n",
       "    <tr>\n",
       "      <th>14</th>\n",
       "      <td>thermo_modify</td>\n",
       "      <td>format float %20.15g</td>\n",
       "      <td></td>\n",
       "    </tr>\n",
       "    <tr>\n",
       "      <th>15</th>\n",
       "      <td>thermo</td>\n",
       "      <td>${thermotime}</td>\n",
       "      <td></td>\n",
       "    </tr>\n",
       "    <tr>\n",
       "      <th>16</th>\n",
       "      <td>run</td>\n",
       "      <td>100000</td>\n",
       "      <td></td>\n",
       "    </tr>\n",
       "  </tbody>\n",
       "</table>\n",
       "</div>"
      ],
      "text/plain": [
       "                Parameter  \\\n",
       "0                   units   \n",
       "1               dimension   \n",
       "2                boundary   \n",
       "3              atom_style   \n",
       "4               read_data   \n",
       "5                 include   \n",
       "6          fix___ensemble   \n",
       "7     variable___dumptime   \n",
       "8   variable___thermotime   \n",
       "9                timestep   \n",
       "10               velocity   \n",
       "11               dump___1   \n",
       "12        dump_modify___1   \n",
       "13           thermo_style   \n",
       "14          thermo_modify   \n",
       "15                 thermo   \n",
       "16                    run   \n",
       "\n",
       "                                                                                                  Value  \\\n",
       "0                                                                                                 metal   \n",
       "1                                                                                                     3   \n",
       "2                                                                                                 p p p   \n",
       "3                                                                                                atomic   \n",
       "4                                                                                         structure.inp   \n",
       "5                                                                                         potential.inp   \n",
       "6                                                          all npt temp 500.0 500.0 0.1 iso 0.0 0.0 1.0   \n",
       "7                                                                                            equal 100    \n",
       "8                                                                                            equal 100    \n",
       "9                                                                                                 0.001   \n",
       "10                                                                all create 1000.0 61040 dist gaussian   \n",
       "11                                all custom ${dumptime} dump.out id type xsu ysu zsu fx fy fz vx vy vz   \n",
       "12  sort id format line \"%d %d %20.15g %20.15g %20.15g %20.15g %20.15g %20.15g %20.15g %20.15g %20.15g\"   \n",
       "13                                               custom step temp pe etotal pxx pxy pxz pyy pyz pzz vol   \n",
       "14                                                                                 format float %20.15g   \n",
       "15                                                                                        ${thermotime}   \n",
       "16                                                                                               100000   \n",
       "\n",
       "   Comment  \n",
       "0           \n",
       "1           \n",
       "2           \n",
       "3           \n",
       "4           \n",
       "5           \n",
       "6           \n",
       "7           \n",
       "8           \n",
       "9           \n",
       "10          \n",
       "11          \n",
       "12          \n",
       "13          \n",
       "14          \n",
       "15          \n",
       "16          "
      ]
     },
     "execution_count": 19,
     "metadata": {},
     "output_type": "execute_result"
    }
   ],
   "source": [
    "lmp.input.control"
   ]
  },
  {
   "cell_type": "markdown",
   "id": "33d4facc-99e6-42e6-a383-8aa7a57f12a0",
   "metadata": {},
   "source": [
    "Alternatively to updating one command at a time, you can also load existing LAMMPS input scripts directly, using the `load_string()` function. Still there are two constratins with this method:\n",
    "* First you want to use the `read_data` command to read the `structure.inp` file and the `include` command to load the `potential.inp` file. You could also create your own structure and define your own potential, but in those cases pyiron is not aware of these changes, so they are not recommended.\n",
    "* Second, pyiron expects each input script to have only one `run` or `minimize` command. This is required as the pyiron parser expects on set of `dump` and `thermo` output. To combine multiple calculation steps it is recommended to combine multiple LAMMPS job objects.  "
   ]
  },
  {
   "cell_type": "code",
   "execution_count": 20,
   "id": "951c11b1-006b-41f1-9f00-48f0ff9425fa",
   "metadata": {},
   "outputs": [],
   "source": [
    "lmp.input.control.load_string(input_str=\"\"\"\\\n",
    "units metal\n",
    "dimension 3\n",
    "boundary p p p\n",
    "atom_style atomic\n",
    "read_data structure.inp\n",
    "include potential.inp\n",
    "fix ensemble all npt temp 500.0 500.0 0.1 iso 0.0 0.0 1.0\n",
    "variable dumptime  equal 100\n",
    "variable thermotime  equal 100\n",
    "timestep 0.001\n",
    "velocity all create 1000.0 61040 dist gaussian\n",
    "dump 1 all custom ${dumptime} dump.out id type xsu ysu zsu fx fy fz vx vy vz\n",
    "dump_modify 1 sort id format line \"%d %d %20.15g %20.15g %20.15g %20.15g %20.15g %20.15g %20.15g %20.15g %20.15g\"\n",
    "thermo_style custom step temp pe etotal pxx pxy pxz pyy pyz pzz vol\n",
    "thermo_modify format float %20.15g\n",
    "thermo ${thermotime}\n",
    "run 10000\"\"\")"
   ]
  },
  {
   "cell_type": "markdown",
   "id": "37af1953-8919-4fda-843e-09c76b66c1f2",
   "metadata": {},
   "source": [
    "After loading the input string we can validate that the number of run steps was correctly reset to 10000:"
   ]
  },
  {
   "cell_type": "code",
   "execution_count": 21,
   "id": "033f2090-5cac-40ef-b3f2-f9cafbe3e38c",
   "metadata": {},
   "outputs": [
    {
     "data": {
      "text/html": [
       "<div>\n",
       "<style scoped>\n",
       "    .dataframe tbody tr th:only-of-type {\n",
       "        vertical-align: middle;\n",
       "    }\n",
       "\n",
       "    .dataframe tbody tr th {\n",
       "        vertical-align: top;\n",
       "    }\n",
       "\n",
       "    .dataframe thead th {\n",
       "        text-align: right;\n",
       "    }\n",
       "</style>\n",
       "<table border=\"1\" class=\"dataframe\">\n",
       "  <thead>\n",
       "    <tr style=\"text-align: right;\">\n",
       "      <th></th>\n",
       "      <th>Parameter</th>\n",
       "      <th>Value</th>\n",
       "      <th>Comment</th>\n",
       "    </tr>\n",
       "  </thead>\n",
       "  <tbody>\n",
       "    <tr>\n",
       "      <th>0</th>\n",
       "      <td>units</td>\n",
       "      <td>metal</td>\n",
       "      <td></td>\n",
       "    </tr>\n",
       "    <tr>\n",
       "      <th>1</th>\n",
       "      <td>dimension</td>\n",
       "      <td>3</td>\n",
       "      <td></td>\n",
       "    </tr>\n",
       "    <tr>\n",
       "      <th>2</th>\n",
       "      <td>boundary</td>\n",
       "      <td>p p p</td>\n",
       "      <td></td>\n",
       "    </tr>\n",
       "    <tr>\n",
       "      <th>3</th>\n",
       "      <td>atom_style</td>\n",
       "      <td>atomic</td>\n",
       "      <td></td>\n",
       "    </tr>\n",
       "    <tr>\n",
       "      <th>4</th>\n",
       "      <td>read_data</td>\n",
       "      <td>structure.inp</td>\n",
       "      <td></td>\n",
       "    </tr>\n",
       "    <tr>\n",
       "      <th>5</th>\n",
       "      <td>include</td>\n",
       "      <td>potential.inp</td>\n",
       "      <td></td>\n",
       "    </tr>\n",
       "    <tr>\n",
       "      <th>6</th>\n",
       "      <td>fix</td>\n",
       "      <td>ensemble all npt temp 500.0 500.0 0.1 iso 0.0 0.0 1.0</td>\n",
       "      <td></td>\n",
       "    </tr>\n",
       "    <tr>\n",
       "      <th>7</th>\n",
       "      <td>variable</td>\n",
       "      <td>dumptime  equal 100</td>\n",
       "      <td></td>\n",
       "    </tr>\n",
       "    <tr>\n",
       "      <th>8</th>\n",
       "      <td>variable</td>\n",
       "      <td>thermotime  equal 100</td>\n",
       "      <td></td>\n",
       "    </tr>\n",
       "    <tr>\n",
       "      <th>9</th>\n",
       "      <td>timestep</td>\n",
       "      <td>0.001</td>\n",
       "      <td></td>\n",
       "    </tr>\n",
       "    <tr>\n",
       "      <th>10</th>\n",
       "      <td>velocity</td>\n",
       "      <td>all create 1000.0 61040 dist gaussian</td>\n",
       "      <td></td>\n",
       "    </tr>\n",
       "    <tr>\n",
       "      <th>11</th>\n",
       "      <td>dump</td>\n",
       "      <td>1 all custom ${dumptime} dump.out id type xsu ysu zsu fx fy fz vx vy vz</td>\n",
       "      <td></td>\n",
       "    </tr>\n",
       "    <tr>\n",
       "      <th>12</th>\n",
       "      <td>dump_modify</td>\n",
       "      <td>1 sort id format line \"%d %d %20.15g %20.15g %20.15g %20.15g %20.15g %20.15g %20.15g %20.15g %20.15g\"</td>\n",
       "      <td></td>\n",
       "    </tr>\n",
       "    <tr>\n",
       "      <th>13</th>\n",
       "      <td>thermo_style</td>\n",
       "      <td>custom step temp pe etotal pxx pxy pxz pyy pyz pzz vol</td>\n",
       "      <td></td>\n",
       "    </tr>\n",
       "    <tr>\n",
       "      <th>14</th>\n",
       "      <td>thermo_modify</td>\n",
       "      <td>format float %20.15g</td>\n",
       "      <td></td>\n",
       "    </tr>\n",
       "    <tr>\n",
       "      <th>15</th>\n",
       "      <td>thermo</td>\n",
       "      <td>${thermotime}</td>\n",
       "      <td></td>\n",
       "    </tr>\n",
       "    <tr>\n",
       "      <th>16</th>\n",
       "      <td>run</td>\n",
       "      <td>10000</td>\n",
       "      <td></td>\n",
       "    </tr>\n",
       "  </tbody>\n",
       "</table>\n",
       "</div>"
      ],
      "text/plain": [
       "        Parameter  \\\n",
       "0           units   \n",
       "1       dimension   \n",
       "2        boundary   \n",
       "3      atom_style   \n",
       "4       read_data   \n",
       "5         include   \n",
       "6             fix   \n",
       "7        variable   \n",
       "8        variable   \n",
       "9        timestep   \n",
       "10       velocity   \n",
       "11           dump   \n",
       "12    dump_modify   \n",
       "13   thermo_style   \n",
       "14  thermo_modify   \n",
       "15         thermo   \n",
       "16            run   \n",
       "\n",
       "                                                                                                    Value  \\\n",
       "0                                                                                                   metal   \n",
       "1                                                                                                       3   \n",
       "2                                                                                                   p p p   \n",
       "3                                                                                                  atomic   \n",
       "4                                                                                           structure.inp   \n",
       "5                                                                                           potential.inp   \n",
       "6                                                   ensemble all npt temp 500.0 500.0 0.1 iso 0.0 0.0 1.0   \n",
       "7                                                                                     dumptime  equal 100   \n",
       "8                                                                                   thermotime  equal 100   \n",
       "9                                                                                                   0.001   \n",
       "10                                                                  all create 1000.0 61040 dist gaussian   \n",
       "11                                1 all custom ${dumptime} dump.out id type xsu ysu zsu fx fy fz vx vy vz   \n",
       "12  1 sort id format line \"%d %d %20.15g %20.15g %20.15g %20.15g %20.15g %20.15g %20.15g %20.15g %20.15g\"   \n",
       "13                                                 custom step temp pe etotal pxx pxy pxz pyy pyz pzz vol   \n",
       "14                                                                                   format float %20.15g   \n",
       "15                                                                                          ${thermotime}   \n",
       "16                                                                                                  10000   \n",
       "\n",
       "   Comment  \n",
       "0           \n",
       "1           \n",
       "2           \n",
       "3           \n",
       "4           \n",
       "5           \n",
       "6           \n",
       "7           \n",
       "8           \n",
       "9           \n",
       "10          \n",
       "11          \n",
       "12          \n",
       "13          \n",
       "14          \n",
       "15          \n",
       "16          "
      ]
     },
     "execution_count": 21,
     "metadata": {},
     "output_type": "execute_result"
    }
   ],
   "source": [
    "lmp.input.control"
   ]
  },
  {
   "cell_type": "markdown",
   "id": "949f2882-4071-4c35-8231-54eb6fc783a4",
   "metadata": {},
   "source": [
    "## Execute the LAMMPS calculation"
   ]
  },
  {
   "cell_type": "markdown",
   "id": "bbfc4778-e843-4c7b-9712-1c3991983fc1",
   "metadata": {},
   "source": [
    "After defining the atomistic structure, selecting an interatomic potential and defining the LAMMPS input we can now run the calculation. Still if we just call the `run()` function directly, this calculation is executed on our local computer. To submit the calculation to a specific high performance computing cluster the pyiron job object defines a server object, which contains all the settings for the submission. In this virtual environment we use the [flux-framework](https://flux-framework.org) as queuing system. But pyiron supports a wide range of different queuing systems. A full list of the supported queuing systems is available as part of the python simple queuing system adapter package [pysqa](https://pysqa.readthedocs.io/en/latest/queue.html). "
   ]
  },
  {
   "cell_type": "markdown",
   "id": "c8474e73-52ad-4734-8163-5a0cd51cdcf8",
   "metadata": {},
   "source": [
    "We start by listing the available queues, in this case only the `flux` queue is defined: "
   ]
  },
  {
   "cell_type": "code",
   "execution_count": null,
   "id": "94d8fd99-dae5-4bab-bb48-11f7787bb1e1",
   "metadata": {},
   "outputs": [],
   "source": [
    "lmp.server.list_queues()"
   ]
  },
  {
   "cell_type": "markdown",
   "id": "1e431e48-b88e-43f3-8a3a-3f1f982242b2",
   "metadata": {},
   "source": [
    "In the next step we select the `flux` you as active queue by assigning it to the `lmp.server.queue` property and set the number of cores to two:"
   ]
  },
  {
   "cell_type": "code",
   "execution_count": null,
   "id": "dba8d8df-9396-4b55-9cad-a6839b1d5ec4",
   "metadata": {},
   "outputs": [],
   "source": [
    "lmp.server.queue = \"flux\"\n",
    "lmp.server.cores = 2 "
   ]
  },
  {
   "cell_type": "markdown",
   "id": "b5066238-3dc2-4c4e-a794-ff9ee080ea0f",
   "metadata": {},
   "source": [
    "Finally, you can also switch between different versions of LAMMPS executables. As we are using the flux queuing system here we have to select an executable which supports flux. In contrast to the basic version this executable uses the `flux run` command rather than `mpiexec`. But the executable script could also contain additional commands like `module load`. By leveraging these kind of shell script templates pyiron is easily customizable."
   ]
  },
  {
   "cell_type": "code",
   "execution_count": null,
   "id": "d875c914-14bb-40f1-89e6-b6849d3a1502",
   "metadata": {},
   "outputs": [],
   "source": [
    "lmp.executable.list_executables()"
   ]
  },
  {
   "cell_type": "code",
   "execution_count": null,
   "id": "4f6f0ee7-9afb-47a0-ad2d-2d5de36e0492",
   "metadata": {},
   "outputs": [],
   "source": [
    "lmp.executable.version = '2022.11.03_flux'"
   ]
  },
  {
   "cell_type": "code",
   "execution_count": 22,
   "id": "b96882de-550d-421e-be27-e1b8a920adf2",
   "metadata": {},
   "outputs": [
    {
     "name": "stdout",
     "output_type": "stream",
     "text": [
      "#!/bin/bash\n",
      "mpiexec -n ${PYIRON_CORES:=1} --oversubscribe lmp_mpi -in control.inp;\n"
     ]
    }
   ],
   "source": [
    "!cat $lmp.executable"
   ]
  },
  {
   "cell_type": "markdown",
   "id": "5728cf8d-d933-453b-9468-a4cbdef353bc",
   "metadata": {},
   "source": [
    "Now we start the calculation by calling the `run()` function of the job object: "
   ]
  },
  {
   "cell_type": "code",
   "execution_count": 23,
   "id": "8939c87c-9799-4092-beee-8742c8a25705",
   "metadata": {},
   "outputs": [
    {
     "name": "stdout",
     "output_type": "stream",
     "text": [
      "The job lmp was saved and received the ID: 100\n"
     ]
    }
   ],
   "source": [
    "lmp.run()"
   ]
  },
  {
   "cell_type": "markdown",
   "id": "1120ffdf-004e-45de-89db-f4cc47a779b8",
   "metadata": {},
   "source": [
    "After submitting the calculation to the queuing system, we can use the built-in `queue_table()` function of the project object to check the progress of the calculation. "
   ]
  },
  {
   "cell_type": "code",
   "execution_count": 24,
   "id": "d42c3641-da0e-4baa-a096-9e5516b50e06",
   "metadata": {},
   "outputs": [],
   "source": [
    "pr.queue_table()"
   ]
  },
  {
   "cell_type": "markdown",
   "id": "a385b763-94af-4841-ae7e-248b5f556c11",
   "metadata": {},
   "source": [
    "In addition to checking the `queue_table()` manually, we can also use the `wait_for_job()` function to wait until the execution of the LAMMPS calculation is completed: "
   ]
  },
  {
   "cell_type": "code",
   "execution_count": 25,
   "id": "1263562b-d471-4d9d-810d-f6d032cddef8",
   "metadata": {},
   "outputs": [],
   "source": [
    "pr.wait_for_job(job=lmp)"
   ]
  },
  {
   "cell_type": "markdown",
   "id": "711f2512-77a4-4ac9-8f99-79f6b4a37304",
   "metadata": {},
   "source": [
    "After the calculation is completed, it is also included in the `job_table()` of the specific project object: "
   ]
  },
  {
   "cell_type": "code",
   "execution_count": 26,
   "id": "6c9078ce-14f6-4add-8932-5065ca9c0c5d",
   "metadata": {},
   "outputs": [
    {
     "data": {
      "text/html": [
       "<div>\n",
       "<style scoped>\n",
       "    .dataframe tbody tr th:only-of-type {\n",
       "        vertical-align: middle;\n",
       "    }\n",
       "\n",
       "    .dataframe tbody tr th {\n",
       "        vertical-align: top;\n",
       "    }\n",
       "\n",
       "    .dataframe thead th {\n",
       "        text-align: right;\n",
       "    }\n",
       "</style>\n",
       "<table border=\"1\" class=\"dataframe\">\n",
       "  <thead>\n",
       "    <tr style=\"text-align: right;\">\n",
       "      <th></th>\n",
       "      <th>id</th>\n",
       "      <th>status</th>\n",
       "      <th>chemicalformula</th>\n",
       "      <th>job</th>\n",
       "      <th>subjob</th>\n",
       "      <th>projectpath</th>\n",
       "      <th>project</th>\n",
       "      <th>timestart</th>\n",
       "      <th>timestop</th>\n",
       "      <th>totalcputime</th>\n",
       "      <th>computer</th>\n",
       "      <th>hamilton</th>\n",
       "      <th>hamversion</th>\n",
       "      <th>parentid</th>\n",
       "      <th>masterid</th>\n",
       "    </tr>\n",
       "  </thead>\n",
       "  <tbody>\n",
       "    <tr>\n",
       "      <th>0</th>\n",
       "      <td>100</td>\n",
       "      <td>finished</td>\n",
       "      <td>Al4</td>\n",
       "      <td>lmp</td>\n",
       "      <td>/lmp</td>\n",
       "      <td>None</td>\n",
       "      <td>/Users/janssen/notebooks/2025/2025-06-11-lanl-tutorial/test/</td>\n",
       "      <td>2025-06-11 05:23:24.322598</td>\n",
       "      <td>2025-06-11 05:23:27.377512</td>\n",
       "      <td>3.0</td>\n",
       "      <td>pyiron@cmmb34.local#1</td>\n",
       "      <td>Lammps</td>\n",
       "      <td>0.1</td>\n",
       "      <td>None</td>\n",
       "      <td>None</td>\n",
       "    </tr>\n",
       "  </tbody>\n",
       "</table>\n",
       "</div>"
      ],
      "text/plain": [
       "    id    status chemicalformula  job subjob projectpath  \\\n",
       "0  100  finished             Al4  lmp   /lmp        None   \n",
       "\n",
       "                                                        project  \\\n",
       "0  /Users/janssen/notebooks/2025/2025-06-11-lanl-tutorial/test/   \n",
       "\n",
       "                   timestart                   timestop  totalcputime  \\\n",
       "0 2025-06-11 05:23:24.322598 2025-06-11 05:23:27.377512           3.0   \n",
       "\n",
       "                computer hamilton hamversion parentid masterid  \n",
       "0  pyiron@cmmb34.local#1   Lammps        0.1     None     None  "
      ]
     },
     "execution_count": 26,
     "metadata": {},
     "output_type": "execute_result"
    }
   ],
   "source": [
    "pr.job_table()"
   ]
  },
  {
   "cell_type": "markdown",
   "id": "5af04bb3-9582-4cae-84e3-7cee0034c215",
   "metadata": {},
   "source": [
    "# Plot the results of a LAMMPS calculation"
   ]
  },
  {
   "cell_type": "markdown",
   "id": "b6b22a13-62bb-4beb-9227-6560341ccabf",
   "metadata": {},
   "source": [
    "To analyse the output of the LAMMPS calculation pyiron automatically parses the output. So rather than interacting with the underlying output of the calculation you can use the `output` property to access the output of the LAMMPS calculation. Again, you can use the `<tab>`-based autocompletion to browse through the different output properties."
   ]
  },
  {
   "cell_type": "markdown",
   "id": "21830633-165a-4217-bdd7-a1615b9e0cf6",
   "metadata": {},
   "source": [
    "## Temperature equilibration"
   ]
  },
  {
   "cell_type": "markdown",
   "id": "39578f7b-31ef-4860-9646-83ee7168bc55",
   "metadata": {},
   "source": [
    "Here we just print the temperature to analyse how it changes over time: "
   ]
  },
  {
   "cell_type": "code",
   "execution_count": 27,
   "id": "b779c628-a53a-47dc-bb95-de219280658d",
   "metadata": {},
   "outputs": [
    {
     "data": {
      "text/plain": [
       "array([1000.        ,  103.00304968,  578.27246601,  823.29574395,\n",
       "        553.20366161,  427.30693999,  328.76338336,  337.28404635,\n",
       "        555.28090839,  570.91982962,  734.29756874,  340.04640237,\n",
       "        427.67693585,  391.00923285,  280.5868281 ,  537.76398349,\n",
       "        576.62724044,  616.14152134,  356.34638353,  482.77315068,\n",
       "        232.05516536,  328.77917715, 1188.03535609,  282.24679249,\n",
       "        521.64066404,  662.49040199,  186.65634774,  425.47644871,\n",
       "        587.59395228,  500.75312359,  947.92106638,   64.56283833,\n",
       "        255.81108675,  780.60316014,  321.40600253,  159.86655556,\n",
       "        500.77062228,  538.69987434,  818.89934001,  768.58558007,\n",
       "        450.56733042,  329.74059508,  495.24312128,  870.76916706,\n",
       "        259.36339358,  994.97443952,  473.88539309,  317.57378957,\n",
       "        538.28158136,  474.81269703,  661.72134066,  503.86116563,\n",
       "        674.42377724,  356.3083481 ,  252.70287374,  660.53615607,\n",
       "        343.36011953,  253.71866436,  280.73534123,  305.41310779,\n",
       "        743.24184561,  541.05031572,  508.41243712,  127.93028031,\n",
       "        235.08223068,  323.39732612,  272.63916207,  719.92835111,\n",
       "        436.3708977 ,  456.20625254,  436.12250107,   84.47839743,\n",
       "        355.153568  ,  349.00588221,  480.06921105,  500.62713896,\n",
       "        667.76438826,  641.65108379,  317.6814985 ,  457.56567256,\n",
       "        250.10714789,  436.37300094,  642.31401265,  421.16751984,\n",
       "        583.66392874,  187.88020393,  217.07426182,  144.23256887,\n",
       "        257.87159044,  589.80107761,  104.66588667,  850.5050747 ,\n",
       "        859.54347678,  352.9685645 ,  353.7275693 ,  365.42366924,\n",
       "        397.09183407,  732.13852563,  763.29534033,  466.68114712,\n",
       "        290.16421381])"
      ]
     },
     "execution_count": 27,
     "metadata": {},
     "output_type": "execute_result"
    }
   ],
   "source": [
    "lmp.output.temperature"
   ]
  },
  {
   "cell_type": "markdown",
   "id": "e24f819a-d867-441f-aac7-baf29a5b6d85",
   "metadata": {},
   "source": [
    "Obviously, looking at the numbers like this, it is hard to analyse if the structure is equilibrated or not. This is much easier when the temperature is plotted over the number of the time step. To do this we use the `matplotlib` package:"
   ]
  },
  {
   "cell_type": "code",
   "execution_count": 28,
   "id": "73ef1751-9e47-425a-b0a7-0fe1cf7a30c6",
   "metadata": {},
   "outputs": [],
   "source": [
    "import matplotlib.pyplot as plt "
   ]
  },
  {
   "cell_type": "markdown",
   "id": "79c65d34-02e2-478c-a55f-7e7d5e3417ee",
   "metadata": {},
   "source": [
    "Then from the output property we select the both the `steps` property and the `temperature` property and plot both: "
   ]
  },
  {
   "cell_type": "code",
   "execution_count": 29,
   "id": "4c52b09b-9948-49d2-b6f1-402dd4b0a4f0",
   "metadata": {},
   "outputs": [
    {
     "data": {
      "text/plain": [
       "Text(0, 0.5, 'Temperature (K)')"
      ]
     },
     "execution_count": 29,
     "metadata": {},
     "output_type": "execute_result"
    },
    {
     "data": {
      "image/png": "[encoded data removed]",
      "text/plain": [
       "<Figure size 640x480 with 1 Axes>"
      ]
     },
     "metadata": {},
     "output_type": "display_data"
    }
   ],
   "source": [
    "plt.plot(lmp.output.steps, lmp.output.temperature)\n",
    "plt.xlabel(\"Timesteps\")\n",
    "plt.ylabel(\"Temperature (K)\")"
   ]
  },
  {
   "cell_type": "markdown",
   "id": "20215ae3-5995-47be-9154-dd1a2d53ee80",
   "metadata": {},
   "source": [
    "The temperature is only poorly equilibrate as the four atoms in the simulation cell are not sufficient. You can increase the supercell before assigning it to the LAMMPS job object by replacing the line `lmp.structure = structure` with `lmp.structure = structure.repeat([4,4,4])`"
   ]
  },
  {
   "cell_type": "markdown",
   "id": "6647aa27-99d2-4f8b-a6a4-d0ef6a5a0e5f",
   "metadata": {},
   "source": [
    "## Visualize the vibration of the individual atoms"
   ]
  },
  {
   "cell_type": "markdown",
   "id": "d4c9c6e3-8918-497d-b011-08a275848976",
   "metadata": {},
   "source": [
    "Beyond combined properties like the change in temperature over time, we can also analyse the vibration of the atoms in the xy-plane. For this we divide the array of positions `lmp.output.positions` into two separate arrays one for the x-coordinates and one for the y-coordinates and then plot both combined in a two dimensional histogram."
   ]
  },
  {
   "cell_type": "code",
   "execution_count": 32,
   "id": "9c7003a5-9efd-46b0-a615-85ea33ce4cb7",
   "metadata": {},
   "outputs": [
    {
     "name": "stderr",
     "output_type": "stream",
     "text": [
      "<>:2: SyntaxWarning: invalid escape sequence '\\A'\n",
      "<>:3: SyntaxWarning: invalid escape sequence '\\A'\n",
      "<>:2: SyntaxWarning: invalid escape sequence '\\A'\n",
      "<>:3: SyntaxWarning: invalid escape sequence '\\A'\n",
      "/var/folders/9p/rztyv06d0xv4h26cyv8nrw3m0000gq/T/ipykernel_20718/4061323447.py:2: SyntaxWarning: invalid escape sequence '\\A'\n",
      "  plt.xlabel('x [$\\AA$]')\n",
      "/var/folders/9p/rztyv06d0xv4h26cyv8nrw3m0000gq/T/ipykernel_20718/4061323447.py:3: SyntaxWarning: invalid escape sequence '\\A'\n",
      "  plt.ylabel('y [$\\AA$]')\n"
     ]
    },
    {
     "data": {
      "text/plain": [
       "Text(0, 0.5, 'y [$\\\\AA$]')"
      ]
     },
     "execution_count": 32,
     "metadata": {},
     "output_type": "execute_result"
    },
    {
     "data": {
      "image/png": "[encoded data removed]",
      "text/plain": [
       "<Figure size 640x480 with 1 Axes>"
      ]
     },
     "metadata": {},
     "output_type": "display_data"
    }
   ],
   "source": [
    "plt.hist2d(lmp.output.positions[:, :, 0].flatten(), lmp.output.positions[:, :, 1].flatten(), bins=50)\n",
    "plt.xlabel('x [$\\AA$]')\n",
    "plt.ylabel('y [$\\AA$]')"
   ]
  },
  {
   "cell_type": "markdown",
   "id": "af0d7949-09f2-4da5-a136-774465c34b2b",
   "metadata": {},
   "source": [
    "# Different levels of output"
   ]
  },
  {
   "cell_type": "markdown",
   "id": "f7cc0ae8-1da3-4c51-9204-d090275a75b7",
   "metadata": {},
   "source": [
    "The easiest way to access the output of a pyiron job object is using the `output` property as demonstrated above. Internally, pyiron converts the underlying LAMMPS output files `log.lammps` and `dump.out` to `numpy` arrays and then stores these converted `numpy` arrays in an file using the hierachical data format (HDF5). "
   ]
  },
  {
   "cell_type": "markdown",
   "id": "67ee5e63-391c-4927-98ce-de7dc58ce8a8",
   "metadata": {},
   "source": [
    "## HDF5 interface"
   ]
  },
  {
   "cell_type": "markdown",
   "id": "8e7b76f6-2b03-451a-bded-ace93fdd2f8d",
   "metadata": {},
   "source": [
    "Each pyiron job object has one associated HDF5 file. To get the path of the HDF5 file for a particiular pyiron job object you can use `lmp.project_hdf5.file_name`."
   ]
  },
  {
   "cell_type": "code",
   "execution_count": 34,
   "id": "7f3f1f13-5edd-41e5-8b0d-5a6d3e4ab9b6",
   "metadata": {},
   "outputs": [
    {
     "data": {
      "text/plain": [
       "'/Users/janssen/notebooks/2025/2025-06-11-lanl-tutorial/test/lmp.h5'"
      ]
     },
     "execution_count": 34,
     "metadata": {},
     "output_type": "execute_result"
    }
   ],
   "source": [
    "lmp.project_hdf5.file_name"
   ]
  },
  {
   "cell_type": "markdown",
   "id": "9e670b0a-edc2-4671-aa94-225501dc32a2",
   "metadata": {},
   "source": [
    "The same HDF5 file can be accessed using the dicitonary notiation. The hierachy of the HDF5 format extends the hierachy of the filesystem, so the output properties like temperature and steps are located in the output group under the subgroup generic: "
   ]
  },
  {
   "cell_type": "code",
   "execution_count": 33,
   "id": "935742c6-915b-416f-92fa-472e4efe0651",
   "metadata": {},
   "outputs": [
    {
     "data": {
      "application/json": {
       "cells": "[[[4.05000000e+00 2.47990977e-16 2.47990977e-16]\n  [0.00000000e+00 4.05000000e+00 2.47990977e-16]\n  [0.00000000e+00 0.00000000e+00 4.05000000e+00]]\n\n [[4.10792841e+00 2.51538069e-16 2.51538069e-16]\n  [0.00000000e+00 4.10792841e+00 2.51538069e-16]\n  [0.00000000e+00 0.00000000e+00 4.10792841e+00]]\n\n [[4.08978327e+00 2.50427000e-16 2.50427000e-16]\n  [0.00000000e+00 4.08978327e+00 2.50427000e-16]\n  [0.00000000e+00 0.00000000e+00 4.08978327e+00]]\n\n [[4.07799329e+00 2.49705072e-16 2.49705072e-16]\n  [0.00000000e+00 4.07799329e+00 2.49705072e-16]\n  [0.00000000e+00 0.00000000e+00 4.07799329e+00]]\n\n [[4.15358409e+00 2.54333673e-16 2.54333673e-16]\n  [0.00000000e+00 4.15358409e+00 2.54333673e-16]\n  [0.00000000e+00 0.00000000e+00 4.15358409e+00]]\n\n [[4.05274268e+00 2.48158918e-16 2.48158918e-16]\n  [0.00000000e+00 4.05274268e+00 2.48158918e-16]\n  [0.00000000e+00 0.00000000e+00 4.05274268e+00]]\n\n [[4.05797040e+00 2.48479023e-16 2.48479023e-16]\n  [0.00000000e+00 4.05797040e+00 2.48479023e-16]\n  [0.00000000e+00 0.00000000e+00 4.05797040e+00]]\n\n [[4.13221596e+00 2.53025253e-16 2.53025253e-16]\n  [0.00000000e+00 4.13221596e+00 2.53025253e-16]\n  [0.00000000e+00 0.00000000e+00 4.13221596e+00]]\n\n [[4.03072640e+00 2.46810809e-16 2.46810809e-16]\n  [0.00000000e+00 4.03072640e+00 2.46810809e-16]\n  [0.00000000e+00 0.00000000e+00 4.03072640e+00]]\n\n [[4.11567601e+00 2.52012473e-16 2.52012473e-16]\n  [0.00000000e+00 4.11567601e+00 2.52012473e-16]\n  [0.00000000e+00 0.00000000e+00 4.11567601e+00]]\n\n [[4.11838155e+00 2.52178139e-16 2.52178139e-16]\n  [0.00000000e+00 4.11838155e+00 2.52178139e-16]\n  [0.00000000e+00 0.00000000e+00 4.11838155e+00]]\n\n [[4.02881560e+00 2.46693806e-16 2.46693806e-16]\n  [0.00000000e+00 4.02881560e+00 2.46693806e-16]\n  [0.00000000e+00 0.00000000e+00 4.02881560e+00]]\n\n [[4.14296509e+00 2.53683447e-16 2.53683447e-16]\n  [0.00000000e+00 4.14296509e+00 2.53683447e-16]\n  [0.00000000e+00 0.00000000e+00 4.14296509e+00]]\n\n [[4.05287266e+00 2.48166876e-16 2.48166876e-16]\n  [0.00000000e+00 4.05287266e+00 2.48166876e-16]\n  [0.00000000e+00 0.00000000e+00 4.05287266e+00]]\n\n [[4.03207356e+00 2.46893299e-16 2.46893299e-16]\n  [0.00000000e+00 4.03207356e+00 2.46893299e-16]\n  [0.00000000e+00 0.00000000e+00 4.03207356e+00]]\n\n [[4.16255382e+00 2.54882910e-16 2.54882910e-16]\n  [0.00000000e+00 4.16255382e+00 2.54882910e-16]\n  [0.00000000e+00 0.00000000e+00 4.16255382e+00]]\n\n [[4.04430977e+00 2.47642551e-16 2.47642551e-16]\n  [0.00000000e+00 4.04430977e+00 2.47642551e-16]\n  [0.00000000e+00 0.00000000e+00 4.04430977e+00]]\n\n [[4.09830245e+00 2.50948649e-16 2.50948649e-16]\n  [0.00000000e+00 4.09830245e+00 2.50948649e-16]\n  [0.00000000e+00 0.00000000e+00 4.09830245e+00]]\n\n [[4.14208597e+00 2.53629616e-16 2.53629616e-16]\n  [0.00000000e+00 4.14208597e+00 2.53629616e-16]\n  [0.00000000e+00 0.00000000e+00 4.14208597e+00]]\n\n [[3.99076449e+00 2.44363848e-16 2.44363848e-16]\n  [0.00000000e+00 3.99076449e+00 2.44363848e-16]\n  [0.00000000e+00 0.00000000e+00 3.99076449e+00]]\n\n [[4.14098846e+00 2.53562413e-16 2.53562413e-16]\n  [0.00000000e+00 4.14098846e+00 2.53562413e-16]\n  [0.00000000e+00 0.00000000e+00 4.14098846e+00]]\n\n [[4.09893085e+00 2.50987127e-16 2.50987127e-16]\n  [0.00000000e+00 4.09893085e+00 2.50987127e-16]\n  [0.00000000e+00 0.00000000e+00 4.09893085e+00]]\n\n [[4.00835482e+00 2.45440945e-16 2.45440945e-16]\n  [0.00000000e+00 4.00835482e+00 2.45440945e-16]\n  [0.00000000e+00 0.00000000e+00 4.00835482e+00]]\n\n [[4.23558702e+00 2.59354904e-16 2.59354904e-16]\n  [0.00000000e+00 4.23558702e+00 2.59354904e-16]\n  [0.00000000e+00 0.00000000e+00 4.23558702e+00]]\n\n [[4.08130536e+00 2.49907878e-16 2.49907878e-16]\n  [0.00000000e+00 4.08130536e+00 2.49907878e-16]\n  [0.00000000e+00 0.00000000e+00 4.08130536e+00]]\n\n [[4.01871156e+00 2.46075112e-16 2.46075112e-16]\n  [0.00000000e+00 4.01871156e+00 2.46075112e-16]\n  [0.00000000e+00 0.00000000e+00 4.01871156e+00]]\n\n [[4.21796040e+00 2.58275585e-16 2.58275585e-16]\n  [0.00000000e+00 4.21796040e+00 2.58275585e-16]\n  [0.00000000e+00 0.00000000e+00 4.21796040e+00]]\n\n [[3.99020794e+00 2.44329769e-16 2.44329769e-16]\n  [0.00000000e+00 3.99020794e+00 2.44329769e-16]\n  [0.00000000e+00 0.00000000e+00 3.99020794e+00]]\n\n [[4.09121838e+00 2.50514875e-16 2.50514875e-16]\n  [0.00000000e+00 4.09121838e+00 2.50514875e-16]\n  [0.00000000e+00 0.00000000e+00 4.09121838e+00]]\n\n [[4.24880621e+00 2.60164346e-16 2.60164346e-16]\n  [0.00000000e+00 4.24880621e+00 2.60164346e-16]\n  [0.00000000e+00 0.00000000e+00 4.24880621e+00]]\n\n [[4.00722284e+00 2.45371631e-16 2.45371631e-16]\n  [0.00000000e+00 4.00722284e+00 2.45371631e-16]\n  [0.00000000e+00 0.00000000e+00 4.00722284e+00]]\n\n [[4.11951199e+00 2.52247358e-16 2.52247358e-16]\n  [0.00000000e+00 4.11951199e+00 2.52247358e-16]\n  [0.00000000e+00 0.00000000e+00 4.11951199e+00]]\n\n [[4.16368159e+00 2.54951967e-16 2.54951967e-16]\n  [0.00000000e+00 4.16368159e+00 2.54951967e-16]\n  [0.00000000e+00 0.00000000e+00 4.16368159e+00]]\n\n [[3.99952693e+00 2.44900393e-16 2.44900393e-16]\n  [0.00000000e+00 3.99952693e+00 2.44900393e-16]\n  [0.00000000e+00 0.00000000e+00 3.99952693e+00]]\n\n [[4.14834260e+00 2.54012724e-16 2.54012724e-16]\n  [0.00000000e+00 4.14834260e+00 2.54012724e-16]\n  [0.00000000e+00 0.00000000e+00 4.14834260e+00]]\n\n [[4.09689098e+00 2.50862221e-16 2.50862221e-16]\n  [0.00000000e+00 4.09689098e+00 2.50862221e-16]\n  [0.00000000e+00 0.00000000e+00 4.09689098e+00]]\n\n [[4.02317325e+00 2.46348312e-16 2.46348312e-16]\n  [0.00000000e+00 4.02317325e+00 2.46348312e-16]\n  [0.00000000e+00 0.00000000e+00 4.02317325e+00]]\n\n [[4.15324416e+00 2.54312858e-16 2.54312858e-16]\n  [0.00000000e+00 4.15324416e+00 2.54312858e-16]\n  [0.00000000e+00 0.00000000e+00 4.15324416e+00]]\n\n [[4.08089084e+00 2.49882495e-16 2.49882495e-16]\n  [0.00000000e+00 4.08089084e+00 2.49882495e-16]\n  [0.00000000e+00 0.00000000e+00 4.08089084e+00]]\n\n [[4.09583353e+00 2.50797471e-16 2.50797471e-16]\n  [0.00000000e+00 4.09583353e+00 2.50797471e-16]\n  [0.00000000e+00 0.00000000e+00 4.09583353e+00]]\n\n [[4.11699321e+00 2.52093128e-16 2.52093128e-16]\n  [0.00000000e+00 4.11699321e+00 2.52093128e-16]\n  [0.00000000e+00 0.00000000e+00 4.11699321e+00]]\n\n [[4.03064677e+00 2.46805933e-16 2.46805933e-16]\n  [0.00000000e+00 4.03064677e+00 2.46805933e-16]\n  [0.00000000e+00 0.00000000e+00 4.03064677e+00]]\n\n [[4.11193770e+00 2.51783567e-16 2.51783567e-16]\n  [0.00000000e+00 4.11193770e+00 2.51783567e-16]\n  [0.00000000e+00 0.00000000e+00 4.11193770e+00]]\n\n [[4.09578907e+00 2.50794749e-16 2.50794749e-16]\n  [0.00000000e+00 4.09578907e+00 2.50794749e-16]\n  [0.00000000e+00 0.00000000e+00 4.09578907e+00]]\n\n [[4.07916552e+00 2.49776850e-16 2.49776850e-16]\n  [0.00000000e+00 4.07916552e+00 2.49776850e-16]\n  [0.00000000e+00 0.00000000e+00 4.07916552e+00]]\n\n [[4.16837589e+00 2.55239409e-16 2.55239409e-16]\n  [0.00000000e+00 4.16837589e+00 2.55239409e-16]\n  [0.00000000e+00 0.00000000e+00 4.16837589e+00]]\n\n [[4.04610235e+00 2.47752315e-16 2.47752315e-16]\n  [0.00000000e+00 4.04610235e+00 2.47752315e-16]\n  [0.00000000e+00 0.00000000e+00 4.04610235e+00]]\n\n [[4.05564691e+00 2.48336751e-16 2.48336751e-16]\n  [0.00000000e+00 4.05564691e+00 2.48336751e-16]\n  [0.00000000e+00 0.00000000e+00 4.05564691e+00]]\n\n [[4.14356444e+00 2.53720146e-16 2.53720146e-16]\n  [0.00000000e+00 4.14356444e+00 2.53720146e-16]\n  [0.00000000e+00 0.00000000e+00 4.14356444e+00]]\n\n [[4.03510726e+00 2.47079060e-16 2.47079060e-16]\n  [0.00000000e+00 4.03510726e+00 2.47079060e-16]\n  [0.00000000e+00 0.00000000e+00 4.03510726e+00]]\n\n [[4.13581551e+00 2.53245661e-16 2.53245661e-16]\n  [0.00000000e+00 4.13581551e+00 2.53245661e-16]\n  [0.00000000e+00 0.00000000e+00 4.13581551e+00]]\n\n [[4.12331536e+00 2.52480248e-16 2.52480248e-16]\n  [0.00000000e+00 4.12331536e+00 2.52480248e-16]\n  [0.00000000e+00 0.00000000e+00 4.12331536e+00]]\n\n [[4.02228567e+00 2.46293964e-16 2.46293964e-16]\n  [0.00000000e+00 4.02228567e+00 2.46293964e-16]\n  [0.00000000e+00 0.00000000e+00 4.02228567e+00]]\n\n [[4.14507088e+00 2.53812389e-16 2.53812389e-16]\n  [0.00000000e+00 4.14507088e+00 2.53812389e-16]\n  [0.00000000e+00 0.00000000e+00 4.14507088e+00]]\n\n [[4.07508823e+00 2.49527188e-16 2.49527188e-16]\n  [0.00000000e+00 4.07508823e+00 2.49527188e-16]\n  [0.00000000e+00 0.00000000e+00 4.07508823e+00]]\n\n [[4.05327875e+00 2.48191742e-16 2.48191742e-16]\n  [0.00000000e+00 4.05327875e+00 2.48191742e-16]\n  [0.00000000e+00 0.00000000e+00 4.05327875e+00]]\n\n [[4.15211027e+00 2.54243427e-16 2.54243427e-16]\n  [0.00000000e+00 4.15211027e+00 2.54243427e-16]\n  [0.00000000e+00 0.00000000e+00 4.15211027e+00]]\n\n [[4.02866186e+00 2.46684393e-16 2.46684393e-16]\n  [0.00000000e+00 4.02866186e+00 2.46684393e-16]\n  [0.00000000e+00 0.00000000e+00 4.02866186e+00]]\n\n [[4.07640693e+00 2.49607935e-16 2.49607935e-16]\n  [0.00000000e+00 4.07640693e+00 2.49607935e-16]\n  [0.00000000e+00 0.00000000e+00 4.07640693e+00]]\n\n [[4.12546950e+00 2.52612151e-16 2.52612151e-16]\n  [0.00000000e+00 4.12546950e+00 2.52612151e-16]\n  [0.00000000e+00 0.00000000e+00 4.12546950e+00]]\n\n [[4.03603448e+00 2.47135835e-16 2.47135835e-16]\n  [0.00000000e+00 4.03603448e+00 2.47135835e-16]\n  [0.00000000e+00 0.00000000e+00 4.03603448e+00]]\n\n [[4.14697521e+00 2.53928996e-16 2.53928996e-16]\n  [0.00000000e+00 4.14697521e+00 2.53928996e-16]\n  [0.00000000e+00 0.00000000e+00 4.14697521e+00]]\n\n [[4.09635611e+00 2.50829470e-16 2.50829470e-16]\n  [0.00000000e+00 4.09635611e+00 2.50829470e-16]\n  [0.00000000e+00 0.00000000e+00 4.09635611e+00]]\n\n [[4.02781399e+00 2.46632476e-16 2.46632476e-16]\n  [0.00000000e+00 4.02781399e+00 2.46632476e-16]\n  [0.00000000e+00 0.00000000e+00 4.02781399e+00]]\n\n [[4.12029659e+00 2.52295402e-16 2.52295402e-16]\n  [0.00000000e+00 4.12029659e+00 2.52295402e-16]\n  [0.00000000e+00 0.00000000e+00 4.12029659e+00]]\n\n [[4.03192720e+00 2.46884337e-16 2.46884337e-16]\n  [0.00000000e+00 4.03192720e+00 2.46884337e-16]\n  [0.00000000e+00 0.00000000e+00 4.03192720e+00]]\n\n [[4.07754368e+00 2.49677541e-16 2.49677541e-16]\n  [0.00000000e+00 4.07754368e+00 2.49677541e-16]\n  [0.00000000e+00 0.00000000e+00 4.07754368e+00]]\n\n [[4.13298160e+00 2.53072134e-16 2.53072134e-16]\n  [0.00000000e+00 4.13298160e+00 2.53072134e-16]\n  [0.00000000e+00 0.00000000e+00 4.13298160e+00]]\n\n [[4.04072110e+00 2.47422808e-16 2.47422808e-16]\n  [0.00000000e+00 4.04072110e+00 2.47422808e-16]\n  [0.00000000e+00 0.00000000e+00 4.04072110e+00]]\n\n [[4.12208438e+00 2.52404872e-16 2.52404872e-16]\n  [0.00000000e+00 4.12208438e+00 2.52404872e-16]\n  [0.00000000e+00 0.00000000e+00 4.12208438e+00]]\n\n [[4.09096405e+00 2.50499301e-16 2.50499301e-16]\n  [0.00000000e+00 4.09096405e+00 2.50499301e-16]\n  [0.00000000e+00 0.00000000e+00 4.09096405e+00]]\n\n [[4.01258317e+00 2.45699857e-16 2.45699857e-16]\n  [0.00000000e+00 4.01258317e+00 2.45699857e-16]\n  [0.00000000e+00 0.00000000e+00 4.01258317e+00]]\n\n [[4.12792472e+00 2.52762490e-16 2.52762490e-16]\n  [0.00000000e+00 4.12792472e+00 2.52762490e-16]\n  [0.00000000e+00 0.00000000e+00 4.12792472e+00]]\n\n [[4.05551067e+00 2.48328408e-16 2.48328408e-16]\n  [0.00000000e+00 4.05551067e+00 2.48328408e-16]\n  [0.00000000e+00 0.00000000e+00 4.05551067e+00]]\n\n [[4.06514956e+00 2.48918620e-16 2.48918620e-16]\n  [0.00000000e+00 4.06514956e+00 2.48918620e-16]\n  [0.00000000e+00 0.00000000e+00 4.06514956e+00]]\n\n [[4.14453689e+00 2.53779692e-16 2.53779692e-16]\n  [0.00000000e+00 4.14453689e+00 2.53779692e-16]\n  [0.00000000e+00 0.00000000e+00 4.14453689e+00]]\n\n [[4.04905440e+00 2.47933075e-16 2.47933075e-16]\n  [0.00000000e+00 4.04905440e+00 2.47933075e-16]\n  [0.00000000e+00 0.00000000e+00 4.04905440e+00]]\n\n [[4.12340836e+00 2.52485943e-16 2.52485943e-16]\n  [0.00000000e+00 4.12340836e+00 2.52485943e-16]\n  [0.00000000e+00 0.00000000e+00 4.12340836e+00]]\n\n [[4.12330827e+00 2.52479814e-16 2.52479814e-16]\n  [0.00000000e+00 4.12330827e+00 2.52479814e-16]\n  [0.00000000e+00 0.00000000e+00 4.12330827e+00]]\n\n [[4.00420209e+00 2.45186663e-16 2.45186663e-16]\n  [0.00000000e+00 4.00420209e+00 2.45186663e-16]\n  [0.00000000e+00 0.00000000e+00 4.00420209e+00]]\n\n [[4.13391649e+00 2.53129380e-16 2.53129380e-16]\n  [0.00000000e+00 4.13391649e+00 2.53129380e-16]\n  [0.00000000e+00 0.00000000e+00 4.13391649e+00]]\n\n [[4.08348782e+00 2.50041515e-16 2.50041515e-16]\n  [0.00000000e+00 4.08348782e+00 2.50041515e-16]\n  [0.00000000e+00 0.00000000e+00 4.08348782e+00]]\n\n [[4.07217016e+00 2.49348508e-16 2.49348508e-16]\n  [0.00000000e+00 4.07217016e+00 2.49348508e-16]\n  [0.00000000e+00 0.00000000e+00 4.07217016e+00]]\n\n [[4.15968184e+00 2.54707053e-16 2.54707053e-16]\n  [0.00000000e+00 4.15968184e+00 2.54707053e-16]\n  [0.00000000e+00 0.00000000e+00 4.15968184e+00]]\n\n [[4.03143303e+00 2.46854078e-16 2.46854078e-16]\n  [0.00000000e+00 4.03143303e+00 2.46854078e-16]\n  [0.00000000e+00 0.00000000e+00 4.03143303e+00]]\n\n [[4.08577101e+00 2.50181320e-16 2.50181320e-16]\n  [0.00000000e+00 4.08577101e+00 2.50181320e-16]\n  [0.00000000e+00 0.00000000e+00 4.08577101e+00]]\n\n [[4.11042670e+00 2.51691045e-16 2.51691045e-16]\n  [0.00000000e+00 4.11042670e+00 2.51691045e-16]\n  [0.00000000e+00 0.00000000e+00 4.11042670e+00]]\n\n [[3.99618783e+00 2.44695932e-16 2.44695932e-16]\n  [0.00000000e+00 3.99618783e+00 2.44695932e-16]\n  [0.00000000e+00 0.00000000e+00 3.99618783e+00]]\n\n [[4.12212082e+00 2.52407103e-16 2.52407103e-16]\n  [0.00000000e+00 4.12212082e+00 2.52407103e-16]\n  [0.00000000e+00 0.00000000e+00 4.12212082e+00]]\n\n [[4.08686288e+00 2.50248177e-16 2.50248177e-16]\n  [0.00000000e+00 4.08686288e+00 2.50248177e-16]\n  [0.00000000e+00 0.00000000e+00 4.08686288e+00]]\n\n [[4.04207746e+00 2.47505861e-16 2.47505861e-16]\n  [0.00000000e+00 4.04207746e+00 2.47505861e-16]\n  [0.00000000e+00 0.00000000e+00 4.04207746e+00]]\n\n [[4.15801195e+00 2.54604801e-16 2.54604801e-16]\n  [0.00000000e+00 4.15801195e+00 2.54604801e-16]\n  [0.00000000e+00 0.00000000e+00 4.15801195e+00]]\n\n [[4.07107152e+00 2.49281236e-16 2.49281236e-16]\n  [0.00000000e+00 4.07107152e+00 2.49281236e-16]\n  [0.00000000e+00 0.00000000e+00 4.07107152e+00]]\n\n [[4.07721383e+00 2.49657343e-16 2.49657343e-16]\n  [0.00000000e+00 4.07721383e+00 2.49657343e-16]\n  [0.00000000e+00 0.00000000e+00 4.07721383e+00]]\n\n [[4.11657073e+00 2.52067258e-16 2.52067258e-16]\n  [0.00000000e+00 4.11657073e+00 2.52067258e-16]\n  [0.00000000e+00 0.00000000e+00 4.11657073e+00]]\n\n [[4.02168211e+00 2.46257006e-16 2.46257006e-16]\n  [0.00000000e+00 4.02168211e+00 2.46257006e-16]\n  [0.00000000e+00 0.00000000e+00 4.02168211e+00]]\n\n [[4.11232620e+00 2.51807356e-16 2.51807356e-16]\n  [0.00000000e+00 4.11232620e+00 2.51807356e-16]\n  [0.00000000e+00 0.00000000e+00 4.11232620e+00]]\n\n [[4.12524064e+00 2.52598137e-16 2.52598137e-16]\n  [0.00000000e+00 4.12524064e+00 2.52598137e-16]\n  [0.00000000e+00 0.00000000e+00 4.12524064e+00]]\n\n [[4.06831298e+00 2.49112323e-16 2.49112323e-16]\n  [0.00000000e+00 4.06831298e+00 2.49112323e-16]\n  [0.00000000e+00 0.00000000e+00 4.06831298e+00]]\n\n [[4.10812077e+00 2.51549848e-16 2.51549848e-16]\n  [0.00000000e+00 4.10812077e+00 2.51549848e-16]\n  [0.00000000e+00 0.00000000e+00 4.10812077e+00]]\n\n [[4.06869819e+00 2.49135911e-16 2.49135911e-16]\n  [0.00000000e+00 4.06869819e+00 2.49135911e-16]\n  [0.00000000e+00 0.00000000e+00 4.06869819e+00]]]",
       "energy_pot": "[-13.44868261 -13.1098551  -13.23311599 -13.1481713  -13.09353144\n -13.28485285 -13.30942314 -13.25278378 -13.24700059 -13.26169876\n -13.30948965 -13.12757471 -13.26223181 -13.3982173  -13.34904039\n -13.2180055  -13.14860564 -13.26559249 -13.23393014 -13.27873551\n -13.25385877 -13.27055778 -13.35783538 -12.89385069 -13.12816272\n -13.31690226 -13.09986545 -13.23759592 -13.26006786 -12.91982413\n -13.09003292 -13.05286911 -13.08605058 -13.2337511  -13.1644657\n -13.17954046 -13.26300821 -13.20516042 -13.13437833 -13.20172445\n -13.28463435 -13.24297951 -13.28898714 -13.31096442 -12.84602525\n -13.23650342 -13.32212902 -13.30523613 -13.29525096 -13.06164294\n -13.16936748 -13.19253518 -13.27132411 -13.18232975 -13.15515551\n -13.28717649 -13.18340703 -13.24926544 -13.31145334 -13.21915939\n -13.18636185 -13.14052012 -13.23472527 -13.2438312  -13.355324\n -13.36086095 -13.25896951 -13.30586243 -13.12259548 -13.20099391\n -13.36820495 -13.28220214 -13.34136705 -13.27604647 -13.2706525\n -13.1857346  -13.13923146 -13.14622781 -13.22212519 -13.3146403\n -13.24227559 -13.1332906  -13.13253107 -13.12944974 -13.29261515\n -13.25549761 -13.35746449 -13.32416519 -13.28966408 -13.34416538\n -13.05829213 -13.26703946 -13.25235863 -13.18852909 -13.31527391\n -13.30635581 -13.21153446 -13.1146692  -13.19771656 -13.26030945\n -13.2576688 ]",
       "energy_tot": "[-13.06090218 -13.06991253 -13.00887324 -12.82891332 -12.87900988\n -13.11915158 -13.18193513 -13.12199162 -13.03167352 -13.04030722\n -13.02474342 -12.99571136 -13.09638706 -13.24659157 -13.2402343\n -13.00947115 -12.92500088 -13.02666486 -13.09574599 -13.09152552\n -13.16387232 -13.14306365 -12.89713851 -12.78440091 -12.92588068\n -13.06000144 -13.02748377 -13.07260447 -13.03221043 -12.72564186\n -12.72244768 -13.0278329  -12.98685205 -12.93104846 -13.03983074\n -13.11754734 -13.06881916 -12.99626315 -12.81682519 -12.903682\n -13.10991316 -13.11511256 -13.09694155 -12.97329718 -12.7454492\n -12.8506718  -13.13836554 -13.18208723 -13.08651589 -12.87751986\n -12.91276489 -12.99714768 -13.00979576 -13.04416035 -13.05716228\n -13.03103349 -13.05025869 -13.15087831 -13.20258967 -13.10072616\n -12.89814721 -12.9307114  -13.03757287 -13.19422234 -13.26416371\n -13.23545379 -13.15324537 -13.0266883  -12.95337938 -13.02408605\n -13.19908518 -13.24944307 -13.20364545 -13.14070882 -13.08449105\n -12.99160119 -12.88028549 -12.89740807 -13.09893452 -13.13720528\n -13.14528894 -12.96407369 -12.88345426 -12.96612921 -13.0662817\n -13.18264134 -13.27328734 -13.26823462 -13.18966652 -13.11545206\n -13.01770475 -12.93723023 -12.91904449 -13.05165479 -13.17810528\n -13.16465166 -13.05755002 -12.8307602  -12.90172556 -13.07933963\n -13.14514879]",
       "forces": "[[[ 2.77555756e-17  2.08166817e-17 -2.77555756e-17]\n  [ 1.38777878e-17  5.55111512e-17  2.08166817e-17]\n  [ 2.77555756e-17 -8.84708973e-17  2.08166817e-17]\n  [-2.77555756e-17 -2.08166817e-17 -4.51028104e-17]]\n\n [[ 5.36534746e-01  1.58659105e+00  1.18686848e-01]\n  [ 7.21836648e-01 -8.89361037e-01  1.72469442e-01]\n  [ 7.50519983e-02  3.84292420e-01 -4.35830766e-01]\n  [-1.33342339e+00 -1.08152243e+00  1.44674476e-01]]\n\n [[ 8.04653865e-01  1.27145592e+00  3.09460200e-01]\n  [ 2.89702046e-02 -6.56257510e-01 -2.18435383e-01]\n  [-1.22797733e-02  6.56766647e-01 -3.49899164e-01]\n  [-8.21344297e-01 -1.27196506e+00  2.58874348e-01]]\n\n ...\n\n [[-2.32691245e-01  7.41328360e-01 -5.16513895e-02]\n  [-1.54403223e+00  4.88362700e-01 -7.97567409e-02]\n  [ 1.24185823e+00 -9.36122935e-01 -8.68198406e-02]\n  [ 5.34865248e-01 -2.93568125e-01  2.18227971e-01]]\n\n [[ 8.84628746e-01  4.17992434e-01 -7.28692778e-01]\n  [-1.73615815e-01  2.29847597e-01  4.47874856e-01]\n  [-4.86790183e-01 -3.32074494e-01  7.94015102e-01]\n  [-2.24222748e-01 -3.15765537e-01 -5.13197180e-01]]\n\n [[ 6.88357347e-01 -4.28714345e-01 -8.51070005e-01]\n  [ 9.20488161e-01 -6.43735491e-02  4.98045871e-01]\n  [-1.06457395e+00  4.27487835e-01  9.64584548e-01]\n  [-5.44271554e-01  6.56000590e-02 -6.11560414e-01]]]",
       "indices": "[[0 0 0 0]\n [0 0 0 0]\n [0 0 0 0]\n [0 0 0 0]\n [0 0 0 0]\n [0 0 0 0]\n [0 0 0 0]\n [0 0 0 0]\n [0 0 0 0]\n [0 0 0 0]\n [0 0 0 0]\n [0 0 0 0]\n [0 0 0 0]\n [0 0 0 0]\n [0 0 0 0]\n [0 0 0 0]\n [0 0 0 0]\n [0 0 0 0]\n [0 0 0 0]\n [0 0 0 0]\n [0 0 0 0]\n [0 0 0 0]\n [0 0 0 0]\n [0 0 0 0]\n [0 0 0 0]\n [0 0 0 0]\n [0 0 0 0]\n [0 0 0 0]\n [0 0 0 0]\n [0 0 0 0]\n [0 0 0 0]\n [0 0 0 0]\n [0 0 0 0]\n [0 0 0 0]\n [0 0 0 0]\n [0 0 0 0]\n [0 0 0 0]\n [0 0 0 0]\n [0 0 0 0]\n [0 0 0 0]\n [0 0 0 0]\n [0 0 0 0]\n [0 0 0 0]\n [0 0 0 0]\n [0 0 0 0]\n [0 0 0 0]\n [0 0 0 0]\n [0 0 0 0]\n [0 0 0 0]\n [0 0 0 0]\n [0 0 0 0]\n [0 0 0 0]\n [0 0 0 0]\n [0 0 0 0]\n [0 0 0 0]\n [0 0 0 0]\n [0 0 0 0]\n [0 0 0 0]\n [0 0 0 0]\n [0 0 0 0]\n [0 0 0 0]\n [0 0 0 0]\n [0 0 0 0]\n [0 0 0 0]\n [0 0 0 0]\n [0 0 0 0]\n [0 0 0 0]\n [0 0 0 0]\n [0 0 0 0]\n [0 0 0 0]\n [0 0 0 0]\n [0 0 0 0]\n [0 0 0 0]\n [0 0 0 0]\n [0 0 0 0]\n [0 0 0 0]\n [0 0 0 0]\n [0 0 0 0]\n [0 0 0 0]\n [0 0 0 0]\n [0 0 0 0]\n [0 0 0 0]\n [0 0 0 0]\n [0 0 0 0]\n [0 0 0 0]\n [0 0 0 0]\n [0 0 0 0]\n [0 0 0 0]\n [0 0 0 0]\n [0 0 0 0]\n [0 0 0 0]\n [0 0 0 0]\n [0 0 0 0]\n [0 0 0 0]\n [0 0 0 0]\n [0 0 0 0]\n [0 0 0 0]\n [0 0 0 0]\n [0 0 0 0]\n [0 0 0 0]\n [0 0 0 0]]",
       "natoms": "[4. 4. 4. 4. 4. 4. 4. 4. 4. 4. 4. 4. 4. 4. 4. 4. 4. 4. 4. 4. 4. 4. 4. 4.\n 4. 4. 4. 4. 4. 4. 4. 4. 4. 4. 4. 4. 4. 4. 4. 4. 4. 4. 4. 4. 4. 4. 4. 4.\n 4. 4. 4. 4. 4. 4. 4. 4. 4. 4. 4. 4. 4. 4. 4. 4. 4. 4. 4. 4. 4. 4. 4. 4.\n 4. 4. 4. 4. 4. 4. 4. 4. 4. 4. 4. 4. 4. 4. 4. 4. 4. 4. 4. 4. 4. 4. 4. 4.\n 4. 4. 4. 4. 4.]",
       "positions": "[[[0.00000000e+00 0.00000000e+00 0.00000000e+00]\n  [0.00000000e+00 2.02500000e+00 2.02500000e+00]\n  [2.02500000e+00 1.23995488e-16 2.02500000e+00]\n  [2.02500000e+00 2.02500000e+00 2.47990977e-16]]\n\n [[4.10269170e+00 3.95386863e+00 4.09758196e+00]\n  [4.03552532e+00 2.11716855e+00 2.01821343e+00]\n  [1.99197244e+00 1.83135051e-02 2.11486962e+00]\n  [2.19359576e+00 2.12650614e+00 4.09312022e+00]]\n\n [[4.01814806e+00 3.98920657e+00 4.06575247e+00]\n  [2.47382846e-02 2.07080753e+00 2.05388525e+00]\n  [2.01691175e+00 4.06422486e+00 2.07443081e+00]\n  [2.11976845e+00 2.14511084e+00 4.07528128e+00]]\n\n ...\n\n [[4.04018207e+00 3.96038544e+00 1.43198526e-02]\n  [1.33666415e-01 1.99569367e+00 2.03735525e+00]\n  [1.94220317e+00 1.05141743e-01 2.04070163e+00]\n  [2.02057430e+00 2.07540509e+00 4.04424922e+00]]\n\n [[4.00210722e+00 4.04198210e+00 5.86477796e-02]\n  [5.88594389e-02 2.01177147e+00 2.03228608e+00]\n  [2.09841899e+00 6.21211891e-02 1.98570053e+00]\n  [2.05685589e+00 2.10036678e+00 3.14863732e-02]]\n\n [[4.03875302e+00 6.22205797e-02 6.07022537e-02]\n  [3.99886919e+00 2.04063466e+00 2.02076085e+00]\n  [2.11757427e+00 4.00973898e+00 1.95618081e+00]\n  [2.05089810e+00 2.02480217e+00 3.10542808e-02]]]",
       "pressures": "[[[ 7.76154438e-01 -7.44322979e-01 -8.66826477e-02]\n  [-7.44322979e-01  1.22405285e+00  2.19416099e-01]\n  [-8.66826477e-02  2.19416099e-01  2.11909673e-01]]\n\n [[-1.80472763e-01  2.10587854e+00  1.20846785e-01]\n  [ 2.10587854e+00 -7.27146175e-01 -6.07203223e-01]\n  [ 1.20846785e-01 -6.07203223e-01 -2.95166518e-01]]\n\n [[ 3.92489981e-01  1.55912458e+00 -8.15938552e-02]\n  [ 1.55912458e+00  2.31565920e-01  3.94496044e-02]\n  [-8.15938552e-02  3.94496044e-02 -1.19372129e+00]]\n\n [[ 1.40248693e+00 -7.54942145e-01  1.09664881e+00]\n  [-7.54942145e-01  1.17030859e+00 -5.14022041e-01]\n  [ 1.09664881e+00 -5.14022041e-01  2.49088269e+00]]\n\n [[-2.21775858e+00  2.18835750e+00  5.13288370e-01]\n  [ 2.18835750e+00 -2.54323782e+00 -1.05056619e-01]\n  [ 5.13288370e-01 -1.05056619e-01 -3.70055167e+00]]\n\n [[ 2.28285733e+00  9.30567862e-01  3.70768561e-01]\n  [ 9.30567862e-01  1.48056702e+00 -1.53395526e-01]\n  [ 3.70768561e-01 -1.53395526e-01  1.83900177e+00]]\n\n [[ 1.41460125e+00 -5.84394849e-01  1.07979752e+00]\n  [-5.84394849e-01  7.84823976e-01  1.29275262e-01]\n  [ 1.07979752e+00  1.29275262e-01  1.30028694e+00]]\n\n [[-3.18722231e+00  1.23938997e+00 -4.40091326e-03]\n  [ 1.23938997e+00 -3.24159277e+00 -1.15870083e-01]\n  [-4.40091326e-03 -1.15870083e-01 -3.44310158e+00]]\n\n [[ 4.87929831e+00 -7.45583622e-01  1.40249829e+00]\n  [-7.45583622e-01  3.39884104e+00  1.16637531e-01]\n  [ 1.40249829e+00  1.16637531e-01  3.63703309e+00]]\n\n [[-2.15059947e+00  4.41678887e-01  1.02790366e+00]\n  [ 4.41678887e-01 -2.66613456e+00  3.73439626e-01]\n  [ 1.02790366e+00  3.73439626e-01 -1.77398314e+00]]\n\n [[-2.37549265e+00  3.45381529e-01 -6.28414338e-01]\n  [ 3.45381529e-01 -3.01946291e+00  4.46686032e-02]\n  [-6.28414338e-01  4.46686032e-02 -2.91956372e+00]]\n\n [[ 5.72669789e+00 -2.86074314e-02  2.17112827e+00]\n  [-2.86074314e-02  4.47913559e+00  9.04700873e-01]\n  [ 2.17112827e+00  9.04700873e-01  5.33273589e+00]]\n\n [[-3.91290506e+00  6.52420815e-02  5.46717474e-02]\n  [ 6.52420815e-02 -3.85105948e+00  1.55561728e-01]\n  [ 5.46717474e-02  1.55561728e-01 -4.16059456e+00]]\n\n [[ 7.97660860e-01 -2.42522073e-01  1.83265779e-01]\n  [-2.42522073e-01  3.49091268e-01 -9.84337927e-02]\n  [ 1.83265779e-01 -9.84337927e-02  8.55223613e-01]]\n\n [[ 2.75871396e+00  2.10397349e-01  6.80468047e-01]\n  [ 2.10397349e-01  2.52021493e+00  2.98440457e-01]\n  [ 6.80468047e-01  2.98440457e-01  2.69604525e+00]]\n\n [[-4.32550875e+00 -9.26856077e-01  5.88489249e-02]\n  [-9.26856077e-01 -4.43651342e+00 -5.97453873e-02]\n  [ 5.88489249e-02 -5.97453873e-02 -5.02806918e+00]]\n\n [[ 3.98625968e+00  4.63453971e-01  1.02553477e+00]\n  [ 4.63453971e-01  3.23548120e+00  8.66714357e-01]\n  [ 1.02553477e+00  8.66714357e-01  4.72499566e+00]]\n\n [[-9.53408334e-01 -4.74477548e-01  5.30288443e-01]\n  [-4.74477548e-01 -8.10805297e-01  2.43907762e-01]\n  [ 5.30288443e-01  2.43907762e-01 -1.39992542e+00]]\n\n [[-3.50394155e+00 -9.70440664e-01 -1.10013075e-01]\n  [-9.70440664e-01 -3.88074457e+00 -5.01130989e-02]\n  [-1.10013075e-01 -5.01130989e-02 -3.63343631e+00]]\n\n [[ 6.54368269e+00  6.99039211e-01 -1.50371450e-01]\n  [ 6.99039211e-01  6.47714353e+00  7.14906628e-01]\n  [-1.50371450e-01  7.14906628e-01  6.61735134e+00]]\n\n [[-3.59977724e+00 -7.99630183e-01  2.27772293e-01]\n  [-7.99630183e-01 -3.76008704e+00 -5.12464634e-02]\n  [ 2.27772293e-01 -5.12464634e-02 -4.36518958e+00]]\n\n [[-1.32572945e+00 -6.57923396e-01 -6.66550982e-01]\n  [-6.57923396e-01 -1.34362919e+00  1.52624405e-01]\n  [-6.66550982e-01  1.52624405e-01 -1.31564936e+00]]\n\n [[ 5.65414703e+00  1.04528555e+00  3.12877583e-01]\n  [ 1.04528555e+00  4.73259347e+00 -1.84723503e-01]\n  [ 3.12877583e-01 -1.84723503e-01  4.35372174e+00]]\n\n [[-4.53524236e+00 -2.49216738e+00 -1.79056513e-01]\n  [-2.49216738e+00 -4.74325963e+00  9.61653511e-02]\n  [-1.79056513e-01  9.61653511e-02 -5.66632620e+00]]\n\n [[ 1.51954221e+00  5.55010275e-02 -1.44325729e+00]\n  [ 5.55010275e-02  9.25098216e-01 -1.14641535e-01]\n  [-1.44325729e+00 -1.14641535e-01  2.03190999e+00]]\n\n [[ 4.40714555e+00 -1.71339603e-01  9.03492177e-01]\n  [-1.71339603e-01  3.90294497e+00  7.30608144e-01]\n  [ 9.03492177e-01  7.30608144e-01  4.35397946e+00]]\n\n [[-6.18509184e+00 -8.93936026e-01 -7.37667209e-01]\n  [-8.93936026e-01 -6.60943129e+00 -2.98573770e-01]\n  [-7.37667209e-01 -2.98573770e-01 -6.76928105e+00]]\n\n [[ 7.06998996e+00  1.02786423e+00  4.22344829e-01]\n  [ 1.02786423e+00  6.80153971e+00 -9.66981855e-02]\n  [ 4.22344829e-01 -9.66981855e-02  7.06705444e+00]]\n\n [[-1.92614741e-02 -1.08797413e+00 -2.60749447e-01]\n  [-1.08797413e+00 -7.10618495e-01 -1.32515992e-01]\n  [-2.60749447e-01 -1.32515992e-01 -9.19086015e-01]]\n\n [[-5.79717064e+00 -8.11939662e-01 -1.38790716e+00]\n  [-8.11939662e-01 -6.38379141e+00 -9.27661391e-01]\n  [-1.38790716e+00 -9.27661391e-01 -5.66667143e+00]]\n\n [[ 7.90983232e+00  2.43061745e+00  1.59815060e+00]\n  [ 2.43061745e+00  7.79867420e+00  9.69674516e-01]\n  [ 1.59815060e+00  9.69674516e-01  6.83372104e+00]]\n\n [[-2.58021605e-01 -1.42955006e+00 -2.33992520e+00]\n  [-1.42955006e+00 -7.65700678e-01 -1.73858265e+00]\n  [-2.33992520e+00 -1.73858265e+00 -7.51990138e-01]]\n\n [[-3.12074441e+00  1.14146309e+00  7.04579274e-01]\n  [ 1.14146309e+00 -3.23629026e+00  1.49985798e-01]\n  [ 7.04579274e-01  1.49985798e-01 -3.93166037e+00]]\n\n [[ 6.72686201e+00 -9.88989421e-01  1.55334847e-01]\n  [-9.88989421e-01  6.03336055e+00  1.49951048e-01]\n  [ 1.55334847e-01  1.49951048e-01  6.85497133e+00]]\n\n [[-3.39647937e+00 -8.33733506e-02 -1.10361466e+00]\n  [-8.33733506e-02 -3.52176848e+00 -1.17422268e+00]\n  [-1.10361466e+00 -1.17422268e+00 -3.17996903e+00]]\n\n [[ 2.67148699e-01  6.45435545e-01  1.61802334e+00]\n  [ 6.45435545e-01 -6.52834132e-01  6.80129303e-01]\n  [ 1.61802334e+00  6.80129303e-01 -6.23313429e-01]]\n\n [[ 4.36954227e+00 -1.49281472e+00 -9.27590676e-01]\n  [-1.49281472e+00  4.02257693e+00 -5.00697376e-01]\n  [-9.27590676e-01 -5.00697376e-01  4.60140675e+00]]\n\n [[-3.48144364e+00  9.46498181e-01  8.01451176e-01]\n  [ 9.46498181e-01 -4.12636570e+00 -2.61997633e-02]\n  [ 8.01451176e-01 -2.61997633e-02 -4.21864548e+00]]\n\n [[ 2.81198251e+00 -8.70573114e-01  1.53197465e+00]\n  [-8.70573114e-01  1.48350238e+00  7.94754716e-01]\n  [ 1.53197465e+00  7.94754716e-01  6.54364524e-01]]\n\n [[ 2.31372489e-01 -9.94647135e-01 -6.26751839e-01]\n  [-9.94647135e-01 -2.40723284e-01 -1.85442439e-01]\n  [-6.26751839e-01 -1.85442439e-01 -4.51034014e-01]]\n\n [[-2.19712460e+00  6.53612615e-01  5.46124239e-01]\n  [ 6.53612615e-01 -2.84161078e+00  1.33937551e-01]\n  [ 5.46124239e-01  1.33937551e-01 -2.71534222e+00]]\n\n [[ 4.55163155e+00 -1.64333106e+00 -1.43634868e-01]\n  [-1.64333106e+00  4.16953804e+00 -2.33284911e-01]\n  [-1.43634868e-01 -2.33284911e-01  2.89114592e+00]]\n\n [[-2.22686970e+00 -2.70917425e-01  2.89611311e-02]\n  [-2.70917425e-01 -2.81650774e+00  6.41566353e-02]\n  [ 2.89611311e-02  6.41566353e-02 -1.80774319e+00]]\n\n [[-6.74491367e-01 -2.42210819e-01  2.91989491e-01]\n  [-2.42210819e-01 -8.05553112e-01 -1.69732153e-02]\n  [ 2.91989491e-01 -1.69732153e-02 -2.15720003e+00]]\n\n [[ 5.37999510e+00 -4.45609868e+00 -1.63920742e+00]\n  [-4.45609868e+00  4.10376362e+00 -3.36986361e-01]\n  [-1.63920742e+00 -3.36986361e-01  3.26853571e+00]]\n\n [[-4.97087297e+00  5.17418929e-01 -5.98487803e-02]\n  [ 5.17418929e-01 -4.66060304e+00  1.21889630e-01]\n  [-5.98487803e-02  1.21889630e-01 -5.00387940e+00]]\n\n [[ 2.25809770e+00 -9.84953293e-01  1.76897366e-01]\n  [-9.84953293e-01  2.11696793e+00 -4.04921885e-03]\n  [ 1.76897366e-01 -4.04921885e-03  1.60196831e+00]]\n\n [[ 1.67889478e+00 -6.97005777e-01 -6.57314758e-01]\n  [-6.97005777e-01  1.72378806e+00 -2.03535364e-01]\n  [-6.57314758e-01 -2.03535364e-01  7.21015603e-01]]\n\n [[-4.14978553e+00  1.83617917e-01  9.67443421e-01]\n  [ 1.83617917e-01 -4.62426892e+00  2.96296092e-01]\n  [ 9.67443421e-01  2.96296092e-01 -4.23182448e+00]]\n\n [[ 5.88400943e+00 -3.37841800e+00 -1.82895932e+00]\n  [-3.37841800e+00  6.13777386e+00 -1.01600486e+00]\n  [-1.82895932e+00 -1.01600486e+00  4.14873067e+00]]\n\n [[-1.43014423e+00  7.35161360e-02  1.32083010e+00]\n  [ 7.35161360e-02 -2.49696775e+00  3.50683092e-01]\n  [ 1.32083010e+00  3.50683092e-01 -3.30771628e+00]]\n\n [[-1.85751748e+00 -3.06132729e-02  4.06159358e-01]\n  [-3.06132729e-02 -1.88066367e+00 -8.50958928e-01]\n  [ 4.06159358e-01 -8.50958928e-01 -2.24025306e+00]]\n\n [[ 5.18677982e+00 -1.91401374e+00 -5.61906200e-01]\n  [-1.91401374e+00  4.41601178e+00  1.01706220e-01]\n  [-5.61906200e-01  1.01706220e-01  3.61417256e+00]]\n\n [[-2.96492629e+00  8.30884641e-01  1.60066754e+00]\n  [ 8.30884641e-01 -3.72075207e+00 -4.65366405e-01]\n  [ 1.60066754e+00 -4.65366405e-01 -3.23271256e+00]]\n\n [[ 2.08043333e+00 -1.74731967e+00 -5.86210472e-01]\n  [-1.74731967e+00  1.63868434e+00 -5.95752384e-01]\n  [-5.86210472e-01 -5.95752384e-01  6.85572844e-01]]\n\n [[ 2.58737171e+00  5.48904299e-01  4.83610208e-01]\n  [ 5.48904299e-01  1.68012312e+00  4.09867855e-02]\n  [ 4.83610208e-01  4.09867855e-02  1.54940837e+00]]\n\n [[-3.69353839e+00 -8.09264699e-02  8.23202417e-01]\n  [-8.09264699e-02 -3.93264870e+00 -8.34715206e-01]\n  [ 8.23202417e-01 -8.34715206e-01 -3.65273031e+00]]\n\n [[ 4.29613054e+00 -1.00372154e+00 -9.45330175e-01]\n  [-1.00372154e+00  4.14589804e+00  2.08023549e-01]\n  [-9.45330175e-01  2.08023549e-01  3.31526236e+00]]\n\n [[-1.55805189e-01  1.10755702e+00  6.69835378e-01]\n  [ 1.10755702e+00 -2.52019786e-01 -4.64762792e-01]\n  [ 6.69835378e-01 -4.64762792e-01 -2.70458862e-01]]\n\n [[-2.26026610e+00 -1.20500879e+00  1.47746677e-02]\n  [-1.20500879e+00 -2.56082107e+00 -3.12956540e-01]\n  [ 1.47746677e-02 -3.12956540e-01 -2.81062389e+00]]\n\n [[ 4.75662087e+00  1.35625228e+00 -5.31430255e-01]\n  [ 1.35625228e+00  5.04668795e+00  5.34499483e-01]\n  [-5.31430255e-01  5.34499483e-01  3.12378710e+00]]\n\n [[-2.56066006e+00  1.11373835e+00  1.17745098e+00]\n  [ 1.11373835e+00 -3.28138249e+00 -6.94607602e-01]\n  [ 1.17745098e+00 -6.94607602e-01 -2.82143567e+00]]\n\n [[-1.31724096e-01 -1.69500602e+00 -8.58152225e-01]\n  [-1.69500602e+00 -5.49930896e-01  9.33875972e-02]\n  [-8.58152225e-01  9.33875972e-02 -1.35083376e+00]]\n\n [[ 4.45587854e+00  1.54474701e+00  7.33208881e-01]\n  [ 1.54474701e+00  4.07647556e+00 -3.59990502e-02]\n  [ 7.33208881e-01 -3.59990502e-02  3.31095466e+00]]\n\n [[-3.63628414e+00 -5.10419570e-02 -1.58826739e-01]\n  [-5.10419570e-02 -3.77857594e+00 -8.48569212e-03]\n  [-1.58826739e-01 -8.48569212e-03 -3.66943326e+00]]\n\n [[ 3.00779928e+00  1.29616058e-01  1.39308661e-01]\n  [ 1.29616058e-01  2.58448312e+00  3.28476589e-02]\n  [ 1.39308661e-01  3.28476589e-02  2.11706045e+00]]\n\n [[ 7.95069703e-01  1.57315014e+00  4.01428560e-01]\n  [ 1.57315014e+00  3.34240224e-01 -1.41121440e-01]\n  [ 4.01428560e-01 -1.41121440e-01 -4.68338980e-01]]\n\n [[-3.37051818e+00 -6.20697563e-01 -2.66352862e-01]\n  [-6.20697563e-01 -4.00337539e+00 -2.67038624e-01]\n  [-2.66352862e-01 -2.67038624e-01 -3.64002449e+00]]\n\n [[ 5.51243612e+00  2.85848866e+00  7.98846558e-01]\n  [ 2.85848866e+00  4.41505885e+00  3.41814951e-02]\n  [ 7.98846558e-01  3.41814951e-02  3.18443726e+00]]\n\n [[-1.58847298e+00  8.71643868e-01  2.83158660e-01]\n  [ 8.71643868e-01 -2.09071891e+00 -4.98283491e-01]\n  [ 2.83158660e-01 -4.98283491e-01 -2.37979284e+00]]\n\n [[-1.35479185e+00 -1.74519949e-01 -4.38632167e-01]\n  [-1.74519949e-01 -1.93323026e+00  2.33474328e-01]\n  [-4.38632167e-01  2.33474328e-01 -1.93104809e+00]]\n\n [[ 4.91922335e+00  1.28149318e+00  1.64797196e-01]\n  [ 1.28149318e+00  4.66208308e+00 -9.87464212e-02]\n  [ 1.64797196e-01 -9.87464212e-02  4.40891831e+00]]\n\n [[-3.76478500e+00 -3.66693200e-01 -5.02180969e-02]\n  [-3.66693200e-01 -3.79657342e+00 -7.32677284e-02]\n  [-5.02180969e-02 -7.32677284e-02 -4.32256662e+00]]\n\n [[ 2.05964981e+00  1.22270645e+00 -7.87386145e-01]\n  [ 1.22270645e+00  1.33826359e+00  5.47064686e-01]\n  [-7.87386145e-01  5.47064686e-01  1.67623415e+00]]\n\n [[ 1.55927419e+00  6.93210077e-01  4.57173626e-01]\n  [ 6.93210077e-01  1.88102879e+00 -4.24428126e-01]\n  [ 4.57173626e-01 -4.24428126e-01 -3.28941179e-02]]\n\n [[-2.97728498e+00 -3.38761213e-01 -1.53891806e+00]\n  [-3.38761213e-01 -3.76562722e+00  8.64281663e-01]\n  [-1.53891806e+00  8.64281663e-01 -2.96436691e+00]]\n\n [[ 4.18552226e+00  2.73388437e+00 -4.16477409e-01]\n  [ 2.73388437e+00  4.31147321e+00  3.01565682e-01]\n  [-4.16477409e-01  3.01565682e-01  2.71125846e+00]]\n\n [[-7.78237284e-01 -1.00646079e+00 -7.09186260e-01]\n  [-1.00646079e+00 -1.06156326e+00  4.69314909e-01]\n  [-7.09186260e-01  4.69314909e-01 -2.39933880e+00]]\n\n [[-2.23346353e+00  3.91869063e-01 -1.30150219e+00]\n  [ 3.91869063e-01 -2.56047790e+00  5.89263411e-01]\n  [-1.30150219e+00  5.89263411e-01 -2.53534740e+00]]\n\n [[ 5.71329169e+00  9.76046353e-02  4.63482504e-01]\n  [ 9.76046353e-02  5.26374251e+00 -2.30172423e-02]\n  [ 4.63482504e-01 -2.30172423e-02  4.57334025e+00]]\n\n [[-3.20462696e+00 -7.17730582e-01 -8.77735109e-01]\n  [-7.17730582e-01 -3.44866940e+00  2.34927331e-01]\n  [-8.77735109e-01  2.34927331e-01 -3.37671581e+00]]\n\n [[ 2.26073730e+00  1.83891684e+00 -1.18572208e+00]\n  [ 1.83891684e+00  1.21462757e+00  2.94473321e-01]\n  [-1.18572208e+00  2.94473321e-01  1.38683389e-01]]\n\n [[ 2.95465250e+00 -3.25549961e+00  3.36935724e-01]\n  [-3.25549961e+00  2.53030819e+00 -4.65663060e-01]\n  [ 3.36935724e-01 -4.65663060e-01  7.99222069e-01]]\n\n [[-3.15630177e+00  6.01486052e-01 -1.99232894e+00]\n  [ 6.01486052e-01 -4.21742111e+00  2.66531302e-01]\n  [-1.99232894e+00  2.66531302e-01 -3.36040364e+00]]\n\n [[ 4.19257704e+00  5.60128381e-01  4.37416971e-01]\n  [ 5.60128381e-01  3.73318887e+00 -1.86717562e-01]\n  [ 4.37416971e-01 -1.86717562e-01  2.49236367e+00]]\n\n [[ 8.46262760e-02 -1.45664247e+00 -7.07541210e-01]\n  [-1.45664247e+00 -2.32257795e-01 -1.66561920e-01]\n  [-7.07541210e-01 -1.66561920e-01 -9.60072138e-01]]\n\n [[-3.05581650e+00  5.42490217e-01 -1.04506895e-01]\n  [ 5.42490217e-01 -2.99452048e+00  8.12951792e-02]\n  [-1.04506895e-01  8.12951792e-02 -3.19375621e+00]]\n\n [[ 5.86385305e+00 -7.46780197e-01  8.49328040e-02]\n  [-7.46780197e-01  5.54151703e+00 -4.92032229e-02]\n  [ 8.49328040e-02 -4.92032229e-02  5.00347834e+00]]\n\n [[-2.89775382e+00 -4.78241867e-01 -6.44938874e-01]\n  [-4.78241867e-01 -3.09713490e+00 -9.60680338e-03]\n  [-6.44938874e-01 -9.60680338e-03 -3.29169096e+00]]\n\n [[-7.61720977e-01  5.71724708e-01  5.06592542e-01]\n  [ 5.71724708e-01 -7.47925959e-01 -4.30673583e-02]\n  [ 5.06592542e-01 -4.30673583e-02 -1.81583525e+00]]\n\n [[ 5.67786858e+00 -3.55728706e+00 -3.38296955e-01]\n  [-3.55728706e+00  5.04825299e+00 -4.15167377e-01]\n  [-3.38296955e-01 -4.15167377e-01  3.39909534e+00]]\n\n [[-4.68359212e+00  1.07850449e-01  2.45137796e-01]\n  [ 1.07850449e-01 -4.28585620e+00  2.29368844e-01]\n  [ 2.45137796e-01  2.29368844e-01 -5.16062953e+00]]\n\n [[ 1.20840301e+00 -1.02246566e+00 -1.02838750e+00]\n  [-1.02246566e+00  1.77973546e+00 -7.41034905e-01]\n  [-1.02838750e+00 -7.41034905e-01  3.31910542e-01]]\n\n [[ 1.74218849e+00 -2.16558228e+00  2.60734494e-01]\n  [-2.16558228e+00  1.57891891e+00  1.36282864e-01]\n  [ 2.60734494e-01  1.36282864e-01 -2.76717703e-01]]\n\n [[-2.79600043e+00  3.43824993e-01 -7.07655833e-01]\n  [ 3.43824993e-01 -3.13247847e+00 -9.61682495e-02]\n  [-7.07655833e-01 -9.61682495e-02 -2.94168330e+00]]\n\n [[ 4.12694862e+00 -1.30155272e+00  1.77943196e-01]\n  [-1.30155272e+00  4.26040992e+00 -1.27399544e-01]\n  [ 1.77943196e-01 -1.27399544e-01  3.36581135e+00]]\n\n [[-5.72284770e-01 -1.00140843e-01 -5.99724835e-01]\n  [-1.00140843e-01 -1.42988724e+00  1.62677652e-01]\n  [-5.99724835e-01  1.62677652e-01 -2.62254938e+00]]\n\n [[-8.73140279e-01  5.57248865e-01 -1.60785027e+00]\n  [ 5.57248865e-01 -1.55175369e+00 -3.81299228e-01]\n  [-1.60785027e+00 -3.81299228e-01 -1.18720295e+00]]\n\n [[ 2.86729366e+00 -2.29327395e+00  8.75191314e-01]\n  [-2.29327395e+00  2.21993938e+00  1.34178932e-01]\n  [ 8.75191314e-01  1.34178932e-01  3.00061177e-01]]\n\n [[-9.84141443e-01  7.36424417e-01 -1.17319782e+00]\n  [ 7.36424417e-01 -2.09969013e+00 -7.63913301e-02]\n  [-1.17319782e+00 -7.63913301e-02 -2.16941749e+00]]\n\n [[ 1.07616483e+00 -7.76737475e-01 -6.25481977e-01]\n  [-7.76737475e-01  1.03701708e+00  4.03087357e-01]\n  [-6.25481977e-01  4.03087357e-01  5.94027301e-01]]]",
       "steps": "[    0   100   200   300   400   500   600   700   800   900  1000  1100\n  1200  1300  1400  1500  1600  1700  1800  1900  2000  2100  2200  2300\n  2400  2500  2600  2700  2800  2900  3000  3100  3200  3300  3400  3500\n  3600  3700  3800  3900  4000  4100  4200  4300  4400  4500  4600  4700\n  4800  4900  5000  5100  5200  5300  5400  5500  5600  5700  5800  5900\n  6000  6100  6200  6300  6400  6500  6600  6700  6800  6900  7000  7100\n  7200  7300  7400  7500  7600  7700  7800  7900  8000  8100  8200  8300\n  8400  8500  8600  8700  8800  8900  9000  9100  9200  9300  9400  9500\n  9600  9700  9800  9900 10000]",
       "temperature": "[1000.          103.00304968  578.27246601  823.29574395  553.20366161\n  427.30693999  328.76338336  337.28404635  555.28090839  570.91982962\n  734.29756874  340.04640237  427.67693585  391.00923285  280.5868281\n  537.76398349  576.62724044  616.14152134  356.34638353  482.77315068\n  232.05516536  328.77917715 1188.03535609  282.24679249  521.64066404\n  662.49040199  186.65634774  425.47644871  587.59395228  500.75312359\n  947.92106638   64.56283833  255.81108675  780.60316014  321.40600253\n  159.86655556  500.77062228  538.69987434  818.89934001  768.58558007\n  450.56733042  329.74059508  495.24312128  870.76916706  259.36339358\n  994.97443952  473.88539309  317.57378957  538.28158136  474.81269703\n  661.72134066  503.86116563  674.42377724  356.3083481   252.70287374\n  660.53615607  343.36011953  253.71866436  280.73534123  305.41310779\n  743.24184561  541.05031572  508.41243712  127.93028031  235.08223068\n  323.39732612  272.63916207  719.92835111  436.3708977   456.20625254\n  436.12250107   84.47839743  355.153568    349.00588221  480.06921105\n  500.62713896  667.76438826  641.65108379  317.6814985   457.56567256\n  250.10714789  436.37300094  642.31401265  421.16751984  583.66392874\n  187.88020393  217.07426182  144.23256887  257.87159044  589.80107761\n  104.66588667  850.5050747   859.54347678  352.9685645   353.7275693\n  365.42366924  397.09183407  732.13852563  763.29534033  466.68114712\n  290.16421381]",
       "unwrapped_positions": "[[[ 0.00000000e+00  0.00000000e+00  0.00000000e+00]\n  [ 0.00000000e+00  2.02500000e+00  2.02500000e+00]\n  [ 2.02500000e+00  1.23995488e-16  2.02500000e+00]\n  [ 2.02500000e+00  2.02500000e+00  2.47990977e-16]]\n\n [[-5.23670728e-03 -1.54059782e-01 -1.03464526e-02]\n  [-7.24030886e-02  2.11716855e+00  2.01821343e+00]\n  [ 1.99197244e+00  1.83135051e-02  2.11486962e+00]\n  [ 2.19359576e+00  2.12650614e+00 -1.48081874e-02]]\n\n [[-7.16352112e-02 -1.00576698e-01 -2.40308002e-02]\n  [ 2.47382846e-02  2.07080753e+00  2.05388525e+00]\n  [ 2.01691175e+00 -2.55584088e-02  2.07443081e+00]\n  [ 2.11976845e+00  2.14511084e+00 -1.45019874e-02]]\n\n ...\n\n [[-2.81309083e-02 -1.07927532e-01  1.43198526e-02]\n  [ 1.33666415e-01  1.99569367e+00  2.03735525e+00]\n  [ 1.94220317e+00  1.05141743e-01  2.04070163e+00]\n  [ 2.02057430e+00  2.07540509e+00 -2.40637574e-02]]\n\n [[-1.06013556e-01 -6.61386664e-02  5.86477796e-02]\n  [ 5.88594389e-02  2.01177147e+00  2.03228608e+00]\n  [ 2.09841899e+00  6.21211891e-02  1.98570053e+00]\n  [ 2.05685589e+00  2.10036678e+00  3.14863732e-02]]\n\n [[-2.99451703e-02  6.22205797e-02  6.07022537e-02]\n  [-6.98290039e-02  2.04063466e+00  2.02076085e+00]\n  [ 2.11757427e+00 -5.89592153e-02  1.95618081e+00]\n  [ 2.05089810e+00  2.02480217e+00  3.10542808e-02]]]",
       "velocities": "[[[-3.65203522e-03 -5.90506473e-04 -1.03198992e-03]\n  [-2.03402732e-03  6.35899563e-03  3.27879681e-03]\n  [ 8.52433612e-03 -1.02047511e-02 -1.43706890e-03]\n  [-2.83827358e-03  4.43626193e-03 -8.09737989e-04]]\n\n [[ 1.04206358e-03  1.51444904e-05 -5.80789809e-04]\n  [-1.06854004e-03  2.62007499e-03  1.15919525e-03]\n  [ 1.97693569e-03 -3.06202766e-03  1.31794303e-04]\n  [-1.95045923e-03  4.26808181e-04 -7.10199748e-04]]\n\n [[ 5.76184464e-03 -8.90656885e-04 -1.87501958e-04]\n  [ 7.56436916e-04 -2.12059987e-03 -2.28729446e-03]\n  [-7.63444972e-03  6.20290693e-03  2.78510883e-03]\n  [ 1.11616817e-03 -3.19165017e-03 -3.10312418e-04]]\n\n ...\n\n [[-9.89670354e-05  3.36551648e-03  2.71728932e-03]\n  [-8.49046941e-03  9.09897638e-04 -5.60890282e-03]\n  [ 1.93524293e-03 -1.91656860e-03 -2.23863619e-03]\n  [ 6.65419351e-03 -2.35884553e-03  5.13024969e-03]]\n\n [[-6.11831476e-03 -3.07246429e-03  1.76545009e-03]\n  [-2.15453892e-03 -1.64278872e-03 -2.83838006e-03]\n  [ 2.16463863e-03  4.10226646e-03 -9.23472211e-04]\n  [ 6.10821505e-03  6.12986544e-04  1.99640219e-03]]\n\n [[-4.38043386e-03 -2.01335988e-03 -8.33079113e-04]\n  [ 3.30033375e-03 -3.68704585e-03  2.35903190e-03]\n  [ 7.48663869e-04  4.52462618e-03  4.19330754e-04]\n  [ 3.31436241e-04  1.17577955e-03 -1.94528354e-03]]]",
       "volume": "[66.430125   69.32160344 68.40705322 67.817148   71.65871615 66.565177\n 66.82310077 70.55845015 65.48622535 69.71456759 69.85214386 65.39313658\n 71.11051439 66.5715816  65.55190836 72.12396339 66.15051642 68.83542779\n 71.06525609 63.55771818 71.00878139 68.86709666 64.40186943 75.98726726\n 67.9825217  64.90236274 75.04253438 63.5311307  68.47909085 76.70095455\n 64.34732264 69.90967968 72.18260164 63.97729555 71.38777556 68.76433112\n 65.11877228 71.6411237  67.96180976 68.71109855 69.78152451 65.48234443\n 69.52477279 68.70886076 67.87564702 72.42702136 66.23851609 66.70838309\n 71.14138109 65.69998207 70.74299986 70.10349268 65.07568328 71.21900206\n 67.67231744 66.59159453 71.58246268 65.38565103 67.73803506 70.21342227\n 65.7452836  71.31720541 68.73740208 65.34437653 69.94963238 65.54477009\n 67.79471932 70.59767769 65.97457887 70.04072519 68.46632046 64.60589433\n 70.33885707 66.70166061 67.17838891 71.19148096 66.38360518 70.10823636\n 70.10313122 64.20191217 70.6455969  68.09164006 67.52704595 71.9747796\n 65.52067316 68.20591961 69.44815694 63.81719034 70.0425825  68.26061572\n 66.04103887 71.88813225 67.47240609 67.77826798 69.76004374 65.04639293\n 69.54448115 70.20173792 67.33534155 69.33134216 67.35447076]"
      },
      "text/plain": [
       "{'groups': [], 'nodes': ['cells', 'energy_pot', 'energy_tot', 'forces', 'indices', 'natoms', 'positions', 'pressures', 'steps', 'temperature', 'unwrapped_positions', 'velocities', 'volume']}"
      ]
     },
     "execution_count": 33,
     "metadata": {},
     "output_type": "execute_result"
    }
   ],
   "source": [
    "lmp.content[\"output/generic\"]"
   ]
  },
  {
   "cell_type": "markdown",
   "id": "9737ff64-1a0f-448b-9501-7f5bfc455036",
   "metadata": {},
   "source": [
    "You can redo the plot from above using the direct access to the HDF5 file: "
   ]
  },
  {
   "cell_type": "code",
   "execution_count": 35,
   "id": "1c14f837-d362-4013-ba49-7a31771f922b",
   "metadata": {},
   "outputs": [
    {
     "name": "stderr",
     "output_type": "stream",
     "text": [
      "/var/folders/9p/rztyv06d0xv4h26cyv8nrw3m0000gq/T/ipykernel_20718/133915982.py:1: DeprecationWarning: pyiron_base.jobs.job.core.__getitem__ is deprecated: Use job.output for results, job.files to access files; job.content to access HDF storage and job.child_project to access children of master jobs..\n",
      "  plt.plot(lmp[\"output/generic/steps\"], lmp[\"output/generic/temperature\"])\n"
     ]
    },
    {
     "data": {
      "text/plain": [
       "Text(0, 0.5, 'Temperature (K)')"
      ]
     },
     "execution_count": 35,
     "metadata": {},
     "output_type": "execute_result"
    },
    {
     "data": {
      "image/png": "[encoded data removed]",
      "text/plain": [
       "<Figure size 640x480 with 1 Axes>"
      ]
     },
     "metadata": {},
     "output_type": "display_data"
    }
   ],
   "source": [
    "plt.plot(lmp[\"output/generic/steps\"], lmp[\"output/generic/temperature\"])\n",
    "plt.xlabel(\"Timesteps\")\n",
    "plt.ylabel(\"Temperature (K)\")"
   ]
  },
  {
   "cell_type": "markdown",
   "id": "1d041342-a03c-41ed-a3a4-49bc7b127b21",
   "metadata": {},
   "source": [
    "The advantage of the HDF5 interface is that the job object does not have to be reloaded from the database. Rather than calling `pr.load(job_name)` you can use `pr.inspect(job_name)` to access the job object without reloading it. This inspect mode acts like a pointer on the HDF5 file. The capabilities of the inspect mode are introduced in more detail in the following tutorial. "
   ]
  },
  {
   "cell_type": "markdown",
   "id": "9e7fbd5e-8825-4d94-a5e9-e33397b6fc9c",
   "metadata": {},
   "source": [
    "## Direct access to the output files"
   ]
  },
  {
   "cell_type": "markdown",
   "id": "1ce2ed98-1814-42bb-8e36-1e83720ee5d6",
   "metadata": {},
   "source": [
    "In case you modified the LAMMPS input files, or in case you are interested in a specific property which is currently not parsed by the LAMMPS output parser, you can directly access the output files from the python interface. The output files are located in the working directory of the job object."
   ]
  },
  {
   "cell_type": "code",
   "execution_count": 36,
   "id": "b12c5f54-5d89-48e2-af59-6351372eb782",
   "metadata": {},
   "outputs": [
    {
     "data": {
      "text/plain": [
       "'/Users/janssen/notebooks/2025/2025-06-11-lanl-tutorial/test/lmp_hdf5/lmp'"
      ]
     },
     "execution_count": 36,
     "metadata": {},
     "output_type": "execute_result"
    }
   ],
   "source": [
    "lmp.working_directory"
   ]
  },
  {
   "cell_type": "markdown",
   "id": "bce1134f-dfac-4b6d-81a6-5d1f6e038ad4",
   "metadata": {},
   "source": [
    "Still by default they are compressed, so access them we have to decompress the output files by calling the `decompress()` function of the job object:"
   ]
  },
  {
   "cell_type": "code",
   "execution_count": 37,
   "id": "59916c2c-d44d-47a7-893a-30432cc64e81",
   "metadata": {},
   "outputs": [],
   "source": [
    "lmp.decompress()"
   ]
  },
  {
   "cell_type": "markdown",
   "id": "1f26b3b2-5c74-41d7-be42-98f45cb902b7",
   "metadata": {},
   "source": [
    "Now the output files can be accessed in the same way like the output properties stored in the HDF5 file using the dictionary like notation:"
   ]
  },
  {
   "cell_type": "code",
   "execution_count": 38,
   "id": "33188f6f-0916-4187-9ef0-d42d54612f27",
   "metadata": {},
   "outputs": [
    {
     "name": "stderr",
     "output_type": "stream",
     "text": [
      "/var/folders/9p/rztyv06d0xv4h26cyv8nrw3m0000gq/T/ipykernel_20718/2375576541.py:1: DeprecationWarning: pyiron_base.jobs.job.core.__getitem__ is deprecated: Use job.output for results, job.files to access files; job.content to access HDF storage and job.child_project to access children of master jobs..\n",
      "  lmp[\"log.lammps\"]\n"
     ]
    },
    {
     "data": {
      "text/plain": [
       "['LAMMPS (27 Jun 2024)\\n',\n",
       " 'OMP_NUM_THREADS environment is not set. Defaulting to 1 thread. (src/comm.cpp:98)\\n',\n",
       " '  using 1 OpenMP thread(s) per MPI task\\n',\n",
       " 'units metal\\n',\n",
       " 'dimension 3\\n',\n",
       " 'boundary p p p\\n',\n",
       " 'atom_style atomic\\n',\n",
       " 'read_data structure.inp\\n',\n",
       " 'Reading data file ...\\n',\n",
       " '  orthogonal box = (0 0 0) to (4.05 4.05 4.05)\\n',\n",
       " '  1 by 1 by 1 MPI processor grid\\n',\n",
       " '  reading atoms ...\\n',\n",
       " '  4 atoms\\n',\n",
       " '  read_data CPU = 0.028 seconds\\n',\n",
       " 'include potential.inp\\n',\n",
       " 'pair_style eam/alloy\\n',\n",
       " 'pair_coeff * * NiAl02.eam.alloy Ni Al\\n',\n",
       " 'fix ensemble all npt temp 500.0 500.0 0.1 iso 0.0 0.0 1.0\\n',\n",
       " 'variable dumptime  equal 100\\n',\n",
       " 'variable thermotime  equal 100\\n',\n",
       " 'timestep 0.001\\n',\n",
       " 'velocity all create 1000.0 61040 dist gaussian\\n',\n",
       " 'dump 1 all custom ${dumptime} dump.out id type xsu ysu zsu fx fy fz vx vy vz\\n',\n",
       " 'dump 1 all custom 100 dump.out id type xsu ysu zsu fx fy fz vx vy vz\\n',\n",
       " 'dump_modify 1 sort id format line \"%d %d %20.15g %20.15g %20.15g %20.15g %20.15g %20.15g %20.15g %20.15g %20.15g\"\\n',\n",
       " 'thermo_style custom step temp pe etotal pxx pxy pxz pyy pyz pzz vol\\n',\n",
       " 'thermo_modify format float %20.15g\\n',\n",
       " 'thermo ${thermotime}\\n',\n",
       " 'thermo 100\\n',\n",
       " 'run 10000\\n',\n",
       " '\\n',\n",
       " 'CITE-CITE-CITE-CITE-CITE-CITE-CITE-CITE-CITE-CITE-CITE-CITE-CITE\\n',\n",
       " '\\n',\n",
       " 'Your simulation uses code contributions which should be cited:\\n',\n",
       " '\\n',\n",
       " '- Type Label Framework: https://doi.org/10.1021/acs.jpcb.3c08419\\n',\n",
       " '\\n',\n",
       " '@Article{Gissinger24,\\n',\n",
       " ' author = {Jacob R. Gissinger, Ilia Nikiforov, Yaser Afshar, Brendon Waters, Moon-ki Choi, Daniel S. Karls, Alexander Stukowski, Wonpil Im, Hendrik Heinz, Axel Kohlmeyer, and Ellad B. Tadmor},\\n',\n",
       " ' title = {Type Label Framework for Bonded Force Fields in LAMMPS},\\n',\n",
       " ' journal = {J. Phys. Chem. B},\\n',\n",
       " ' year =    2024,\\n',\n",
       " ' volume =  128,\\n',\n",
       " ' number =  13,\\n',\n",
       " ' pages =   {3282–-3297}\\n',\n",
       " '}\\n',\n",
       " '\\n',\n",
       " 'CITE-CITE-CITE-CITE-CITE-CITE-CITE-CITE-CITE-CITE-CITE-CITE-CITE\\n',\n",
       " '\\n',\n",
       " 'Neighbor list info ...\\n',\n",
       " '  update: every = 1 steps, delay = 0 steps, check = yes\\n',\n",
       " '  max neighbors/atom: 2000, page size: 100000\\n',\n",
       " '  master list distance cutoff = 7.954144\\n',\n",
       " '  ghost atom cutoff = 7.954144\\n',\n",
       " '  binsize = 3.977072, bins = 2 2 2\\n',\n",
       " '  1 neighbor lists, perpetual/occasional/extra = 1 0 0\\n',\n",
       " '  (1) pair eam/alloy, perpetual\\n',\n",
       " '      attributes: half, newton on\\n',\n",
       " '      pair build: half/bin/atomonly/newton\\n',\n",
       " '      stencil: half/bin/3d\\n',\n",
       " '      bin: standard\\n',\n",
       " 'Per MPI rank memory allocation (min/avg/max) = 3.209 | 3.209 | 3.209 Mbytes\\n',\n",
       " '   Step          Temp          PotEng         TotEng          Pxx            Pxy            Pxz            Pyy            Pyz            Pzz           Volume    \\n',\n",
       " '         0                  1000    -13.4486826111902    -13.0609021761902     7761.54438456981    -7443.22978534658    -866.826476810958       12240.52852859     2194.16099255061     2119.09672807244            66.430125\\n',\n",
       " '       100        103.0030496835     -13.109855097897    -13.0699125304844    -1804.72762979718     21058.7854387896     1208.46784815604    -7271.46175317633    -6072.03223020324    -2951.66517956686     69.3216034371247\\n',\n",
       " '       200      578.272466008625    -13.2331159875497    -13.0088732391324     3924.89980958736     15591.2457976419    -815.938552191292     2315.65920423937     394.496043868133    -11937.2129195577     68.4070532175564\\n',\n",
       " '       300       823.29574395045     -13.148171301274    -12.8289133195512     14024.8693237779    -7549.42144537646     10966.4880817264     11703.0858787628    -5140.22041240822      24908.826915135     67.8171479951514\\n',\n",
       " '       400      553.203661608828    -13.0935314358175    -12.8790098792752    -22177.5857698674      21883.575041918     5132.88369585519    -25432.3781646531    -1050.56618879255    -37005.5166909949     71.6587161532967\\n',\n",
       " '       500      427.306939985257    -13.2848528540675    -13.1191515830015     22828.5732713947     9305.67861645372     3707.68561094441     14805.6702055021    -1533.95526131727     18390.0177479807     66.5651770044159\\n',\n",
       " '       600       328.76338335946    -13.3094231396723    -13.1819351318611     14146.0124851326    -5843.94848633265     10797.9751650074     7848.23976233311     1292.75262122405     13002.8694345655     66.8231007650026\\n',\n",
       " '       700      337.284046345087    -13.2527837757993    -13.1219916215891    -31872.2230725053      12393.899671946    -44.0091326028838    -32415.9277107274    -1158.70082854911    -34431.0158436043      70.558450154569\\n',\n",
       " '       800      555.280908390236    -13.2470005925373    -13.0316735203346     48792.9831032963    -7455.83622272002     14024.9829449163      33988.410413054     1166.37531040258     36370.3309275476     65.4862253469883\\n',\n",
       " '       900      570.919829619285    -13.2616987589216    -13.0403072190417    -21505.9946982455      4416.7888680851     10279.0366482867    -26661.3455556837      3734.3962561321    -17739.8314374978     69.7145675920138\\n',\n",
       " '      1000      734.297568742469    -13.3094896524895    -13.0247434218631    -23754.9265422006     3453.81529302137    -6284.14338490015    -30194.6290891964     446.686031563738    -29195.6371864583     69.8521438598894\\n',\n",
       " '      1100      340.046402366387    -13.1275747067968     -12.995711364967     57266.9789132331    -286.074314233097     21711.2826532592     44791.3558733091      9047.0087347003     53327.3588869035     65.3931365788181\\n',\n",
       " '      1200      427.676935852873    -13.2622318094366    -13.0963870612121    -39129.0505773605     652.420814560712     546.717474370848    -38510.5948153964     1555.61728370378    -41605.9455561117     71.1105143894563\\n',\n",
       " '      1300      391.009232850302    -13.3982172998528    -13.2465915694491     7976.60860125527    -2425.22072788292     1832.65779368566      3490.9126815115    -984.337926783541      8552.2361300145     66.5715815962316\\n',\n",
       " '      1400      280.586828103069     -13.349040386894    -13.2402343046369     27587.1396405183     2103.97348561983     6804.68046726412     25202.1493005856     2984.40457230245     26960.4524860385     65.5519083631976\\n',\n",
       " '      1500      537.763983485326    -13.2180054978993     -13.009471146456    -43255.0875059758    -9268.56076855238     588.489248752161    -44365.1341660681    -597.453873276404    -50280.6918483204     72.1239633872076\\n',\n",
       " '      1600       576.62724043622    -13.1486056391749    -12.9250008770457     39862.5968403323     4634.53971002599     10255.3477339751       32354.81203605     8667.14356820617     47249.9565697986     66.1505164244778\\n',\n",
       " '      1700      616.141521343693    -13.2655924893525    -13.0266648621843    -9534.08334343204    -4744.77547873221     5302.88443317363    -8108.05296720946     2439.07761864007    -13999.2542286722     68.8354277906346\\n',\n",
       " '      1800        356.3463835312    -13.2339301419355     -13.095745986319    -35039.4154706528    -9704.40663671182    -1100.13074896044    -38807.4457323913    -501.130988947313    -36334.3631330287     71.0652560853539\\n',\n",
       " '      1900      482.773150678078    -13.2787355073461    -13.0915255249699     65436.8268655576     6990.39211335839    -1503.71450164784     64771.4352794971     7149.06627577936     66173.5133920112     63.5577181765636\\n',\n",
       " '      2000      232.055165363361    -13.2538587714382    -13.1638723184696    -35997.7723862649    -7996.30183110248     2277.72293362684    -37600.8704103018    -512.464634067062      -43651.89575781     71.0087813882624\\n',\n",
       " '      2100      328.779177147971    -13.2705577821125    -13.1430636497791    -13257.2944708902    -6579.23396494553    -6665.50982391293    -13436.2919167029     1526.24404705943    -13156.4935946866     68.8670966580814\\n',\n",
       " '      2200       1188.0353560949    -13.3578353800602    -12.8971385128784     56541.4702918054     10452.8555028319     3128.77583249675     47325.9346932154    -1847.23502881542     43537.2174054414     64.4018694284105\\n',\n",
       " '      2300      282.246792489201    -12.8938506900347    -12.7844009060659    -45352.4236087283    -24921.6738463662    -1790.56512707106     -47432.596323365     961.653510549259    -56663.2620077562     75.9872672643508\\n',\n",
       " '      2400       521.64066404444    -13.1281627244409    -12.9258806808241     15195.4221391763     555.010274760446    -14432.5729445843     9250.98215683047    -1146.41534822687       20319.09988682     67.9825216978335\\n',\n",
       " '      2500      662.490401985117    -13.3169022592838    -13.0600014430187     44071.4555464872    -1713.39603420408     9034.92177076847     39029.4496954358     7306.08144332063     43539.7945938052     64.9023627351105\\n',\n",
       " '      2600      186.656347744701    -13.0998654536906    -13.0274837739666    -61850.9183843971    -8939.36025656624    -7376.67209375197    -66094.3129314916    -2985.73769711782    -67692.8105371862     75.0425343750569\\n',\n",
       " '      2700      425.476448706839    -13.2375959169232    -13.0726044745614     70699.8996178214     10278.6422511876     4223.44829350306     68015.3971166543    -966.981854929207     70670.5443672144     63.5311306973684\\n',\n",
       " '      2800      587.593952283537    -13.2600678647264    -13.0322104263065    -192.614741021808    -10879.7413211206    -2607.49446500028    -7106.18495219973    -1325.15991644195    -9190.86014872671     68.4790908511842\\n',\n",
       " '      2900      500.753123588486    -12.9198241257222    -12.7256418616295    -57971.7063984943    -8119.39661877386    -13879.0716233078    -63837.9140948245    -9276.61391485277    -56666.7143484962     76.7009545463677\\n',\n",
       " '      3000      947.921066378541    -13.0900329216868    -12.7224476782209       79098.32322383     24306.1745143919     15981.5059532062     77986.7420293001     9696.74516128582     68337.2103576793     64.3473226417249\\n',\n",
       " '      3100      64.5628383326572    -13.0528691084905     -13.027832902957    -2580.21605190867    -14295.5005523469    -23399.2519659814    -7657.00678070876    -17385.8264761951    -7519.90138079806     69.9096796814459\\n',\n",
       " '      3200      255.811086749332    -13.0860505837423    -12.9868520492448    -31207.4440680272     11414.6309116869     7045.79273827747     -32362.902590123     1499.85797730724    -39316.6036701584     72.1826016350208\\n',\n",
       " '      3300      780.603160137857    -13.2337510966243    -12.9310484636236     67268.6200934094    -9889.89420849252     1553.34847483441     60333.6054854606     1499.51047541407     68549.7133454558     63.9772955544125\\n',\n",
       " '      3400      321.406002532349    -13.1644657037401    -13.0398307442665    -33964.7936676111    -833.733506440548    -11036.1466128515    -35217.6847583595    -11742.2267923523    -31799.6903047242      71.387775560403\\n',\n",
       " '      3500      159.866555557415    -13.1795404574898    -13.1175473350338     2671.48699348156     6454.35544930848     16180.2333678146    -6528.34132421664     6801.29303389651    -6233.13429494326     68.7643311160485\\n',\n",
       " '      3600      500.770622276058    -13.2630082103019    -13.0688191605605     43695.4227243432    -14928.1471568846    -9275.90675715012     40225.7693234453     -5006.9737581304     46014.0675250189     65.1187722819584\\n',\n",
       " '      3700      538.699874341294    -13.2051604206467    -12.9962631490401    -34814.4363736794     9464.98180920829     8014.51176269045    -41263.6569722835     -261.99763265611    -42186.4548129754     71.6411236962387\\n',\n",
       " '      3800      818.899340010201    -13.1343783345624    -12.8168251922721     28119.8250871307    -8705.73113983595     15319.7465067281     14835.0237792911     7947.54715636078     6543.64524068176      67.961809757671\\n',\n",
       " '      3900      768.585580069309    -13.2017244483189    -12.9036819977449     2313.72488515165    -9946.47134522339    -6267.51839242474    -2407.23283814858    -1854.42438875852    -4510.34013727638     68.7110985526515\\n',\n",
       " '      4000       450.56733042277    -13.2846343505914    -13.1099131552032    -21971.2460452564     6536.12615297172      5461.2423888484    -28416.1078123262     1339.37551339896    -27153.4221986719     69.7815245085151\\n',\n",
       " '      4100      329.740595080252    -13.2429795142741    -13.1151125628768     45516.3154574535    -16433.3106052497    -1436.34867774087     41695.3804322457    -2332.84911304168     28911.4592446062     65.4823444287907\\n',\n",
       " '      4200      495.243121284996    -13.2889871415411    -13.0969415485384    -22268.6970012102    -2709.17425180542     289.611311065123    -28165.0773626592     641.566353439282    -18077.4318603026     69.5247727868896\\n',\n",
       " '      4300      870.769167064579    -13.3109644223875    -12.9732971759986    -6744.91367289478    -2422.10818784725     2919.89491441028    -8055.53111803693    -169.732153130172    -21572.0003151196     68.7088607556279\\n',\n",
       " '      4400      259.363393583563    -12.8460252540245    -12.7454492044376     53799.9510425588    -44560.9868156982    -16392.0742106249      41037.636156723    -3369.86361201336     32685.3571037668     67.8756470171064\\n',\n",
       " '      4500      994.974439524292    -13.2365034243023    -12.8506718033296    -49708.7296619205     5174.18928612109    -598.487802885688    -46606.0303797371     1218.89629537245     -50038.794033071     72.4270213568606\\n',\n",
       " '      4600      473.885393087558    -13.3221290190144    -13.1383655351428      22580.976984266    -9849.53292738116      1768.9736593178     21169.6793296128    -40.4921885146607     16019.6831112951     66.2385160873251\\n',\n",
       " '      4700      317.573789567992    -13.3052361343498    -13.1820872320865     16788.9477922686    -6970.05776637992    -6573.14757513022     17237.8806050339    -2035.35364217484     7210.15603237074     66.7083830890428\\n',\n",
       " '      4800      538.281581361878    -13.2952509588061    -13.0865158930331    -41497.8553254271     1836.17917068006     9674.43420738826    -46242.6891829174      2962.9609213915    -42318.2448027726     71.1413810923109\\n',\n",
       " '      4900      474.812697034718    -13.0616429376508    -12.8775198634511     58840.0942523949    -33784.1800344315    -18289.5932100335     61377.7386453171    -10160.0486454326     41487.3066929403     65.6999820727354\\n',\n",
       " '      5000      661.721340657141    -13.1693674814771    -12.9127648921483    -14301.4422882628     735.161359890237     13208.3009974528    -24969.6775231372     3506.83091824627    -33077.1628158226     70.7429998648645\\n',\n",
       " '      5100      503.861165628192    -13.1925351809322    -12.9971476789453    -18575.1748146377    -306.132729294083     4061.59357717085    -18806.6366851942    -8509.58928278373    -22402.5305965097     70.1034926806278\\n',\n",
       " '      5200      674.423777242102    -13.2713241083222    -13.0097957626089     51867.7982405703    -19140.1374330707    -5619.06200441955     44160.1177784482     1017.06220485292     36141.7256361918     65.0756832810451\\n',\n",
       " '      5300      356.308348102014    -13.1823297538589    -13.0441603476378    -29649.2628888195     8308.84640518142     16006.6754424022    -37207.5206752933    -4653.66405379836    -32327.1256038113     71.2190020579016\\n',\n",
       " '      5400      252.702873744563    -13.1551555053765    -13.0571622750701     20804.3332917153     -17473.196650341    -5862.10472199995     16386.8433735566    -5957.52384201256     6855.72843978533     67.6723174409874\\n',\n",
       " '      5500      660.536156072673    -13.2871764925372    -13.0310334946022     25873.7171179838     5489.04298962049     4836.10208343753     16801.2312461379     409.867854913609     15494.0837152577     66.5915945284994\\n',\n",
       " '      5600      343.360119533937    -13.1834070295345    -13.0502586930199    -36935.3839011751    -809.264699004792      8232.0241723419    -39326.4870386392    -8347.15206104462    -36527.3030900394     71.5824626761826\\n',\n",
       " '      5700      253.718664363883    -13.2492654420296    -13.1508783079949     42961.3054422172    -10037.2153604491    -9453.30174630994     41458.9803831267     2080.23548810363     33152.6236384416      65.385651031871\\n',\n",
       " '      5800      280.735341231105    -13.3114533396623    -13.2025896669198    -1558.05189010979      11075.570164152     6698.35378077947    -2520.19785835774     -4647.6279187831    -2704.58861942359     67.7380350641131\\n',\n",
       " '      5900       305.41310778572    -13.2191593882813    -13.1007261604895    -22602.6610458799    -12050.0878984622     147.746676986168    -25608.2107188479    -3129.56540001733    -28106.2388949914     70.2134222709239\\n',\n",
       " '      6000       743.24184560932    -13.1863618547616     -12.898147208561     47566.2086846777     13562.5227588049    -5314.30254532762     50466.8794795525     5344.99482738023     31237.8709740587      65.745283598245\\n',\n",
       " '      6100      541.050315720003    -13.1405201249303    -12.9307113981435    -25606.6005894098     11137.3834941408     11774.5097734548    -32813.8248764203    -6946.07602074244    -28214.3566675568     71.3172054057234\\n',\n",
       " '      6200      508.412437116629    -13.2347252698551    -13.0375728738306    -1317.24095909214    -16950.0601597019    -8581.52224747579    -5499.30896251159     933.875972366758    -13508.3376116619     68.7374020841671\\n',\n",
       " '      6300      127.930280313119    -13.2438312025492    -13.1942223427997     44558.7854167013     15447.4701227015     7332.08880833057     40764.7555898808      -359.9905023486     33109.5466311464     65.3443765326067\\n',\n",
       " '      6400      235.082230676489    -13.3553240011604    -13.2641637114879    -36362.8414192494    -510.419570127913    -1588.26739480931    -37785.7594402595     -84.856921177908    -36694.3325850226     69.9496323832948\\n',\n",
       " '      6500      323.397326120324     -13.360860950405    -13.2354537946043      30077.992845747     1296.16058386447     1393.08660549644     25844.8311930568     328.476588982965     21170.6044810752     65.5447700941779\\n',\n",
       " '      6600      272.639162074149    -13.2589695063739    -13.1532453735067     7950.69703096848     15731.5013621427     4014.28559984912     3342.40224416079    -1411.21439855724    -4683.38979893923     67.7947193162038\\n',\n",
       " '      6700      719.928351111857    -13.3058624263713    -13.0266882972084    -33705.1818133736    -6206.97562812208    -2663.52861643208     -40033.753936334    -2670.38623593613    -36400.2449292576     70.5976776940982\\n',\n",
       " '      6800       436.37089769526    -13.1225954795378    -12.9533793830082     55124.3611634034     28584.8866236769     7988.46558067606     44150.5885011897     341.814950936114     31844.3725667512     65.9745788747918\\n',\n",
       " '      6900       456.20625253862    -13.2009939120223    -13.0240860529631    -15884.7298458532     8716.43868173498     2831.58659854551    -20907.1891123716    -4982.83491163826    -23797.9284129952     70.0407251871895\\n',\n",
       " '      7000      436.122501072992    -13.3682049528725    -13.1990851796932    -13547.9184978611    -1745.19948809019    -4386.32166971912    -19332.3026260587      2334.7432823108    -19310.4808932623     68.4663204561304\\n',\n",
       " '      7100      84.4783974293146    -13.2822021434608    -13.2494430737576     49192.2335494116      12814.931791079     1647.97195575835     46620.8307784815    -987.464211888525     44089.1830765081     64.6058943306153\\n',\n",
       " '      7200      355.153567998185    -13.3413670513793    -13.2036454462892    -37647.8500043667    -3666.93199828384    -502.180969034984    -37965.7342048002    -732.677283777283    -43225.6662442285      70.338857067577\\n',\n",
       " '      7300      349.005882206899    -13.2760464703352    -13.1407088175155     20596.4980646929     12227.0644861234    -7873.86145371952     13382.6359380828      5470.6468620236     16762.3414658606     66.7016606071329\\n',\n",
       " '      7400      480.069211047224    -13.2706524988413    -13.0844910513513     15592.7418741097     6932.10076739414      4571.7362626325     18810.2878875467    -4244.28126062535    -328.941179036904     67.1783889085521\\n',\n",
       " '      7500      500.627138964168    -13.1857346029192    -12.9916011931989    -29772.8498200797     -3387.6121283436     -15389.180583857    -37656.2721976398     8642.81663488842    -29643.6691079968     71.1914809560529\\n',\n",
       " '      7600      667.764388261732    -13.1392314593765    -12.8802854944188     41855.2225527982     27338.8437453091    -4164.77409043748     43114.7320607082      3015.6568247583     27112.5845966533     66.3836051785229\\n',\n",
       " '      7700      641.651083793966    -13.1462278101552    -12.8974080737634    -7782.37284224602    -10064.6079106302    -7091.86260133939     -10615.632614048     4693.14909102891    -23993.3879871632     70.1082363613419\\n',\n",
       " '      7800      317.681498503774    -13.2221251913175    -13.0989345216363    -22334.6353111651     3918.69063377576     -13015.021861205    -25604.7790050423     5892.63411410383    -25353.4740154517     70.1031312164425\\n',\n",
       " '      7900      457.565672564622    -13.3146402995072     -13.137205283959     57132.9169331064     976.046353291272     4634.82503740838     52637.4250975839     -230.17242348323     45733.4024939891     64.2019121682163\\n',\n",
       " '      8000      250.107147890691    -13.2422755940116    -13.1452889354059    -32046.2696299875    -7177.30581614953    -8777.35109266897    -34486.6939919874     2349.27330561764     -33767.158069194     70.6455968980156\\n',\n",
       " '      8100      436.373000943575    -13.1332906045776    -12.9640736924495     22607.3729752915     18389.1683774067    -11857.2208188205     12146.2757110417     2944.73321395812      1386.8338921125     68.0916400600768\\n',\n",
       " '      8200       642.31401265159    -13.1325310678386     -12.883454260606     29546.5250299889    -32554.9961078486     3369.35724204772     25303.0819360644    -4656.63059746153     7992.22068883954     67.5270459498194\\n',\n",
       " '      8300      421.167519843093    -13.1294497385256     -12.966129214473    -31563.0176594161     6014.86052135867    -19923.2893984104    -42174.2111450792     2665.31301698793    -33604.0363784958      71.974779595104\\n',\n",
       " '      8400      583.663928744834     -13.292615150751    -13.0662816985685     41925.7704129475     5601.28380738261     4374.16971124943     37331.8887212509      -1867.175623962     24923.6366786737     65.5206731569647\\n',\n",
       " '      8500      187.880203931949    -13.2554976120792    -13.1826413448706     846.262759952977    -14566.4246679505    -7075.41209652757    -2322.57795168997    -1665.61919724877    -9600.72137941124     68.2059196136031\\n',\n",
       " '      8600      217.074261823951    -13.3574644918093    -13.2732873401319     -30558.165019844     5424.90217320214    -1045.06894950205    -29945.2048402733     812.951792146108    -31937.5621381987     69.4481569371099\\n',\n",
       " '      8700      144.232568870956    -13.3241651913805    -13.2682346230826      58638.530491174    -7467.80196867389     849.328039530448     55415.1703356118    -492.032228790752     50034.7833684622     63.8171903350976\\n',\n",
       " '      8800      257.871590436952    -13.2896640807383    -13.1896665232245    -28977.5382118035    -4782.41867214447    -6449.38874445985    -30971.3490018523    -96.0680338120583    -32916.9096251302     70.0425825044928\\n',\n",
       " '      8900      589.801077611044     -13.344165376873    -13.1154520584335    -7617.20977470216     5717.24708023081     5065.92542376983    -7479.25959468348    -430.673582657648    -18158.3525471888     68.2606157181765\\n',\n",
       " '      9000      104.665886666879    -13.0582921284012    -13.0177047453399     56778.6857725377     -35572.870639168    -3382.96954597727     50482.5298875852    -4151.67376755655     33990.9533802368     66.0410388739431\\n',\n",
       " '      9100      850.505074699429    -13.2670394627863    -12.9372302349496    -46835.9211744499     1078.50449204993     2451.37795513578    -42858.5619724065     2293.68843827858    -51606.2952818146     71.8881322493752\\n',\n",
       " '      9200      859.543476781464    -13.2523586292349    -12.9190444859072     12084.0301267411     -10224.656577488    -10283.8749613097     17797.3546317972    -7410.34904692521     3319.10541617686      67.472406091612\\n',\n",
       " '      9300      352.968564503453    -13.1885290920741    -13.0516547885897     17421.8848552411    -21655.8227628865     2607.34494010696     15789.1890506318     1362.82863638518    -2767.17702712867      67.778267978349\\n',\n",
       " '      9400      353.727569298649    -13.3152739097417    -13.1781052790476    -27960.0042663403     3438.24993154458    -7076.55832545513    -31324.7847490254    -961.682494766776    -29416.8329684291     69.7600437387618\\n',\n",
       " '      9500      365.423669242207    -13.3063558082665    -13.1646516588484     41269.4862361558    -13015.5271653273     1779.43196272642     42604.0991518146    -1273.99543865492     33658.1135380651     65.0463929278141\\n',\n",
       " '      9600      397.091834072538    -13.2115344635572    -13.0575500194056    -5722.84770338908    -1001.40842526478     -5997.2483534444    -14298.8723990314     1626.77651660592    -26225.4938434343     69.5444811451535\\n',\n",
       " '      9700       732.13852563342    -13.1146691966803    -12.8307602007299    -8731.40278898644     5572.48865209146    -16078.5027340061    -15517.5369239532    -3812.99227921827    -11872.0295279261     70.2017379224553\\n',\n",
       " '      9800      763.295340332739    -13.1977165554577      -12.90172555635     28672.9366001705    -22932.7394646929     8751.91314329319     22199.3938008686     1341.78932061207     3000.61176839324     67.3353415514048\\n',\n",
       " '      9900      466.681147122796    -13.2603094513755    -13.0793396331379     -9841.4144319997     7364.24417436283    -11731.9782227016    -20996.9013187648    -763.913301021822    -21694.1749303937     69.3313421576828\\n',\n",
       " '     10000      290.164213805657    -13.2576687985084    -13.1451487934574     10761.6483387697    -7767.37474705951    -6254.81977232898     10370.1708299743      4030.8735670637     5940.27300624424     67.3544707649986\\n',\n",
       " 'Loop time of 0.0539663 on 1 procs for 10000 steps with 4 atoms\\n',\n",
       " '\\n',\n",
       " 'Performance: 16009.994 ns/day, 0.001 hours/ns, 185300.854 timesteps/s, 741.203 katom-step/s\\n',\n",
       " '98.8% CPU use with 1 MPI tasks x 1 OpenMP threads\\n',\n",
       " '\\n',\n",
       " 'MPI task timing breakdown:\\n',\n",
       " 'Section |  min time  |  avg time  |  max time  |%varavg| %total\\n',\n",
       " '---------------------------------------------------------------\\n',\n",
       " 'Pair    | 0.031634   | 0.031634   | 0.031634   |   0.0 | 58.62\\n',\n",
       " 'Neigh   | 0          | 0          | 0          |   0.0 |  0.00\\n',\n",
       " 'Comm    | 0.0076124  | 0.0076124  | 0.0076124  |   0.0 | 14.11\\n',\n",
       " 'Output  | 0.0023718  | 0.0023718  | 0.0023718  |   0.0 |  4.39\\n',\n",
       " 'Modify  | 0.01059    | 0.01059    | 0.01059    |   0.0 | 19.62\\n',\n",
       " 'Other   |            | 0.001758   |            |       |  3.26\\n',\n",
       " '\\n',\n",
       " 'Nlocal:              4 ave           4 max           4 min\\n',\n",
       " 'Histogram: 1 0 0 0 0 0 0 0 0 0\\n',\n",
       " 'Nghost:            360 ave         360 max         360 min\\n',\n",
       " 'Histogram: 1 0 0 0 0 0 0 0 0 0\\n',\n",
       " 'Neighs:            268 ave         268 max         268 min\\n',\n",
       " 'Histogram: 1 0 0 0 0 0 0 0 0 0\\n',\n",
       " '\\n',\n",
       " 'Total # of neighbors = 268\\n',\n",
       " 'Ave neighs/atom = 67\\n',\n",
       " 'Neighbor list builds = 0\\n',\n",
       " 'Dangerous builds = 0\\n',\n",
       " 'Total wall time: 0:00:00\\n']"
      ]
     },
     "execution_count": 38,
     "metadata": {},
     "output_type": "execute_result"
    }
   ],
   "source": [
    "lmp[\"log.lammps\"]"
   ]
  },
  {
   "cell_type": "markdown",
   "id": "f522de6e-9320-41fc-bd72-71cd3ceb49b8",
   "metadata": {},
   "source": [
    "# Publish your results"
   ]
  },
  {
   "cell_type": "markdown",
   "id": "07ab686e-47e5-4e66-bf5e-79021619052c",
   "metadata": {},
   "source": [
    "To support users in publishing their simulation protocols and the results derived from corresponding calculation pyiron provides a `list_publications()` function to list all publication involved in creating the simulation protocol. In this particular case these are four publication: \n",
    "\n",
    "* the pyiron paper, as pyiron was used to develop the simulation protocol.\n",
    "* the ASE paper, as ASE was used to create the atomistic structure.\n",
    "* the LAMMPS paper, as LAMMPS was used to execute the calculation.\n",
    "* the paper for the interatomic potential which defines the interaction between the atoms."
   ]
  },
  {
   "cell_type": "code",
   "execution_count": 39,
   "id": "5a327e38-61d8-40d4-948b-407e26426a57",
   "metadata": {},
   "outputs": [
    {
     "data": {
      "text/html": [
       "<div>\n",
       "<style scoped>\n",
       "    .dataframe tbody tr th:only-of-type {\n",
       "        vertical-align: middle;\n",
       "    }\n",
       "\n",
       "    .dataframe tbody tr th {\n",
       "        vertical-align: top;\n",
       "    }\n",
       "\n",
       "    .dataframe thead th {\n",
       "        text-align: right;\n",
       "    }\n",
       "</style>\n",
       "<table border=\"1\" class=\"dataframe\">\n",
       "  <thead>\n",
       "    <tr style=\"text-align: right;\">\n",
       "      <th></th>\n",
       "      <th>author</th>\n",
       "      <th>title</th>\n",
       "      <th>journal</th>\n",
       "      <th>volume</th>\n",
       "      <th>pages</th>\n",
       "      <th>issn</th>\n",
       "      <th>doi</th>\n",
       "      <th>url</th>\n",
       "      <th>year</th>\n",
       "      <th>number</th>\n",
       "      <th>publisher</th>\n",
       "    </tr>\n",
       "  </thead>\n",
       "  <tbody>\n",
       "    <tr>\n",
       "      <th>0</th>\n",
       "      <td>[Jan Janssen, Sudarsan Surendralal, Yury Lysogorskiy, Mira Todorova, Tilmann Hickel, Ralf Drautz, Jörg Neugebauer]</td>\n",
       "      <td>pyiron: An integrated development environment for computational materials science</td>\n",
       "      <td>Computational Materials Science</td>\n",
       "      <td>161</td>\n",
       "      <td>24 - 36</td>\n",
       "      <td>0927-0256</td>\n",
       "      <td>https://doi.org/10.1016/j.commatsci.2018.07.043</td>\n",
       "      <td>http://www.sciencedirect.com/science/article/pii/S0927025618304786</td>\n",
       "      <td>2019</td>\n",
       "      <td>NaN</td>\n",
       "      <td>NaN</td>\n",
       "    </tr>\n",
       "    <tr>\n",
       "      <th>1</th>\n",
       "      <td>[Ask Hjorth Larsen, Jens Jørgen Mortensen, Jakob Blomqvist, Ivano E Castelli, Rune Christensen, Marcin Dułak, Jesper Friis, Michael N Groves, Bjørk Hammer, Cory Hargus, Eric D Hermes, Paul C Jenni...</td>\n",
       "      <td>The atomic simulation environment—a Python library for working with atoms</td>\n",
       "      <td>Journal of Physics: Condensed Matter</td>\n",
       "      <td>29</td>\n",
       "      <td>273002</td>\n",
       "      <td>NaN</td>\n",
       "      <td>NaN</td>\n",
       "      <td>http://stacks.iop.org/0953-8984/29/i=27/a=273002</td>\n",
       "      <td>2017</td>\n",
       "      <td>27</td>\n",
       "      <td>NaN</td>\n",
       "    </tr>\n",
       "    <tr>\n",
       "      <th>2</th>\n",
       "      <td>[Steve Plimpton]</td>\n",
       "      <td>Fast Parallel Algorithms for Short-Range Molecular Dynamics</td>\n",
       "      <td>Journal of Computational Physics</td>\n",
       "      <td>117</td>\n",
       "      <td>1-19</td>\n",
       "      <td>0021-9991</td>\n",
       "      <td>10.1006/jcph.1995.1039</td>\n",
       "      <td>http://www.sciencedirect.com/science/article/pii/S002199918571039X</td>\n",
       "      <td>1995</td>\n",
       "      <td>1</td>\n",
       "      <td>NaN</td>\n",
       "    </tr>\n",
       "    <tr>\n",
       "      <th>3</th>\n",
       "      <td>[Y. Mishin, M. J. Mehl, D. A. Papaconstantopoulos]</td>\n",
       "      <td>Embedded-atom potential for B2-NiAl</td>\n",
       "      <td>Physical Review B</td>\n",
       "      <td>65</td>\n",
       "      <td>224114</td>\n",
       "      <td>NaN</td>\n",
       "      <td>10.1103/physrevb.65.224114</td>\n",
       "      <td>https://doi.org/10.1103%2Fphysrevb.65.224114</td>\n",
       "      <td>2002</td>\n",
       "      <td>22</td>\n",
       "      <td>American Physical Society (APS)</td>\n",
       "    </tr>\n",
       "  </tbody>\n",
       "</table>\n",
       "</div>"
      ],
      "text/plain": [
       "                                                                                                                                                                                                    author  \\\n",
       "0                                                                                       [Jan Janssen, Sudarsan Surendralal, Yury Lysogorskiy, Mira Todorova, Tilmann Hickel, Ralf Drautz, Jörg Neugebauer]   \n",
       "1  [Ask Hjorth Larsen, Jens Jørgen Mortensen, Jakob Blomqvist, Ivano E Castelli, Rune Christensen, Marcin Dułak, Jesper Friis, Michael N Groves, Bjørk Hammer, Cory Hargus, Eric D Hermes, Paul C Jenni...   \n",
       "2                                                                                                                                                                                         [Steve Plimpton]   \n",
       "3                                                                                                                                                       [Y. Mishin, M. J. Mehl, D. A. Papaconstantopoulos]   \n",
       "\n",
       "                                                                               title  \\\n",
       "0  pyiron: An integrated development environment for computational materials science   \n",
       "1          The atomic simulation environment—a Python library for working with atoms   \n",
       "2                        Fast Parallel Algorithms for Short-Range Molecular Dynamics   \n",
       "3                                                Embedded-atom potential for B2-NiAl   \n",
       "\n",
       "                                journal volume    pages       issn  \\\n",
       "0       Computational Materials Science    161  24 - 36  0927-0256   \n",
       "1  Journal of Physics: Condensed Matter     29   273002        NaN   \n",
       "2      Journal of Computational Physics    117     1-19  0021-9991   \n",
       "3                     Physical Review B     65   224114        NaN   \n",
       "\n",
       "                                               doi  \\\n",
       "0  https://doi.org/10.1016/j.commatsci.2018.07.043   \n",
       "1                                              NaN   \n",
       "2                           10.1006/jcph.1995.1039   \n",
       "3                       10.1103/physrevb.65.224114   \n",
       "\n",
       "                                                                  url  year  \\\n",
       "0  http://www.sciencedirect.com/science/article/pii/S0927025618304786  2019   \n",
       "1                    http://stacks.iop.org/0953-8984/29/i=27/a=273002  2017   \n",
       "2  http://www.sciencedirect.com/science/article/pii/S002199918571039X  1995   \n",
       "3                        https://doi.org/10.1103%2Fphysrevb.65.224114  2002   \n",
       "\n",
       "  number                        publisher  \n",
       "0    NaN                              NaN  \n",
       "1     27                              NaN  \n",
       "2      1                              NaN  \n",
       "3     22  American Physical Society (APS)  "
      ]
     },
     "execution_count": 39,
     "metadata": {},
     "output_type": "execute_result"
    }
   ],
   "source": [
    "pr.list_publications()"
   ]
  },
  {
   "cell_type": "markdown",
   "id": "e38b84c8-f11e-419c-8d3f-3bc669585977",
   "metadata": {},
   "source": [
    "# Summary"
   ]
  },
  {
   "cell_type": "markdown",
   "id": "edd5f633-ebd2-41f2-a44e-dc007886636c",
   "metadata": {},
   "source": [
    "In this first pyiron LAMMPS tutorial you learned about the three most fundamental objects in an atomistic simulation with pyiron, namely the project object, the atomistic structure object and the LAMMPS job object. You also learned how to create both structure objects and LAMMPS job objects from the project object and finally the tutorial demonstrated the basic settings to setup, run and analyse your LAMMPS simulation. "
   ]
  },
  {
   "cell_type": "code",
   "execution_count": null,
   "id": "98d1b9ad-1d58-4f13-830f-12854afeddab",
   "metadata": {},
   "outputs": [],
   "source": []
  }
 ],
 "metadata": {
  "kernelspec": {
   "display_name": "Python 3 (ipykernel)",
   "language": "python",
   "name": "python3"
  },
  "language_info": {
   "codemirror_mode": {
    "name": "ipython",
    "version": 3
   },
   "file_extension": ".py",
   "mimetype": "text/x-python",
   "name": "python",
   "nbconvert_exporter": "python",
   "pygments_lexer": "ipython3",
   "version": "3.12.10"
  }
 },
 "nbformat": 4,
 "nbformat_minor": 5
}
