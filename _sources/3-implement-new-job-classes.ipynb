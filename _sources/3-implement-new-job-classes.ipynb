{
 "cells": [
  {
   "cell_type": "code",
   "execution_count": 1,
   "id": "2b962977-29e2-43e7-9aaa-ef5542837d54",
   "metadata": {},
   "outputs": [],
   "source": [
    "%config IPCompleter.evaluation='unsafe'"
   ]
  },
  {
   "cell_type": "markdown",
   "id": "958d958d-6e80-4a9b-95ea-201f02b85156",
   "metadata": {},
   "source": [
    "# GenericJob class\n",
    "Already discussed in the initial pyiron paper in Appendix C, the code is slightly update to be compatible with the recent version of `pyiron_base`. The two main parts are the `write_input()` function and the `collect_output()` function. "
   ]
  },
  {
   "cell_type": "code",
   "execution_count": 2,
   "id": "bb0fac53-cdbd-4286-9830-13bacd6c3747",
   "metadata": {},
   "outputs": [],
   "source": [
    "import os\n",
    "from pyiron_base import GenericJob, GenericParameters"
   ]
  },
  {
   "cell_type": "code",
   "execution_count": 3,
   "id": "1f2db9a8-91e0-4080-bcab-79203432fde6",
   "metadata": {},
   "outputs": [],
   "source": [
    "class ToyJob(GenericJob):\n",
    "    def __init__(self, project, job_name):\n",
    "        super(ToyJob, self).__init__(project, job_name)\n",
    "        self.input = ToyInput()\n",
    "        self.executable = \"cat input > output\"\n",
    "\n",
    "    def write_input(self):\n",
    "        self.input.write_file(\n",
    "            file_name=\"input\",\n",
    "            cwd=self.working_directory,\n",
    "        )\n",
    "\n",
    "    def collect_output(self):\n",
    "        file = os.path.join(self.working_directory, \"output\")\n",
    "        with open(file) as f:\n",
    "            line = f.readlines()[0]\n",
    "            energy = float(line.split()[1])\n",
    "        with self.project_hdf5.open(\"output/generic\") as h5out:\n",
    "            h5out[\"energy_tot\"] = energy\n",
    "\n",
    "    def to_hdf(self, hdf=None, group_name=None):\n",
    "        super(ToyJob, self).to_hdf(\n",
    "            hdf=hdf,\n",
    "            group_name=group_name\n",
    "        )\n",
    "        with self.project_hdf5.open(\"input\") as h5in:\n",
    "            self.input.to_hdf(h5in)\n",
    "\n",
    "    def from_hdf(self, hdf=None, group_name=None):\n",
    "        super(ToyJob, self).from_hdf(\n",
    "            hdf=hdf,\n",
    "            group_name=group_name,\n",
    "        )\n",
    "        with self.project_hdf5.open(\"input\") as h5in:\n",
    "            self.input.from_hdf(h5in)"
   ]
  },
  {
   "cell_type": "code",
   "execution_count": 4,
   "id": "0ae3d263-003a-498f-83f8-b0f18d167fde",
   "metadata": {},
   "outputs": [],
   "source": [
    "class ToyInput(GenericParameters):\n",
    "    def __init__(self, input_file_name=None):\n",
    "        super(ToyInput, self).__init__(\n",
    "            input_file_name=input_file_name,\n",
    "            table_name=\"input\"\n",
    "        )\n",
    "    \n",
    "    def load_default(self):\n",
    "        self.load_string(\"input_energy 100\")"
   ]
  },
  {
   "cell_type": "markdown",
   "id": "4c2fcead-b19b-459b-8f3b-3d9e079ea9e9",
   "metadata": {},
   "source": [
    "Use the newly created job in a project "
   ]
  },
  {
   "cell_type": "code",
   "execution_count": 5,
   "id": "f9437343-005a-45f5-8b58-33012afd944c",
   "metadata": {},
   "outputs": [],
   "source": [
    "from pyiron_base import Project"
   ]
  },
  {
   "cell_type": "code",
   "execution_count": 6,
   "id": "5ca67e1c-5bd0-4de8-8279-4320cdaf4a04",
   "metadata": {},
   "outputs": [],
   "source": [
    "pr = Project('test')"
   ]
  },
  {
   "cell_type": "code",
   "execution_count": 7,
   "id": "6f64d389-561c-45b5-a8e5-cd1763a4dcbf",
   "metadata": {},
   "outputs": [
    {
     "data": {
      "application/vnd.jupyter.widget-view+json": {
       "model_id": "be47f302b9084aba843bb9604ab3183c",
       "version_major": 2,
       "version_minor": 0
      },
      "text/plain": [
       "  0%|          | 0/1 [00:00<?, ?it/s]"
      ]
     },
     "metadata": {},
     "output_type": "display_data"
    }
   ],
   "source": [
    "pr.remove_jobs(recursive=True, silently=True)"
   ]
  },
  {
   "cell_type": "code",
   "execution_count": 8,
   "id": "3694b18a-c947-46fd-b921-349d01e31618",
   "metadata": {},
   "outputs": [],
   "source": [
    "job = pr.create_job(ToyJob, job_name=\"toy\")"
   ]
  },
  {
   "cell_type": "code",
   "execution_count": 9,
   "id": "f530a876-d92d-44ca-86ef-4e4eff7fbdab",
   "metadata": {},
   "outputs": [
    {
     "data": {
      "text/html": [
       "<div>\n",
       "<style scoped>\n",
       "    .dataframe tbody tr th:only-of-type {\n",
       "        vertical-align: middle;\n",
       "    }\n",
       "\n",
       "    .dataframe tbody tr th {\n",
       "        vertical-align: top;\n",
       "    }\n",
       "\n",
       "    .dataframe thead th {\n",
       "        text-align: right;\n",
       "    }\n",
       "</style>\n",
       "<table border=\"1\" class=\"dataframe\">\n",
       "  <thead>\n",
       "    <tr style=\"text-align: right;\">\n",
       "      <th></th>\n",
       "      <th>Parameter</th>\n",
       "      <th>Value</th>\n",
       "      <th>Comment</th>\n",
       "    </tr>\n",
       "  </thead>\n",
       "  <tbody>\n",
       "    <tr>\n",
       "      <th>0</th>\n",
       "      <td>input_energy</td>\n",
       "      <td>100</td>\n",
       "      <td></td>\n",
       "    </tr>\n",
       "  </tbody>\n",
       "</table>\n",
       "</div>"
      ],
      "text/plain": [
       "      Parameter Value Comment\n",
       "0  input_energy   100        "
      ]
     },
     "execution_count": 9,
     "metadata": {},
     "output_type": "execute_result"
    }
   ],
   "source": [
    "job.input"
   ]
  },
  {
   "cell_type": "code",
   "execution_count": 10,
   "id": "55e02cce-7350-43ed-adc0-89ff075906b8",
   "metadata": {},
   "outputs": [
    {
     "name": "stdout",
     "output_type": "stream",
     "text": [
      "The job toy was saved and received the ID: 157\n"
     ]
    }
   ],
   "source": [
    "job.run()"
   ]
  },
  {
   "cell_type": "code",
   "execution_count": 11,
   "id": "e7447dc9-662f-4564-bb74-070748eb2eea",
   "metadata": {},
   "outputs": [
    {
     "data": {
      "text/plain": [
       "100.0"
      ]
     },
     "execution_count": 11,
     "metadata": {},
     "output_type": "execute_result"
    }
   ],
   "source": [
    "job.content['output/generic/energy_tot']"
   ]
  },
  {
   "cell_type": "markdown",
   "id": "b93d7926-b8d2-44c0-aa47-4dc59cfc84eb",
   "metadata": {},
   "source": [
    "# Template Job"
   ]
  },
  {
   "cell_type": "code",
   "execution_count": 12,
   "id": "73123fe3-516c-4dfc-9578-2410ec34c5f9",
   "metadata": {},
   "outputs": [],
   "source": [
    "from pyiron_base import TemplateJob"
   ]
  },
  {
   "cell_type": "code",
   "execution_count": 13,
   "id": "8bbf7a25-1932-4987-8005-c9a46a41be8b",
   "metadata": {},
   "outputs": [],
   "source": [
    "class ToyTemplateJob(TemplateJob):\n",
    "    def __init__(self, project, job_name):\n",
    "        super(ToyTemplateJob, self).__init__(project, job_name)\n",
    "        self.executable = \"cat input > output\"\n",
    "\n",
    "    def write_input(self):\n",
    "        with open(os.path.join(self.working_directory, \"input\"), \"w\") as f:\n",
    "            f.write(str(job.input.energy))\n",
    "\n",
    "    def collect_output(self):\n",
    "        with open(os.path.join(self.working_directory, \"output\"), \"r\") as f:\n",
    "            job.output.energy = f.read()\n",
    "        job.to_hdf()"
   ]
  },
  {
   "cell_type": "code",
   "execution_count": 14,
   "id": "d82f0db8-979e-43df-bd62-24b03d9f587d",
   "metadata": {},
   "outputs": [],
   "source": [
    "pr = Project('test')"
   ]
  },
  {
   "cell_type": "code",
   "execution_count": 15,
   "id": "bcdd5473-2cdf-4f35-a5e4-861c53426e09",
   "metadata": {},
   "outputs": [
    {
     "data": {
      "application/vnd.jupyter.widget-view+json": {
       "model_id": "d6192e0450ce4dd0bc17966865579803",
       "version_major": 2,
       "version_minor": 0
      },
      "text/plain": [
       "  0%|          | 0/1 [00:00<?, ?it/s]"
      ]
     },
     "metadata": {},
     "output_type": "display_data"
    }
   ],
   "source": [
    "pr.remove_jobs(recursive=True, silently=True)"
   ]
  },
  {
   "cell_type": "code",
   "execution_count": 16,
   "id": "5628ffba-f558-487d-8efb-e3818cec1508",
   "metadata": {},
   "outputs": [],
   "source": [
    "job = pr.create_job(ToyTemplateJob, job_name=\"toytemp\")"
   ]
  },
  {
   "cell_type": "code",
   "execution_count": 17,
   "id": "4e87a800-c21b-4e6b-a497-11b54f3407c5",
   "metadata": {},
   "outputs": [],
   "source": [
    "job.input.energy = 100"
   ]
  },
  {
   "cell_type": "code",
   "execution_count": 18,
   "id": "30d84d37-de01-4cba-86fa-879b9db0b2c1",
   "metadata": {},
   "outputs": [
    {
     "name": "stdout",
     "output_type": "stream",
     "text": [
      "The job toytemp was saved and received the ID: 157\n"
     ]
    }
   ],
   "source": [
    "job.run()"
   ]
  },
  {
   "cell_type": "code",
   "execution_count": 19,
   "id": "88dff6e3-5a23-4ac4-8865-39940057cd13",
   "metadata": {},
   "outputs": [
    {
     "data": {
      "text/plain": [
       "'100'"
      ]
     },
     "execution_count": 19,
     "metadata": {},
     "output_type": "execute_result"
    }
   ],
   "source": [
    "job.output.energy"
   ]
  },
  {
   "cell_type": "markdown",
   "id": "4bb32aa8-5d6f-414b-8c4f-912e128e6bda",
   "metadata": {},
   "source": [
    "# Python Template Job\n",
    "For jobs which primarily consist of an existing Python function."
   ]
  },
  {
   "cell_type": "code",
   "execution_count": 20,
   "id": "9ef0e333-f9e3-418d-8578-1ad66a1114f6",
   "metadata": {},
   "outputs": [],
   "source": [
    "from pyiron_base import PythonTemplateJob"
   ]
  },
  {
   "cell_type": "code",
   "execution_count": 21,
   "id": "4202c0d6-0849-46f7-90b7-6fcbd9f05ce8",
   "metadata": {},
   "outputs": [],
   "source": [
    "def calculation(value):\n",
    "    return 2 * value"
   ]
  },
  {
   "cell_type": "code",
   "execution_count": 22,
   "id": "08ff35db-1b44-4870-b5c8-8cbdde49206b",
   "metadata": {},
   "outputs": [],
   "source": [
    "class ToyJob(PythonTemplateJob):\n",
    "    def __init__(self, project, job_name):\n",
    "        super().__init__(project, job_name) \n",
    "        self.input.value = None\n",
    "\n",
    "    def run_static(self):\n",
    "        self.output.result = calculation(self.input.value)\n",
    "        self.status.finished = True\n",
    "        self.to_hdf()"
   ]
  },
  {
   "cell_type": "code",
   "execution_count": 23,
   "id": "c9c6cd3d-6564-4e40-be96-1ded99604a9b",
   "metadata": {},
   "outputs": [],
   "source": [
    "pr = Project('template')"
   ]
  },
  {
   "cell_type": "code",
   "execution_count": 24,
   "id": "0e30c4df-3f38-411b-ad1b-943808375251",
   "metadata": {},
   "outputs": [
    {
     "data": {
      "application/vnd.jupyter.widget-view+json": {
       "model_id": "fb9f31bb2ba94703881ddda45855f24d",
       "version_major": 2,
       "version_minor": 0
      },
      "text/plain": [
       "  0%|          | 0/2 [00:00<?, ?it/s]"
      ]
     },
     "metadata": {},
     "output_type": "display_data"
    }
   ],
   "source": [
    "pr.remove_jobs(recursive=True, silently=True)"
   ]
  },
  {
   "cell_type": "code",
   "execution_count": 25,
   "id": "5e2e1881-34c1-4614-a8dd-38fbed0cc4c3",
   "metadata": {},
   "outputs": [],
   "source": [
    "job = pr.create_job(ToyJob, job_name=\"toy\")"
   ]
  },
  {
   "cell_type": "code",
   "execution_count": 26,
   "id": "b407b152-aa6e-4010-95e7-0ba8774bcc02",
   "metadata": {},
   "outputs": [],
   "source": [
    "job.input.value = 5"
   ]
  },
  {
   "cell_type": "code",
   "execution_count": 27,
   "id": "fbbffc41-8e09-462b-b34d-e87689af6fa3",
   "metadata": {},
   "outputs": [
    {
     "name": "stdout",
     "output_type": "stream",
     "text": [
      "The job toy was saved and received the ID: 158\n"
     ]
    }
   ],
   "source": [
    "job.run()"
   ]
  },
  {
   "cell_type": "code",
   "execution_count": 28,
   "id": "5e406721-12a2-4f48-8bfb-e06fe3eb6ba8",
   "metadata": {},
   "outputs": [
    {
     "data": {
      "application/json": {
       "result": "10"
      },
      "text/html": [
       "<pre>DataContainer({\n",
       "  \"result\": \"10\"\n",
       "})</pre>"
      ],
      "text/plain": [
       "DataContainer({'result': 10})"
      ]
     },
     "execution_count": 28,
     "metadata": {},
     "output_type": "execute_result"
    }
   ],
   "source": [
    "job.output"
   ]
  },
  {
   "cell_type": "code",
   "execution_count": 29,
   "id": "488ff44a-00fc-4be6-9b87-ae95bdd9dadc",
   "metadata": {},
   "outputs": [
    {
     "data": {
      "text/plain": [
       "10"
      ]
     },
     "execution_count": 29,
     "metadata": {},
     "output_type": "execute_result"
    }
   ],
   "source": [
    "job.output.result"
   ]
  },
  {
   "cell_type": "markdown",
   "id": "9439c937-0e4d-4173-aef4-728671687dac",
   "metadata": {},
   "source": [
    "# For testing"
   ]
  },
  {
   "cell_type": "code",
   "execution_count": 30,
   "id": "1e3c7761-1eef-424c-b8fe-2c406219bcec",
   "metadata": {},
   "outputs": [],
   "source": [
    "def write_input(input_dict, working_directory):\n",
    "    with open(os.path.join(working_directory, \"input\"), \"w\") as f:\n",
    "        f.write(str(input_dict[\"energy\"]))"
   ]
  },
  {
   "cell_type": "code",
   "execution_count": 31,
   "id": "1dc3da8a-6718-4ea6-8d23-07ee59126d1b",
   "metadata": {},
   "outputs": [],
   "source": [
    "def collect_output(working_directory):\n",
    "    with open(os.path.join(working_directory, \"output\"), \"r\") as f:\n",
    "        return {\n",
    "            \"energy\": f.read()\n",
    "        }"
   ]
  },
  {
   "cell_type": "code",
   "execution_count": 32,
   "id": "47bf4b9a-ddde-48df-9b66-fe6b1ced9265",
   "metadata": {},
   "outputs": [],
   "source": [
    "pr = Project('template')"
   ]
  },
  {
   "cell_type": "code",
   "execution_count": 33,
   "id": "22f2ec9f-44a7-471c-a908-0ac5bac85339",
   "metadata": {},
   "outputs": [
    {
     "data": {
      "application/vnd.jupyter.widget-view+json": {
       "model_id": "5c0d79a573ec4e0a8b8e5f77df618354",
       "version_major": 2,
       "version_minor": 0
      },
      "text/plain": [
       "  0%|          | 0/1 [00:00<?, ?it/s]"
      ]
     },
     "metadata": {},
     "output_type": "display_data"
    }
   ],
   "source": [
    "pr.remove_jobs(recursive=True, silently=True)"
   ]
  },
  {
   "cell_type": "code",
   "execution_count": 34,
   "id": "b477018d-37ff-476d-95b1-5324441f398e",
   "metadata": {},
   "outputs": [],
   "source": [
    "pr.create_job_class(\n",
    "    class_name=\"ToyJob\",\n",
    "    write_input_funct=write_input,\n",
    "    collect_output_funct=collect_output,\n",
    "    default_input_dict={  # Default Parameter \n",
    "        \"energy\": 100.0, \n",
    "    },\n",
    "    executable_str=\"cat input > output\",\n",
    ")"
   ]
  },
  {
   "cell_type": "code",
   "execution_count": 35,
   "id": "9b02145e-fec3-4d33-98c0-5656a5908439",
   "metadata": {},
   "outputs": [],
   "source": [
    "job = pr.create.job.ToyJob(job_name=\"toy\")"
   ]
  },
  {
   "cell_type": "code",
   "execution_count": 36,
   "id": "f9d2b395-7ffe-4636-abae-466efe17a2f0",
   "metadata": {},
   "outputs": [
    {
     "data": {
      "application/json": {
       "energy": "100.0"
      },
      "text/html": [
       "<pre>DataContainer({\n",
       "  \"energy\": \"100.0\"\n",
       "})</pre>"
      ],
      "text/plain": [
       "DataContainer({'energy': 100.0})"
      ]
     },
     "execution_count": 36,
     "metadata": {},
     "output_type": "execute_result"
    }
   ],
   "source": [
    "job.input"
   ]
  },
  {
   "cell_type": "code",
   "execution_count": 37,
   "id": "0282b1c3-4bbf-4a5a-b027-0e3b32a0e0dc",
   "metadata": {},
   "outputs": [
    {
     "name": "stdout",
     "output_type": "stream",
     "text": [
      "The job toy was saved and received the ID: 158\n"
     ]
    }
   ],
   "source": [
    "job.run()"
   ]
  },
  {
   "cell_type": "code",
   "execution_count": 38,
   "id": "c36fd558-f269-4cb1-bdd7-c4a5df2202e0",
   "metadata": {},
   "outputs": [
    {
     "data": {
      "application/json": {
       "energy": "'100.0'",
       "stdout": "''"
      },
      "text/html": [
       "<pre>DataContainer({\n",
       "  \"stdout\": \"''\",\n",
       "  \"energy\": \"'100.0'\"\n",
       "})</pre>"
      ],
      "text/plain": [
       "DataContainer({'stdout': '', 'energy': '100.0'})"
      ]
     },
     "execution_count": 38,
     "metadata": {},
     "output_type": "execute_result"
    }
   ],
   "source": [
    "job.output"
   ]
  },
  {
   "cell_type": "code",
   "execution_count": 39,
   "id": "9af85b52-7b62-45ca-999d-c81645094998",
   "metadata": {},
   "outputs": [],
   "source": [
    "def calculation(value):\n",
    "    return 2 * value"
   ]
  },
  {
   "cell_type": "code",
   "execution_count": 40,
   "id": "227832ac-f772-43f2-87bf-17227d9c5733",
   "metadata": {},
   "outputs": [],
   "source": [
    "job_calc = pr.wrap_python_function(calculation)"
   ]
  },
  {
   "cell_type": "code",
   "execution_count": 41,
   "id": "a31f233d-49ad-4eed-bc04-544bd0732225",
   "metadata": {},
   "outputs": [],
   "source": [
    "job_calc.input.value = 100"
   ]
  },
  {
   "cell_type": "code",
   "execution_count": 42,
   "id": "a26170d4-443c-442b-9cc6-35cbcd1d3c63",
   "metadata": {},
   "outputs": [
    {
     "name": "stdout",
     "output_type": "stream",
     "text": [
      "The job calculation_e3cd70ecfcd6595bfd3de99721d2e84c was saved and received the ID: 159\n"
     ]
    }
   ],
   "source": [
    "job_calc.run()"
   ]
  },
  {
   "cell_type": "code",
   "execution_count": 43,
   "id": "b0d6de3c-3baf-4693-a7f6-b1c52a238455",
   "metadata": {},
   "outputs": [
    {
     "data": {
      "application/json": {
       "result": "200"
      },
      "text/html": [
       "<pre>DataContainer({\n",
       "  \"result\": \"200\"\n",
       "})</pre>"
      ],
      "text/plain": [
       "DataContainer({'result': 200})"
      ]
     },
     "execution_count": 43,
     "metadata": {},
     "output_type": "execute_result"
    }
   ],
   "source": [
    "job_calc.output"
   ]
  },
  {
   "cell_type": "markdown",
   "id": "294182a8-3fac-4545-a23b-ae515b544e88",
   "metadata": {},
   "source": [
    "# Job decorator "
   ]
  },
  {
   "cell_type": "code",
   "execution_count": 44,
   "id": "aeb4670e-19f2-44bd-8565-dc49560dc0d2",
   "metadata": {},
   "outputs": [],
   "source": [
    "from pyiron_base import job"
   ]
  },
  {
   "cell_type": "code",
   "execution_count": 45,
   "id": "89d096aa-4357-4b0c-be07-b4d5a8fe7506",
   "metadata": {},
   "outputs": [],
   "source": [
    "@job\n",
    "def calculation(value):\n",
    "    return 2 * value"
   ]
  },
  {
   "cell_type": "code",
   "execution_count": 46,
   "id": "7f22b438-74d7-48b0-a0e3-8d2823080c86",
   "metadata": {},
   "outputs": [],
   "source": [
    "result = calculation(value=5)"
   ]
  },
  {
   "cell_type": "code",
   "execution_count": 47,
   "id": "8da875eb-447f-4b81-bc02-5042592f5a82",
   "metadata": {},
   "outputs": [
    {
     "data": {
      "text/plain": [
       "10"
      ]
     },
     "execution_count": 47,
     "metadata": {},
     "output_type": "execute_result"
    }
   ],
   "source": [
    "result.pull()"
   ]
  },
  {
   "cell_type": "code",
   "execution_count": null,
   "id": "71c8e328-ca2e-4401-80f7-3dae66f83794",
   "metadata": {},
   "outputs": [],
   "source": []
  },
  {
   "cell_type": "code",
   "execution_count": null,
   "id": "3c95ed92-dd63-4672-8dcc-b5747f712f5a",
   "metadata": {},
   "outputs": [],
   "source": []
  }
 ],
 "metadata": {
  "kernelspec": {
   "display_name": "Python 3 (ipykernel)",
   "language": "python",
   "name": "python3"
  },
  "language_info": {
   "codemirror_mode": {
    "name": "ipython",
    "version": 3
   },
   "file_extension": ".py",
   "mimetype": "text/x-python",
   "name": "python",
   "nbconvert_exporter": "python",
   "pygments_lexer": "ipython3",
   "version": "3.12.10"
  }
 },
 "nbformat": 4,
 "nbformat_minor": 5
}
